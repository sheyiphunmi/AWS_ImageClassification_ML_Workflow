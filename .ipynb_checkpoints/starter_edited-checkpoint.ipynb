{
 "cells": [
  {
   "cell_type": "markdown",
   "metadata": {},
   "source": [
    "# Deploy and monitor a machine learning workflow for Image Classification"
   ]
  },
  {
   "cell_type": "markdown",
   "metadata": {},
   "source": [
    "## Setting up this notebook\n",
    "\n",
    "Notes about the instance size and kernel setup: this notebook has been tested on\n",
    "\n",
    "1. The `Python 3 (Data Science)` kernel\n",
    "2. The `ml.t3.medium` Sagemaker notebook instance\n",
    "\n",
    "## Data Staging\n",
    "\n",
    "We'll use a sample dataset called CIFAR to simulate the challenges Scones Unlimited are facing in Image Classification. In order to start working with CIFAR we'll need to:\n",
    "\n",
    "1. Extract the data from a hosting service\n",
    "2. Transform it into a usable shape and format\n",
    "3. Load it into a production system\n",
    "\n",
    "In other words, we're going to do some simple ETL!\n",
    "\n",
    "### 1. Extract the data from the hosting service\n",
    "\n",
    "In the cell below, define a function `extract_cifar_data` that extracts python version of the CIFAR-100 dataset. The CIFAR dataaset is open source and generously hosted by the University of Toronto at: https://www.cs.toronto.edu/~kriz/cifar-100-python.tar.gz "
   ]
  },
  {
   "cell_type": "code",
   "execution_count": 2,
   "metadata": {
    "tags": []
   },
   "outputs": [],
   "source": [
    "import requests\n",
    "\n",
    "def extract_cifar_data(url, filename=\"cifar.tar.gz\"):\n",
    "    \"\"\"A function for extracting the CIFAR-100 dataset and storing it as a gzipped file\n",
    "    \n",
    "    Arguments:\n",
    "    url      -- the URL where the dataset is hosted\n",
    "    filename -- the full path where the dataset will be written\n",
    "    \n",
    "    \"\"\"\n",
    "\n",
    "    # request the data from the data url\n",
    "    r = requests.get(url)\n",
    "    with open(filename, \"wb\") as file_context:\n",
    "        file_context.write(r.content)\n",
    "    return"
   ]
  },
  {
   "cell_type": "code",
   "execution_count": 3,
   "metadata": {
    "tags": []
   },
   "outputs": [],
   "source": [
    "url = \" https://www.cs.toronto.edu/~kriz/cifar-100-python.tar.gz\"\n",
    "extract_cifar_data(url, filename=\"cifar.tar.gz\")"
   ]
  },
  {
   "cell_type": "markdown",
   "metadata": {},
   "source": [
    "### 2. Transform the data into a usable shape and format\n",
    "\n",
    "Clearly, distributing the data as a gzipped archive makes sense for the hosting service! It saves on bandwidth, storage, and it's a widely-used archive format. In fact, it's so widely used that the Python community ships a utility for working with them, `tarfile`, as part of its Standard Library. Execute the following cell to decompress your extracted dataset:"
   ]
  },
  {
   "cell_type": "code",
   "execution_count": 4,
   "metadata": {
    "tags": []
   },
   "outputs": [],
   "source": [
    "import tarfile\n",
    "\n",
    "with tarfile.open(\"cifar.tar.gz\", \"r:gz\") as tar:\n",
    "    tar.extractall()"
   ]
  },
  {
   "cell_type": "markdown",
   "metadata": {},
   "source": [
    "A new folder `cifar-100-python` should be created, containing `meta`, `test`, and `train` files. These files are `pickles` and the [CIFAR homepage](https://www.cs.toronto.edu/~kriz/cifar.html) provides a simple script that can be used to load them. We've adapted the script below for you to run:"
   ]
  },
  {
   "cell_type": "code",
   "execution_count": 5,
   "metadata": {
    "tags": []
   },
   "outputs": [],
   "source": [
    "import pickle\n",
    "\n",
    "with open(\"./cifar-100-python/meta\", \"rb\") as f:\n",
    "    dataset_meta = pickle.load(f, encoding='bytes')\n",
    "\n",
    "with open(\"./cifar-100-python/test\", \"rb\") as f:\n",
    "    dataset_test = pickle.load(f, encoding='bytes')\n",
    "\n",
    "with open(\"./cifar-100-python/train\", \"rb\") as f:\n",
    "    dataset_train = pickle.load(f, encoding='bytes')"
   ]
  },
  {
   "cell_type": "code",
   "execution_count": 6,
   "metadata": {
    "tags": []
   },
   "outputs": [
    {
     "data": {
      "text/plain": [
       "dict_keys([b'filenames', b'batch_label', b'fine_labels', b'coarse_labels', b'data'])"
      ]
     },
     "execution_count": 6,
     "metadata": {},
     "output_type": "execute_result"
    }
   ],
   "source": [
    "dataset_train.keys()"
   ]
  },
  {
   "cell_type": "markdown",
   "metadata": {},
   "source": [
    "As documented on the homepage, `b'data'` contains rows of 3073 unsigned integers, representing three channels (red, green, and blue) for one 32x32 pixel image per row."
   ]
  },
  {
   "cell_type": "code",
   "execution_count": 7,
   "metadata": {
    "tags": []
   },
   "outputs": [
    {
     "data": {
      "text/plain": [
       "3072"
      ]
     },
     "execution_count": 7,
     "metadata": {},
     "output_type": "execute_result"
    }
   ],
   "source": [
    "32*32*3"
   ]
  },
  {
   "cell_type": "markdown",
   "metadata": {},
   "source": [
    "For a simple gut-check, let's transform one of our images. Each 1024 items in a row is a channel (red, green, then blue). Each 32 items in the channel are a row in the 32x32 image. Using python, we can stack these channels into a 32x32x3 array, and save it as a PNG file:"
   ]
  },
  {
   "cell_type": "code",
   "execution_count": 8,
   "metadata": {
    "tags": []
   },
   "outputs": [],
   "source": [
    "import numpy as np\n",
    "\n",
    "# Each 1024 in a row is a channel (red, green, then blue)\n",
    "row = dataset_train[b'data'][0]\n",
    "red, green, blue = row[0:1024], row[1024:2048], row[2048:]\n",
    "\n",
    "# Each 32 items in the channel are a row in the 32x32 image\n",
    "red = red.reshape(32,32)\n",
    "green = green.reshape(32,32)\n",
    "blue = blue.reshape(32,32)\n",
    "\n",
    "# Combine the channels into a 32x32x3 image!\n",
    "combined = np.dstack((red,green,blue))"
   ]
  },
  {
   "cell_type": "markdown",
   "metadata": {},
   "source": [
    "For a more concise version, consider the following:"
   ]
  },
  {
   "cell_type": "code",
   "execution_count": 9,
   "metadata": {
    "tags": []
   },
   "outputs": [],
   "source": [
    "# All in one:\n",
    "test_image = np.dstack((\n",
    "    row[0:1024].reshape(32,32),\n",
    "    row[1024:2048].reshape(32,32),\n",
    "    row[2048:].reshape(32,32)\n",
    "))"
   ]
  },
  {
   "cell_type": "code",
   "execution_count": 10,
   "metadata": {
    "tags": []
   },
   "outputs": [],
   "source": [
    "%matplotlib inline"
   ]
  },
  {
   "cell_type": "code",
   "execution_count": 11,
   "metadata": {
    "tags": []
   },
   "outputs": [
    {
     "data": {
      "image/png": "[encoded data removed]",
      "text/plain": [
       "<Figure size 640x480 with 1 Axes>"
      ]
     },
     "metadata": {},
     "output_type": "display_data"
    }
   ],
   "source": [
    "import matplotlib.pyplot as plt\n",
    "plt.imshow(test_image);"
   ]
  },
  {
   "cell_type": "markdown",
   "metadata": {},
   "source": [
    "Looks like a cow! Let's check the label. `dataset_meta` contains label names in order, and `dataset_train` has a list of labels for each row."
   ]
  },
  {
   "cell_type": "code",
   "execution_count": 12,
   "metadata": {
    "tags": []
   },
   "outputs": [
    {
     "data": {
      "text/plain": [
       "19"
      ]
     },
     "execution_count": 12,
     "metadata": {},
     "output_type": "execute_result"
    }
   ],
   "source": [
    "dataset_train[b'fine_labels'][0]"
   ]
  },
  {
   "cell_type": "markdown",
   "metadata": {},
   "source": [
    "Our image has a label of `19`, so let's see what the 19th item is in the list of label names."
   ]
  },
  {
   "cell_type": "code",
   "execution_count": 13,
   "metadata": {},
   "outputs": [
    {
     "name": "stdout",
     "output_type": "stream",
     "text": [
      "b'cattle'\n"
     ]
    }
   ],
   "source": [
    "print(dataset_meta[b'fine_label_names'][19])"
   ]
  },
  {
   "cell_type": "markdown",
   "metadata": {},
   "source": [
    "Ok! 'cattle' sounds about right. By the way, using the previous two lines we can do:"
   ]
  },
  {
   "cell_type": "code",
   "execution_count": 14,
   "metadata": {
    "tags": []
   },
   "outputs": [
    {
     "name": "stdout",
     "output_type": "stream",
     "text": [
      "b'cattle'\n"
     ]
    }
   ],
   "source": [
    "n = 0\n",
    "print(dataset_meta[b'fine_label_names'][dataset_train[b'fine_labels'][n]])"
   ]
  },
  {
   "cell_type": "markdown",
   "metadata": {},
   "source": [
    "Now we know how to check labels, is there a way that we can also check file names? `dataset_train` also contains a `b'filenames'` key. Let's see what we have here:"
   ]
  },
  {
   "cell_type": "code",
   "execution_count": 15,
   "metadata": {
    "tags": []
   },
   "outputs": [
    {
     "name": "stdout",
     "output_type": "stream",
     "text": [
      "b'bos_taurus_s_000507.png'\n"
     ]
    }
   ],
   "source": [
    "print(dataset_train[b'filenames'][0])"
   ]
  },
  {
   "cell_type": "markdown",
   "metadata": {},
   "source": [
    "\"Taurus\" is the name of a subspecies of cattle, so this looks like a pretty reasonable filename. To save an image we can also do:"
   ]
  },
  {
   "cell_type": "code",
   "execution_count": 16,
   "metadata": {
    "tags": []
   },
   "outputs": [],
   "source": [
    "plt.imsave(\"file.png\", test_image)"
   ]
  },
  {
   "cell_type": "markdown",
   "metadata": {},
   "source": [
    "Your new PNG file should now appear in the file explorer -- go ahead and pop it open to see!\n",
    "\n",
    "Now that you know how to reshape the images, save them as files, and capture their filenames and labels, let's just capture all the bicycles and motorcycles and save them. Scones Unlimited can use a model that tells these apart to route delivery drivers automatically.\n",
    "\n",
    "In the following cell, identify the label numbers for Bicycles and Motorcycles:"
   ]
  },
  {
   "cell_type": "code",
   "execution_count": 17,
   "metadata": {
    "tags": []
   },
   "outputs": [
    {
     "name": "stdout",
     "output_type": "stream",
     "text": [
      "{b'bicycle': 8, b'motorcycle': 48}\n",
      "\n"
     ]
    },
    {
     "data": {
      "text/plain": [
       "{b'bicycle': 8, b'motorcycle': 48}"
      ]
     },
     "execution_count": 17,
     "metadata": {},
     "output_type": "execute_result"
    }
   ],
   "source": [
    "import pandas as pd\n",
    "\n",
    "# Filter the dataset_train and dataset_meta objects to find the label numbers for Bicycle and Motorcycles\n",
    "item_attr = {}\n",
    "for idx, label in enumerate(dataset_meta[b'fine_label_names']):\n",
    "    if label == b'bicycle' or label == b'motorcycle':\n",
    "        item_attr[label] = idx\n",
    "print(item_attr)\n",
    "\n",
    "\n",
    "\n",
    "### Using Dictionary Comprehension\n",
    "print()\n",
    "{label:idx for idx, label in enumerate(dataset_meta[b'fine_label_names']) if label == b'bicycle' or label == b'motorcycle'}\n",
    "\n",
    "\n",
    "\n"
   ]
  },
  {
   "cell_type": "markdown",
   "metadata": {},
   "source": [
    "Good job! We only need objects with label 8 and 48 -- this drastically simplifies our handling of the data! Below we construct a dataframe for you, and you can safely drop the rows that don't contain observations about bicycles and motorcycles. Fill in the missing lines below to drop all other rows:"
   ]
  },
  {
   "cell_type": "code",
   "execution_count": 18,
   "metadata": {
    "tags": []
   },
   "outputs": [],
   "source": [
    "#Construct the dataframe\n",
    "df_train = pd.DataFrame({\n",
    "    \"filenames\": dataset_train[b'filenames'],\n",
    "    \"labels\": dataset_train[b'fine_labels'],\n",
    "    \"row\": range(len(dataset_train[b'filenames']))\n",
    "})\n",
    "\n",
    "# print(df_train)\n",
    "\n",
    "# Drop all rows from df_train where label is not 8 or 48\n",
    "df_train = df_train[df_train['labels'].isin([8,48])]      ## df_train = df_train[(df_train['labels'] == 8) | (df_train['labels'] == 48)]\n",
    "# print(df_train.shape)\n",
    "\n",
    "# Decode df_train.filenames so they are regular strings\n",
    "df_train[\"filenames\"] = df_train[\"filenames\"].apply(\n",
    "    lambda x: x.decode(\"utf-8\")\n",
    ")\n",
    "\n",
    "# df_train.head()\n",
    "\n",
    "df_test = pd.DataFrame({\n",
    "    \"filenames\": dataset_test[b'filenames'],\n",
    "    \"labels\": dataset_test[b'fine_labels'],\n",
    "    \"row\": range(len(dataset_test[b'filenames']))\n",
    "})\n",
    "\n",
    "# # Drop all rows from df_test where label is not 8 or 48\n",
    "df_test = df_test[df_test['labels'].isin([8,48])]\n",
    "#print(df_test.shape)\n",
    "\n",
    "# Decode df_test.filenames so they are regular strings\n",
    "df_test[\"filenames\"] = df_test[\"filenames\"].apply(\n",
    "    lambda x: x.decode(\"utf-8\")\n",
    ")"
   ]
  },
  {
   "cell_type": "markdown",
   "metadata": {},
   "source": [
    "Now that the data is filtered for just our classes, we can save all our images."
   ]
  },
  {
   "cell_type": "code",
   "execution_count": 27,
   "metadata": {
    "tags": []
   },
   "outputs": [],
   "source": [
    "!mkdir ./train\n",
    "!mkdir ./test"
   ]
  },
  {
   "cell_type": "markdown",
   "metadata": {},
   "source": [
    "In the previous sections we introduced you to several key snippets of code:\n",
    "\n",
    "1. Grabbing the image data:\n",
    "\n",
    "```python\n",
    "dataset_train[b'data'][0]\n",
    "```\n",
    "\n",
    "2. A simple idiom for stacking the image data into the right shape\n",
    "\n",
    "```python\n",
    "import numpy as np\n",
    "np.dstack((\n",
    "    row[0:1024].reshape(32,32),\n",
    "    row[1024:2048].reshape(32,32),\n",
    "    row[2048:].reshape(32,32)\n",
    "))\n",
    "```\n",
    "\n",
    "3. A simple `matplotlib` utility for saving images\n",
    "\n",
    "```python\n",
    "plt.imsave(path+row['filenames'], target)\n",
    "```\n",
    "\n",
    "Compose these together into a function that saves all the images into the `./test` and `./train` directories. Use the comments in the body of the `save_images` function below to guide your construction of the function:\n"
   ]
  },
  {
   "cell_type": "code",
   "execution_count": 19,
   "metadata": {
    "tags": []
   },
   "outputs": [
    {
     "name": "stdout",
     "output_type": "stream",
     "text": [
      "49999\n"
     ]
    }
   ],
   "source": [
    "for a,b in enumerate(dataset_train[b'data']):\n",
    "    pass\n",
    "print(a)"
   ]
  },
  {
   "cell_type": "code",
   "execution_count": 20,
   "metadata": {
    "tags": []
   },
   "outputs": [
    {
     "data": {
      "text/html": [
       "<div>\n",
       "<style scoped>\n",
       "    .dataframe tbody tr th:only-of-type {\n",
       "        vertical-align: middle;\n",
       "    }\n",
       "\n",
       "    .dataframe tbody tr th {\n",
       "        vertical-align: top;\n",
       "    }\n",
       "\n",
       "    .dataframe thead th {\n",
       "        text-align: right;\n",
       "    }\n",
       "</style>\n",
       "<table border=\"1\" class=\"dataframe\">\n",
       "  <thead>\n",
       "    <tr style=\"text-align: right;\">\n",
       "      <th></th>\n",
       "      <th>filenames</th>\n",
       "      <th>labels</th>\n",
       "      <th>row</th>\n",
       "    </tr>\n",
       "  </thead>\n",
       "  <tbody>\n",
       "    <tr>\n",
       "      <th>49578</th>\n",
       "      <td>velocipede_s_000010.png</td>\n",
       "      <td>8</td>\n",
       "      <td>49578</td>\n",
       "    </tr>\n",
       "    <tr>\n",
       "      <th>49588</th>\n",
       "      <td>motorcycle_s_001247.png</td>\n",
       "      <td>48</td>\n",
       "      <td>49588</td>\n",
       "    </tr>\n",
       "    <tr>\n",
       "      <th>49882</th>\n",
       "      <td>motorcycle_s_000724.png</td>\n",
       "      <td>48</td>\n",
       "      <td>49882</td>\n",
       "    </tr>\n",
       "    <tr>\n",
       "      <th>49962</th>\n",
       "      <td>velocipede_s_001637.png</td>\n",
       "      <td>8</td>\n",
       "      <td>49962</td>\n",
       "    </tr>\n",
       "    <tr>\n",
       "      <th>49985</th>\n",
       "      <td>motorcycle_s_000291.png</td>\n",
       "      <td>48</td>\n",
       "      <td>49985</td>\n",
       "    </tr>\n",
       "  </tbody>\n",
       "</table>\n",
       "</div>"
      ],
      "text/plain": [
       "                     filenames  labels    row\n",
       "49578  velocipede_s_000010.png       8  49578\n",
       "49588  motorcycle_s_001247.png      48  49588\n",
       "49882  motorcycle_s_000724.png      48  49882\n",
       "49962  velocipede_s_001637.png       8  49962\n",
       "49985  motorcycle_s_000291.png      48  49985"
      ]
     },
     "execution_count": 20,
     "metadata": {},
     "output_type": "execute_result"
    }
   ],
   "source": [
    "df_train.tail()"
   ]
  },
  {
   "cell_type": "code",
   "execution_count": 21,
   "metadata": {
    "tags": []
   },
   "outputs": [
    {
     "data": {
      "text/plain": [
       "49985"
      ]
     },
     "execution_count": 21,
     "metadata": {},
     "output_type": "execute_result"
    }
   ],
   "source": [
    "for row_id in df_train['row']:\n",
    "    pass\n",
    "row_id"
   ]
  },
  {
   "cell_type": "code",
   "execution_count": 22,
   "metadata": {
    "tags": []
   },
   "outputs": [
    {
     "data": {
      "text/plain": [
       "array([ 75,  97,  94, ..., 157, 153, 151], dtype=uint8)"
      ]
     },
     "execution_count": 22,
     "metadata": {},
     "output_type": "execute_result"
    }
   ],
   "source": [
    "dataset_train[b'data'][49985]"
   ]
  },
  {
   "cell_type": "code",
   "execution_count": 23,
   "metadata": {
    "tags": []
   },
   "outputs": [
    {
     "data": {
      "text/plain": [
       "'motorcycle_s_000291.png'"
      ]
     },
     "execution_count": 23,
     "metadata": {},
     "output_type": "execute_result"
    }
   ],
   "source": [
    "df_train['filenames'][49985]"
   ]
  },
  {
   "cell_type": "code",
   "execution_count": 24,
   "metadata": {
    "tags": []
   },
   "outputs": [],
   "source": [
    "import os\n",
    "def save_images(subset_df, orig_df, path_to_save):\n",
    "    image_names = []\n",
    "    #Grab the image data in row-major form\n",
    "    for row_id in subset_df['row']:\n",
    "        image_name = subset_df['filenames'][row_id]\n",
    "        image_data = orig_df[b'data'][row_id]\n",
    "        # image_name = orig_train_df[b'filenames'][row_id]\n",
    "        # image_name = image_name.decode('utf-8')\n",
    "        image_names.append(image_name)\n",
    "\n",
    "        # Consolidated stacking/reshaping from earlier\n",
    "        target = np.dstack((\n",
    "                        image_data[0:1024].reshape(32,32),     #red channel\n",
    "                        image_data[1024:2048].reshape(32,32),   #green channel\n",
    "                        image_data[2048:].reshape(32,32)       #blue\n",
    "                    ))\n",
    "\n",
    "        # Save the image\n",
    "        img_filepath = os.path.join(path_to_save, image_name)\n",
    "        plt.imsave(img_filepath, target)\n",
    "    # Return any signal data you want for debugging\n",
    "    return (f\"{len(image_names)} images saved successfully\")"
   ]
  },
  {
   "cell_type": "code",
   "execution_count": 28,
   "metadata": {
    "tags": []
   },
   "outputs": [
    {
     "data": {
      "text/plain": [
       "'1000 images saved successfully'"
      ]
     },
     "execution_count": 28,
     "metadata": {},
     "output_type": "execute_result"
    }
   ],
   "source": [
    "save_images(subset_df = df_train, orig_df = dataset_train, path_to_save = './train')"
   ]
  },
  {
   "cell_type": "code",
   "execution_count": 29,
   "metadata": {
    "tags": []
   },
   "outputs": [
    {
     "data": {
      "text/plain": [
       "'200 images saved successfully'"
      ]
     },
     "execution_count": 29,
     "metadata": {},
     "output_type": "execute_result"
    }
   ],
   "source": [
    "save_images(subset_df = df_test, orig_df = dataset_test, path_to_save = './test')"
   ]
  },
  {
   "cell_type": "code",
   "execution_count": 28,
   "metadata": {
    "tags": []
   },
   "outputs": [],
   "source": [
    "# import os\n",
    "# def save_images(image_df, path_to_save):\n",
    "#     #Grab the image data in row-major form\n",
    "#     for row_id, row_data in enumerate(image_df[b'data']):\n",
    "#         image_name = image_df[b'filenames'][row_id]\n",
    "#         image_name = image_name.decode('utf-8')\n",
    "#         print(image_name)\n",
    "\n",
    "#         # Consolidated stacking/reshaping from earlier\n",
    "#         target = np.dstack((\n",
    "#                         row_data[0:1024].reshape(32,32),     #red channel\n",
    "#                         row_data[1024:2048].reshape(32,32),   #green channel\n",
    "#                         row_data[2048:].reshape(32,32)       #blue\n",
    "#                     ))\n",
    "\n",
    "#         # Save the image\n",
    "#         img_filepath = os.path.join(path_to_save, image_name)\n",
    "#         plt.imsave(img_filepath, target)\n",
    "    \n",
    "#     # Return any signal data you want for debugging\n",
    "#     return (f\"Image saved successfully!!\")\n",
    "\n",
    "# ## TODO: save ALL images using the save_images function"
   ]
  },
  {
   "cell_type": "markdown",
   "metadata": {},
   "source": [
    "### 3. Load the data\n",
    "\n",
    "Now we can load the data into S3.\n",
    "\n",
    "Using the sagemaker SDK grab the current region, execution role, and bucket."
   ]
  },
  {
   "cell_type": "code",
   "execution_count": 30,
   "metadata": {},
   "outputs": [
    {
     "name": "stdout",
     "output_type": "stream",
     "text": [
      "Default Bucket: sagemaker-studio-gertjzq23es\n",
      "AWS Region: us-east-1\n",
      "RoleArn: arn:aws:iam::293789295245:role/service-role/AmazonSageMaker-ExecutionRole-20230910T224420\n"
     ]
    }
   ],
   "source": [
    "import sagemaker\n",
    "from sagemaker import get_execution_role\n",
    "from sagemaker import image_uris\n",
    "\n",
    "session = sagemaker.Session()\n",
    "\n",
    "bucket = \"sagemaker-studio-gertjzq23es\"\n",
    "print(\"Default Bucket: {}\".format(bucket))\n",
    "\n",
    "region = session.boto_region_name\n",
    "print(\"AWS Region: {}\".format(region))\n",
    "\n",
    "role = get_execution_role()\n",
    "print(\"RoleArn: {}\".format(role))"
   ]
  },
  {
   "cell_type": "markdown",
   "metadata": {},
   "source": [
    "With this data we can easily sync your data up into S3!"
   ]
  },
  {
   "cell_type": "code",
   "execution_count": 30,
   "metadata": {},
   "outputs": [
    {
     "data": {
      "text/plain": [
       "CompletedProcess(args='aws s3 sync ./test s3://${DEFAULT_S3_BUCKET}/test/', returncode=0, stdout=b'Completed 2.6 KiB/~29.2 KiB (48.4 KiB/s) with ~11 file(s) remaining (calculating...)\\rupload: test/bicycle_s_000031.png to s3://sagemaker-studio-gertjzq23es/test/bicycle_s_000031.png\\nCompleted 2.6 KiB/~29.2 KiB (48.4 KiB/s) with ~10 file(s) remaining (calculating...)\\rCompleted 5.3 KiB/~31.8 KiB (56.7 KiB/s) with ~11 file(s) remaining (calculating...)\\rupload: test/bicycle_s_000779.png to s3://sagemaker-studio-gertjzq23es/test/bicycle_s_000779.png\\nCompleted 5.3 KiB/~34.7 KiB (56.7 KiB/s) with ~11 file(s) remaining (calculating...)\\rCompleted 8.1 KiB/~128.9 KiB (50.9 KiB/s) with ~46 file(s) remaining (calculating...)\\rupload: test/bicycle_s_000059.png to s3://sagemaker-studio-gertjzq23es/test/bicycle_s_000059.png\\nCompleted 8.1 KiB/~131.7 KiB (50.9 KiB/s) with ~46 file(s) remaining (calculating...)\\rCompleted 10.9 KiB/~131.7 KiB (64.8 KiB/s) with ~46 file(s) remaining (calculating...)\\rCompleted 13.8 KiB/~131.7 KiB (81.6 KiB/s) with ~46 file(s) remaining (calculating...)\\rupload: test/bicycle_s_000513.png to s3://sagemaker-studio-gertjzq23es/test/bicycle_s_000513.png\\nCompleted 13.8 KiB/~131.7 KiB (81.6 KiB/s) with ~45 file(s) remaining (calculating...)\\rCompleted 15.8 KiB/~152.8 KiB (89.3 KiB/s) with ~53 file(s) remaining (calculating...)\\rCompleted 18.7 KiB/~152.8 KiB (104.3 KiB/s) with ~53 file(s) remaining (calculating...)\\rupload: test/bicycle_s_000977.png to s3://sagemaker-studio-gertjzq23es/test/bicycle_s_000977.png\\nCompleted 18.7 KiB/~152.8 KiB (104.3 KiB/s) with ~52 file(s) remaining (calculating...)\\rupload: test/bicycle_s_000479.png to s3://sagemaker-studio-gertjzq23es/test/bicycle_s_000479.png\\nCompleted 18.7 KiB/~155.0 KiB (104.3 KiB/s) with ~52 file(s) remaining (calculating...)\\rupload: test/bicycle_s_000030.png to s3://sagemaker-studio-gertjzq23es/test/bicycle_s_000030.png\\nCompleted 18.7 KiB/~157.6 KiB (104.3 KiB/s) with ~52 file(s) remaining (calculating...)\\rCompleted 21.3 KiB/~160.5 KiB (112.2 KiB/s) with ~53 file(s) remaining (calculating...)\\rupload: test/bicycle_s_000776.png to s3://sagemaker-studio-gertjzq23es/test/bicycle_s_000776.png\\nCompleted 21.3 KiB/~163.1 KiB (112.2 KiB/s) with ~53 file(s) remaining (calculating...)\\rCompleted 23.9 KiB/~231.1 KiB (107.4 KiB/s) with ~79 file(s) remaining (calculating...)\\rupload: test/bicycle_s_001107.png to s3://sagemaker-studio-gertjzq23es/test/bicycle_s_001107.png\\nCompleted 23.9 KiB/~233.8 KiB (107.4 KiB/s) with ~79 file(s) remaining (calculating...)\\rCompleted 26.5 KiB/~270.3 KiB (113.0 KiB/s) with ~92 file(s) remaining (calculating...)\\rCompleted 29.4 KiB/~270.3 KiB (124.5 KiB/s) with ~92 file(s) remaining (calculating...)\\rupload: test/bicycle_s_000777.png to s3://sagemaker-studio-gertjzq23es/test/bicycle_s_000777.png\\nCompleted 29.4 KiB/~275.0 KiB (124.5 KiB/s) with ~93 file(s) remaining (calculating...)\\rupload: test/bicycle_s_001218.png to s3://sagemaker-studio-gertjzq23es/test/bicycle_s_001218.png\\nCompleted 29.4 KiB/~275.0 KiB (124.5 KiB/s) with ~92 file(s) remaining (calculating...)\\rCompleted 32.1 KiB/~280.6 KiB (132.1 KiB/s) with ~94 file(s) remaining (calculating...)\\rCompleted 34.6 KiB/~280.6 KiB (141.9 KiB/s) with ~94 file(s) remaining (calculating...)\\rupload: test/bike_s_000330.png to s3://sagemaker-studio-gertjzq23es/test/bike_s_000330.png\\nCompleted 34.6 KiB/~280.6 KiB (141.9 KiB/s) with ~93 file(s) remaining (calculating...)\\rupload: test/bike_s_000131.png to s3://sagemaker-studio-gertjzq23es/test/bike_s_000131.png\\nCompleted 34.6 KiB/~280.6 KiB (141.9 KiB/s) with ~92 file(s) remaining (calculating...)\\rCompleted 37.1 KiB/~309.5 KiB (142.8 KiB/s) with ~102 file(s) remaining (calculating...)\\rupload: test/bicycle_s_001102.png to s3://sagemaker-studio-gertjzq23es/test/bicycle_s_001102.png\\nCompleted 37.1 KiB/~309.5 KiB (142.8 KiB/s) with ~101 file(s) remaining (calculating...)\\rCompleted 39.9 KiB/~317.5 KiB (148.8 KiB/s) with ~104 file(s) remaining (calculating...)\\rupload: test/bicycle_s_002458.png to s3://sagemaker-studio-gertjzq23es/test/bicycle_s_002458.png\\nCompleted 39.9 KiB/~323.1 KiB (148.8 KiB/s) with ~105 file(s) remaining (calculating...)\\rCompleted 42.6 KiB/~334.0 KiB (154.1 KiB/s) with ~109 file(s) remaining (calculating...)\\rCompleted 45.4 KiB/~334.0 KiB (163.2 KiB/s) with ~109 file(s) remaining (calculating...)\\rCompleted 48.0 KiB/~339.2 KiB (171.3 KiB/s) with ~111 file(s) remaining (calculating...)\\rupload: test/bicycle_s_001047.png to s3://sagemaker-studio-gertjzq23es/test/bicycle_s_001047.png\\nCompleted 48.0 KiB/~339.2 KiB (171.3 KiB/s) with ~110 file(s) remaining (calculating...)\\rCompleted 50.6 KiB/~339.2 KiB (179.2 KiB/s) with ~110 file(s) remaining (calculating...)\\rupload: test/bike_s_000071.png to s3://sagemaker-studio-gertjzq23es/test/bike_s_000071.png\\nCompleted 50.6 KiB/~339.2 KiB (179.2 KiB/s) with ~109 file(s) remaining (calculating...)\\rupload: test/bike_s_000643.png to s3://sagemaker-studio-gertjzq23es/test/bike_s_000643.png\\nCompleted 50.6 KiB/~339.2 KiB (179.2 KiB/s) with ~108 file(s) remaining (calculating...)\\rupload: test/bicycle_s_001804.png to s3://sagemaker-studio-gertjzq23es/test/bicycle_s_001804.png\\nCompleted 50.6 KiB/~339.2 KiB (179.2 KiB/s) with ~107 file(s) remaining (calculating...)\\rCompleted 53.2 KiB/~339.2 KiB (185.5 KiB/s) with ~107 file(s) remaining (calculating...)\\rupload: test/bike_s_000163.png to s3://sagemaker-studio-gertjzq23es/test/bike_s_000163.png\\nCompleted 53.2 KiB/~344.9 KiB (185.5 KiB/s) with ~108 file(s) remaining (calculating...)\\rCompleted 56.0 KiB/~344.9 KiB (188.4 KiB/s) with ~108 file(s) remaining (calculating...)\\rupload: test/bicycle_s_001789.png to s3://sagemaker-studio-gertjzq23es/test/bicycle_s_001789.png\\nCompleted 56.0 KiB/~347.9 KiB (188.4 KiB/s) with ~108 file(s) remaining (calculating...)\\rCompleted 58.9 KiB/~350.7 KiB (192.7 KiB/s) with ~109 file(s) remaining (calculating...)\\rCompleted 61.6 KiB/~350.7 KiB (200.8 KiB/s) with ~109 file(s) remaining (calculating...)\\rupload: test/bike_s_000487.png to s3://sagemaker-studio-gertjzq23es/test/bike_s_000487.png\\nCompleted 61.6 KiB/~350.7 KiB (200.8 KiB/s) with ~108 file(s) remaining (calculating...)\\rupload: test/bike_s_000694.png to s3://sagemaker-studio-gertjzq23es/test/bike_s_000694.png\\nCompleted 61.6 KiB/~350.7 KiB (200.8 KiB/s) with ~107 file(s) remaining (calculating...)\\rCompleted 64.2 KiB/~350.7 KiB (206.6 KiB/s) with ~107 file(s) remaining (calculating...)\\rupload: test/bike_s_000658.png to s3://sagemaker-studio-gertjzq23es/test/bike_s_000658.png\\nCompleted 64.2 KiB/~353.6 KiB (206.6 KiB/s) with ~107 file(s) remaining (calculating...)\\rCompleted 66.5 KiB/~361.3 KiB (205.3 KiB/s) with ~110 file(s) remaining (calculating...)\\rCompleted 69.4 KiB/~361.3 KiB (212.9 KiB/s) with ~110 file(s) remaining (calculating...)\\rupload: test/bike_s_001073.png to s3://sagemaker-studio-gertjzq23es/test/bike_s_001073.png\\nCompleted 69.4 KiB/~361.3 KiB (212.9 KiB/s) with ~109 file(s) remaining (calculating...)\\rupload: test/bicycle_s_002735.png to s3://sagemaker-studio-gertjzq23es/test/bicycle_s_002735.png\\nCompleted 69.4 KiB/~361.3 KiB (212.9 KiB/s) with ~108 file(s) remaining (calculating...)\\rCompleted 72.1 KiB/~374.4 KiB (213.9 KiB/s) with ~113 file(s) remaining (calculating...)\\rCompleted 74.8 KiB/~374.4 KiB (220.9 KiB/s) with ~113 file(s) remaining (calculating...)\\rCompleted 77.7 KiB/~374.4 KiB (228.9 KiB/s) with ~113 file(s) remaining (calculating...)\\rupload: test/bike_s_001216.png to s3://sagemaker-studio-gertjzq23es/test/bike_s_001216.png\\nCompleted 77.7 KiB/~374.4 KiB (228.9 KiB/s) with ~112 file(s) remaining (calculating...)\\rCompleted 80.4 KiB/~374.4 KiB (235.4 KiB/s) with ~112 file(s) remaining (calculating...)\\rupload: test/bike_s_001068.png to s3://sagemaker-studio-gertjzq23es/test/bike_s_001068.png\\nCompleted 80.4 KiB/~374.4 KiB (235.4 KiB/s) with ~111 file(s) remaining (calculating...)\\rupload: test/bike_s_001342.png to s3://sagemaker-studio-gertjzq23es/test/bike_s_001342.png\\nCompleted 80.4 KiB/~374.4 KiB (235.4 KiB/s) with ~110 file(s) remaining (calculating...)\\rupload: test/bike_s_000941.png to s3://sagemaker-studio-gertjzq23es/test/bike_s_000941.png\\nCompleted 80.4 KiB/~382.5 KiB (235.4 KiB/s) with ~112 file(s) remaining (calculating...)\\rCompleted 83.3 KiB/~402.4 KiB (233.1 KiB/s) with ~120 file(s) remaining (calculating...)\\rupload: test/bike_s_000041.png to s3://sagemaker-studio-gertjzq23es/test/bike_s_000041.png\\nCompleted 83.3 KiB/~404.6 KiB (233.1 KiB/s) with ~120 file(s) remaining (calculating...)\\rCompleted 86.0 KiB/~404.6 KiB (237.9 KiB/s) with ~120 file(s) remaining (calculating...)\\rupload: test/bike_s_001852.png to s3://sagemaker-studio-gertjzq23es/test/bike_s_001852.png\\nCompleted 86.0 KiB/~412.3 KiB (237.9 KiB/s) with ~122 file(s) remaining (calculating...)\\rCompleted 88.9 KiB/~412.3 KiB (243.0 KiB/s) with ~122 file(s) remaining (calculating...)\\rupload: test/bike_s_002009.png to s3://sagemaker-studio-gertjzq23es/test/bike_s_002009.png\\nCompleted 88.9 KiB/~412.3 KiB (243.0 KiB/s) with ~121 file(s) remaining (calculating...)\\rCompleted 91.2 KiB/~414.8 KiB (246.9 KiB/s) with ~122 file(s) remaining (calculating...)\\rupload: test/bike_s_002116.png to s3://sagemaker-studio-gertjzq23es/test/bike_s_002116.png\\nCompleted 91.2 KiB/~414.8 KiB (246.9 KiB/s) with ~121 file(s) remaining (calculating...)\\rCompleted 94.1 KiB/~419.8 KiB (250.6 KiB/s) with ~123 file(s) remaining (calculating...)\\rupload: test/bike_s_001159.png to s3://sagemaker-studio-gertjzq23es/test/bike_s_001159.png\\nCompleted 94.1 KiB/~419.8 KiB (250.6 KiB/s) with ~122 file(s) remaining (calculating...)\\rCompleted 96.8 KiB/~458.8 KiB (247.5 KiB/s) with ~137 file(s) remaining (calculating...)\\rCompleted 99.3 KiB/~461.6 KiB (252.8 KiB/s) with ~138 file(s) remaining (calculating...)\\rupload: test/bike_s_001738.png to s3://sagemaker-studio-gertjzq23es/test/bike_s_001738.png\\nCompleted 99.3 KiB/~461.6 KiB (252.8 KiB/s) with ~137 file(s) remaining (calculating...)\\rupload: test/cycle_s_001044.png to s3://sagemaker-studio-gertjzq23es/test/cycle_s_001044.png\\nCompleted 99.3 KiB/~464.3 KiB (252.8 KiB/s) with ~137 file(s) remaining (calculating...)\\rCompleted 101.8 KiB/~464.3 KiB (256.8 KiB/s) with ~137 file(s) remaining (calculating...)\\rupload: test/cycle_s_001214.png to s3://sagemaker-studio-gertjzq23es/test/cycle_s_001214.png\\nCompleted 101.8 KiB/~464.3 KiB (256.8 KiB/s) with ~136 file(s) remaining (calculating...)\\rCompleted 104.5 KiB/~464.3 KiB (260.2 KiB/s) with ~136 file(s) remaining (calculating...)\\rupload: test/cycle_s_001306.png to s3://sagemaker-studio-gertjzq23es/test/cycle_s_001306.png\\nCompleted 104.5 KiB/~464.3 KiB (260.2 KiB/s) with ~135 file(s) remaining (calculating...)\\rCompleted 107.3 KiB/~480.8 KiB (260.8 KiB/s) with ~141 file(s) remaining (calculating...)\\rCompleted 110.0 KiB/~480.8 KiB (266.3 KiB/s) with ~141 file(s) remaining (calculating...)\\rupload: test/bike_s_000457.png to s3://sagemaker-studio-gertjzq23es/test/bike_s_000457.png\\nCompleted 110.0 KiB/~483.5 KiB (266.3 KiB/s) with ~141 file(s) remaining (calculating...)\\rupload: test/cycle_s_000010.png to s3://sagemaker-studio-gertjzq23es/test/cycle_s_000010.png\\nCompleted 110.0 KiB/~483.5 KiB (266.3 KiB/s) with ~140 file(s) remaining (calculating...)\\rCompleted 112.7 KiB/~483.5 KiB (270.6 KiB/s) with ~140 file(s) remaining (calculating...)\\rupload: test/bike_s_000801.png to s3://sagemaker-studio-gertjzq23es/test/bike_s_000801.png\\nCompleted 112.7 KiB/~486.2 KiB (270.6 KiB/s) with ~140 file(s) remaining (calculating...)\\rCompleted 115.7 KiB/~486.2 KiB (274.4 KiB/s) with ~140 file(s) remaining (calculating...)\\rupload: test/cycle_s_001297.png to s3://sagemaker-studio-gertjzq23es/test/cycle_s_001297.png\\nCompleted 115.7 KiB/~486.2 KiB (274.4 KiB/s) with ~139 file(s) remaining (calculating...)\\rCompleted 118.3 KiB/~517.6 KiB (271.5 KiB/s) with ~151 file(s) remaining (calculating...)\\rupload: test/cycle_s_000970.png to s3://sagemaker-studio-gertjzq23es/test/cycle_s_000970.png\\nCompleted 118.3 KiB/~520.4 KiB (271.5 KiB/s) with ~151 file(s) remaining (calculating...)\\rCompleted 121.1 KiB/~520.4 KiB (276.1 KiB/s) with ~151 file(s) remaining (calculating...)\\rupload: test/cycle_s_002661.png to s3://sagemaker-studio-gertjzq23es/test/cycle_s_002661.png\\nCompleted 121.1 KiB/~520.4 KiB (276.1 KiB/s) with ~150 file(s) remaining (calculating...)\\rCompleted 124.1 KiB/~520.4 KiB (275.5 KiB/s) with ~150 file(s) remaining (calculating...)\\rCompleted 126.6 KiB/~520.4 KiB (280.5 KiB/s) with ~150 file(s) remaining (calculating...)\\rCompleted 129.1 KiB/~520.4 KiB (285.8 KiB/s) with ~150 file(s) remaining (calculating...)\\rupload: test/bike_s_001784.png to s3://sagemaker-studio-gertjzq23es/test/bike_s_001784.png\\nCompleted 129.1 KiB/~520.4 KiB (285.8 KiB/s) with ~149 file(s) remaining (calculating...)\\rCompleted 131.8 KiB/~520.4 KiB (289.2 KiB/s) with ~149 file(s) remaining (calculating...)\\rupload: test/bike_s_002208.png to s3://sagemaker-studio-gertjzq23es/test/bike_s_002208.png\\nCompleted 131.8 KiB/~530.9 KiB (289.2 KiB/s) with ~152 file(s) remaining (calculating...)\\rupload: test/dirt_bike_s_000001.png to s3://sagemaker-studio-gertjzq23es/test/dirt_bike_s_000001.png\\nCompleted 131.8 KiB/~530.9 KiB (289.2 KiB/s) with ~151 file(s) remaining (calculating...)\\rupload: test/cycle_s_002964.png to s3://sagemaker-studio-gertjzq23es/test/cycle_s_002964.png\\nCompleted 131.8 KiB/~530.9 KiB (289.2 KiB/s) with ~150 file(s) remaining (calculating...)\\rCompleted 134.6 KiB/~530.9 KiB (291.3 KiB/s) with ~150 file(s) remaining (calculating...)\\rupload: test/cycle_s_001953.png to s3://sagemaker-studio-gertjzq23es/test/cycle_s_001953.png\\nCompleted 134.6 KiB/~530.9 KiB (291.3 KiB/s) with ~149 file(s) remaining (calculating...)\\rCompleted 137.0 KiB/~530.9 KiB (292.8 KiB/s) with ~149 file(s) remaining (calculating...)\\rupload: test/cycle_s_002305.png to s3://sagemaker-studio-gertjzq23es/test/cycle_s_002305.png\\nCompleted 137.0 KiB/533.6 KiB (292.8 KiB/s) with 149 file(s) remaining\\rCompleted 139.8 KiB/533.6 KiB (290.0 KiB/s) with 149 file(s) remaining\\rupload: test/cycle_s_001915.png to s3://sagemaker-studio-gertjzq23es/test/cycle_s_001915.png\\nCompleted 139.8 KiB/533.6 KiB (290.0 KiB/s) with 148 file(s) remaining\\rCompleted 142.4 KiB/533.6 KiB (291.6 KiB/s) with 148 file(s) remaining\\rupload: test/minibike_s_000075.png to s3://sagemaker-studio-gertjzq23es/test/minibike_s_000075.png\\nCompleted 142.4 KiB/533.6 KiB (291.6 KiB/s) with 147 file(s) remaining\\rCompleted 145.0 KiB/533.6 KiB (294.1 KiB/s) with 147 file(s) remaining\\rupload: test/cycle_s_002613.png to s3://sagemaker-studio-gertjzq23es/test/cycle_s_002613.png\\nCompleted 145.0 KiB/533.6 KiB (294.1 KiB/s) with 146 file(s) remaining\\rCompleted 147.7 KiB/533.6 KiB (298.5 KiB/s) with 146 file(s) remaining\\rCompleted 150.4 KiB/533.6 KiB (303.5 KiB/s) with 146 file(s) remaining\\rupload: test/minibike_s_000052.png to s3://sagemaker-studio-gertjzq23es/test/minibike_s_000052.png\\nCompleted 150.4 KiB/533.6 KiB (303.5 KiB/s) with 145 file(s) remaining\\rupload: test/minibike_s_000254.png to s3://sagemaker-studio-gertjzq23es/test/minibike_s_000254.png\\nCompleted 150.4 KiB/533.6 KiB (303.5 KiB/s) with 144 file(s) remaining\\rCompleted 152.5 KiB/533.6 KiB (302.6 KiB/s) with 144 file(s) remaining\\rupload: test/minibike_s_000055.png to s3://sagemaker-studio-gertjzq23es/test/minibike_s_000055.png\\nCompleted 152.5 KiB/533.6 KiB (302.6 KiB/s) with 143 file(s) remaining\\rCompleted 155.4 KiB/533.6 KiB (307.1 KiB/s) with 143 file(s) remaining\\rCompleted 157.6 KiB/533.6 KiB (309.4 KiB/s) with 143 file(s) remaining\\rupload: test/minibike_s_000288.png to s3://sagemaker-studio-gertjzq23es/test/minibike_s_000288.png\\nCompleted 157.6 KiB/533.6 KiB (309.4 KiB/s) with 142 file(s) remaining\\rupload: test/cycle_s_001648.png to s3://sagemaker-studio-gertjzq23es/test/cycle_s_001648.png\\nCompleted 157.6 KiB/533.6 KiB (309.4 KiB/s) with 141 file(s) remaining\\rCompleted 160.2 KiB/533.6 KiB (309.7 KiB/s) with 141 file(s) remaining\\rupload: test/minibike_s_000398.png to s3://sagemaker-studio-gertjzq23es/test/minibike_s_000398.png\\nCompleted 160.2 KiB/533.6 KiB (309.7 KiB/s) with 140 file(s) remaining\\rCompleted 162.2 KiB/533.6 KiB (305.3 KiB/s) with 140 file(s) remaining\\rCompleted 165.1 KiB/533.6 KiB (306.3 KiB/s) with 140 file(s) remaining\\rCompleted 167.9 KiB/533.6 KiB (310.7 KiB/s) with 140 file(s) remaining\\rupload: test/minibike_s_000505.png to s3://sagemaker-studio-gertjzq23es/test/minibike_s_000505.png\\nCompleted 167.9 KiB/533.6 KiB (310.7 KiB/s) with 139 file(s) remaining\\rCompleted 170.3 KiB/533.6 KiB (311.8 KiB/s) with 139 file(s) remaining\\rupload: test/cycle_s_000068.png to s3://sagemaker-studio-gertjzq23es/test/cycle_s_000068.png\\nCompleted 170.3 KiB/533.6 KiB (311.8 KiB/s) with 138 file(s) remaining\\rupload: test/minibike_s_000573.png to s3://sagemaker-studio-gertjzq23es/test/minibike_s_000573.png\\nCompleted 170.3 KiB/533.6 KiB (311.8 KiB/s) with 137 file(s) remaining\\rupload: test/minibike_s_000309.png to s3://sagemaker-studio-gertjzq23es/test/minibike_s_000309.png\\nCompleted 170.3 KiB/533.6 KiB (311.8 KiB/s) with 136 file(s) remaining\\rCompleted 172.9 KiB/533.6 KiB (302.6 KiB/s) with 136 file(s) remaining\\rCompleted 175.5 KiB/533.6 KiB (306.1 KiB/s) with 136 file(s) remaining\\rupload: test/minibike_s_000880.png to s3://sagemaker-studio-gertjzq23es/test/minibike_s_000880.png\\nCompleted 175.5 KiB/533.6 KiB (306.1 KiB/s) with 135 file(s) remaining\\rCompleted 178.2 KiB/533.6 KiB (309.8 KiB/s) with 135 file(s) remaining\\rupload: test/minibike_s_000792.png to s3://sagemaker-studio-gertjzq23es/test/minibike_s_000792.png\\nCompleted 178.2 KiB/533.6 KiB (309.8 KiB/s) with 134 file(s) remaining\\rupload: test/minibike_s_000801.png to s3://sagemaker-studio-gertjzq23es/test/minibike_s_000801.png\\nCompleted 178.2 KiB/533.6 KiB (309.8 KiB/s) with 133 file(s) remaining\\rCompleted 180.9 KiB/533.6 KiB (311.8 KiB/s) with 133 file(s) remaining\\rupload: test/minibike_s_000497.png to s3://sagemaker-studio-gertjzq23es/test/minibike_s_000497.png\\nCompleted 180.9 KiB/533.6 KiB (311.8 KiB/s) with 132 file(s) remaining\\rCompleted 183.7 KiB/533.6 KiB (307.3 KiB/s) with 132 file(s) remaining\\rupload: test/minibike_s_000828.png to s3://sagemaker-studio-gertjzq23es/test/minibike_s_000828.png\\nCompleted 183.7 KiB/533.6 KiB (307.3 KiB/s) with 131 file(s) remaining\\rCompleted 186.4 KiB/533.6 KiB (308.8 KiB/s) with 131 file(s) remaining\\rupload: test/minibike_s_001089.png to s3://sagemaker-studio-gertjzq23es/test/minibike_s_001089.png\\nCompleted 186.4 KiB/533.6 KiB (308.8 KiB/s) with 130 file(s) remaining\\rCompleted 189.0 KiB/533.6 KiB (311.1 KiB/s) with 130 file(s) remaining\\rupload: test/minibike_s_000290.png to s3://sagemaker-studio-gertjzq23es/test/minibike_s_000290.png\\nCompleted 189.0 KiB/533.6 KiB (311.1 KiB/s) with 129 file(s) remaining\\rCompleted 191.2 KiB/533.6 KiB (313.6 KiB/s) with 129 file(s) remaining\\rCompleted 193.7 KiB/533.6 KiB (317.3 KiB/s) with 129 file(s) remaining\\rupload: test/minibike_s_001473.png to s3://sagemaker-studio-gertjzq23es/test/minibike_s_001473.png\\nCompleted 193.7 KiB/533.6 KiB (317.3 KiB/s) with 128 file(s) remaining\\rupload: test/minibike_s_000913.png to s3://sagemaker-studio-gertjzq23es/test/minibike_s_000913.png\\nCompleted 193.7 KiB/533.6 KiB (317.3 KiB/s) with 127 file(s) remaining\\rCompleted 196.6 KiB/533.6 KiB (318.9 KiB/s) with 127 file(s) remaining\\rCompleted 198.6 KiB/533.6 KiB (321.2 KiB/s) with 127 file(s) remaining\\rupload: test/minibike_s_000947.png to s3://sagemaker-studio-gertjzq23es/test/minibike_s_000947.png\\nCompleted 198.6 KiB/533.6 KiB (321.2 KiB/s) with 126 file(s) remaining\\rupload: test/minibike_s_001441.png to s3://sagemaker-studio-gertjzq23es/test/minibike_s_001441.png\\nCompleted 198.6 KiB/533.6 KiB (321.2 KiB/s) with 125 file(s) remaining\\rCompleted 201.3 KiB/533.6 KiB (323.5 KiB/s) with 125 file(s) remaining\\rupload: test/minibike_s_000960.png to s3://sagemaker-studio-gertjzq23es/test/minibike_s_000960.png\\nCompleted 201.3 KiB/533.6 KiB (323.5 KiB/s) with 124 file(s) remaining\\rCompleted 203.9 KiB/533.6 KiB (323.7 KiB/s) with 124 file(s) remaining\\rupload: test/minibike_s_001605.png to s3://sagemaker-studio-gertjzq23es/test/minibike_s_001605.png\\nCompleted 203.9 KiB/533.6 KiB (323.7 KiB/s) with 123 file(s) remaining\\rCompleted 206.8 KiB/533.6 KiB (322.8 KiB/s) with 123 file(s) remaining\\rupload: test/minibike_s_001867.png to s3://sagemaker-studio-gertjzq23es/test/minibike_s_001867.png\\nCompleted 206.8 KiB/533.6 KiB (322.8 KiB/s) with 122 file(s) remaining\\rCompleted 209.2 KiB/533.6 KiB (323.9 KiB/s) with 122 file(s) remaining\\rupload: test/minibike_s_001651.png to s3://sagemaker-studio-gertjzq23es/test/minibike_s_001651.png\\nCompleted 209.2 KiB/533.6 KiB (323.9 KiB/s) with 121 file(s) remaining\\rCompleted 212.3 KiB/533.6 KiB (326.2 KiB/s) with 121 file(s) remaining\\rCompleted 214.8 KiB/533.6 KiB (329.7 KiB/s) with 121 file(s) remaining\\rupload: test/minibike_s_002051.png to s3://sagemaker-studio-gertjzq23es/test/minibike_s_002051.png\\nCompleted 214.8 KiB/533.6 KiB (329.7 KiB/s) with 120 file(s) remaining\\rCompleted 217.6 KiB/533.6 KiB (331.5 KiB/s) with 120 file(s) remaining\\rupload: test/minibike_s_001893.png to s3://sagemaker-studio-gertjzq23es/test/minibike_s_001893.png\\nCompleted 217.6 KiB/533.6 KiB (331.5 KiB/s) with 119 file(s) remaining\\rCompleted 220.5 KiB/533.6 KiB (332.2 KiB/s) with 119 file(s) remaining\\rCompleted 223.3 KiB/533.6 KiB (335.4 KiB/s) with 119 file(s) remaining\\rupload: test/minibike_s_001732.png to s3://sagemaker-studio-gertjzq23es/test/minibike_s_001732.png\\nCompleted 223.3 KiB/533.6 KiB (335.4 KiB/s) with 118 file(s) remaining\\rupload: test/minibike_s_001547.png to s3://sagemaker-studio-gertjzq23es/test/minibike_s_001547.png\\nCompleted 223.3 KiB/533.6 KiB (335.4 KiB/s) with 117 file(s) remaining\\rCompleted 226.1 KiB/533.6 KiB (328.7 KiB/s) with 117 file(s) remaining\\rCompleted 228.6 KiB/533.6 KiB (329.4 KiB/s) with 117 file(s) remaining\\rupload: test/minibike_s_002173.png to s3://sagemaker-studio-gertjzq23es/test/minibike_s_002173.png\\nCompleted 228.6 KiB/533.6 KiB (329.4 KiB/s) with 116 file(s) remaining\\rupload: test/moped_s_000007.png to s3://sagemaker-studio-gertjzq23es/test/moped_s_000007.png\\nCompleted 228.6 KiB/533.6 KiB (329.4 KiB/s) with 115 file(s) remaining\\rCompleted 231.1 KiB/533.6 KiB (328.6 KiB/s) with 115 file(s) remaining\\rupload: test/minibike_s_002230.png to s3://sagemaker-studio-gertjzq23es/test/minibike_s_002230.png\\nCompleted 231.1 KiB/533.6 KiB (328.6 KiB/s) with 114 file(s) remaining\\rupload: test/minibike_s_002227.png to s3://sagemaker-studio-gertjzq23es/test/minibike_s_002227.png\\nCompleted 231.1 KiB/533.6 KiB (328.6 KiB/s) with 113 file(s) remaining\\rCompleted 233.8 KiB/533.6 KiB (327.9 KiB/s) with 113 file(s) remaining\\rupload: test/moped_s_000033.png to s3://sagemaker-studio-gertjzq23es/test/moped_s_000033.png\\nCompleted 233.8 KiB/533.6 KiB (327.9 KiB/s) with 112 file(s) remaining\\rCompleted 236.6 KiB/533.6 KiB (323.1 KiB/s) with 112 file(s) remaining\\rupload: test/moped_s_000064.png to s3://sagemaker-studio-gertjzq23es/test/moped_s_000064.png\\nCompleted 236.6 KiB/533.6 KiB (323.1 KiB/s) with 111 file(s) remaining\\rCompleted 239.4 KiB/533.6 KiB (324.3 KiB/s) with 111 file(s) remaining\\rupload: test/motorbike_s_000433.png to s3://sagemaker-studio-gertjzq23es/test/motorbike_s_000433.png\\nCompleted 239.4 KiB/533.6 KiB (324.3 KiB/s) with 110 file(s) remaining\\rCompleted 242.2 KiB/533.6 KiB (327.2 KiB/s) with 110 file(s) remaining\\rCompleted 245.1 KiB/533.6 KiB (330.6 KiB/s) with 110 file(s) remaining\\rupload: test/motorbike_s_000121.png to s3://sagemaker-studio-gertjzq23es/test/motorbike_s_000121.png\\nCompleted 245.1 KiB/533.6 KiB (330.6 KiB/s) with 109 file(s) remaining\\rupload: test/motorbike_s_000005.png to s3://sagemaker-studio-gertjzq23es/test/motorbike_s_000005.png\\nCompleted 245.1 KiB/533.6 KiB (330.6 KiB/s) with 108 file(s) remaining\\rCompleted 247.8 KiB/533.6 KiB (332.6 KiB/s) with 108 file(s) remaining\\rCompleted 250.9 KiB/533.6 KiB (336.0 KiB/s) with 108 file(s) remaining\\rupload: test/motorbike_s_000126.png to s3://sagemaker-studio-gertjzq23es/test/motorbike_s_000126.png\\nCompleted 250.9 KiB/533.6 KiB (336.0 KiB/s) with 107 file(s) remaining\\rupload: test/moped_s_000306.png to s3://sagemaker-studio-gertjzq23es/test/moped_s_000306.png\\nCompleted 250.9 KiB/533.6 KiB (336.0 KiB/s) with 106 file(s) remaining\\rCompleted 253.7 KiB/533.6 KiB (335.9 KiB/s) with 106 file(s) remaining\\rupload: test/motorbike_s_000465.png to s3://sagemaker-studio-gertjzq23es/test/motorbike_s_000465.png\\nCompleted 253.7 KiB/533.6 KiB (335.9 KiB/s) with 105 file(s) remaining\\rCompleted 256.2 KiB/533.6 KiB (338.2 KiB/s) with 105 file(s) remaining\\rupload: test/motorbike_s_000333.png to s3://sagemaker-studio-gertjzq23es/test/motorbike_s_000333.png\\nCompleted 256.2 KiB/533.6 KiB (338.2 KiB/s) with 104 file(s) remaining\\rCompleted 259.3 KiB/533.6 KiB (333.2 KiB/s) with 104 file(s) remaining\\rCompleted 262.0 KiB/533.6 KiB (336.4 KiB/s) with 104 file(s) remaining\\rCompleted 264.9 KiB/533.6 KiB (339.6 KiB/s) with 104 file(s) remaining\\rupload: test/motorcycle_s_000040.png to s3://sagemaker-studio-gertjzq23es/test/motorcycle_s_000040.png\\nCompleted 264.9 KiB/533.6 KiB (339.6 KiB/s) with 103 file(s) remaining\\rupload: test/motorbike_s_000324.png to s3://sagemaker-studio-gertjzq23es/test/motorbike_s_000324.png\\nCompleted 264.9 KiB/533.6 KiB (339.6 KiB/s) with 102 file(s) remaining\\rupload: test/motorbike_s_000135.png to s3://sagemaker-studio-gertjzq23es/test/motorbike_s_000135.png\\nCompleted 264.9 KiB/533.6 KiB (339.6 KiB/s) with 101 file(s) remaining\\rCompleted 267.7 KiB/533.6 KiB (341.9 KiB/s) with 101 file(s) remaining\\rupload: test/motorbike_s_000629.png to s3://sagemaker-studio-gertjzq23es/test/motorbike_s_000629.png\\nCompleted 267.7 KiB/533.6 KiB (341.9 KiB/s) with 100 file(s) remaining\\rCompleted 270.6 KiB/533.6 KiB (342.5 KiB/s) with 100 file(s) remaining\\rupload: test/motorcycle_s_000063.png to s3://sagemaker-studio-gertjzq23es/test/motorcycle_s_000063.png\\nCompleted 270.6 KiB/533.6 KiB (342.5 KiB/s) with 99 file(s) remaining\\rCompleted 273.2 KiB/533.6 KiB (340.6 KiB/s) with 99 file(s) remaining\\rupload: test/motorcycle_s_000042.png to s3://sagemaker-studio-gertjzq23es/test/motorcycle_s_000042.png\\nCompleted 273.2 KiB/533.6 KiB (340.6 KiB/s) with 98 file(s) remaining\\rCompleted 276.0 KiB/533.6 KiB (341.0 KiB/s) with 98 file(s) remaining\\rupload: test/motorcycle_s_000171.png to s3://sagemaker-studio-gertjzq23es/test/motorcycle_s_000171.png\\nCompleted 276.0 KiB/533.6 KiB (341.0 KiB/s) with 97 file(s) remaining\\rCompleted 278.9 KiB/533.6 KiB (341.8 KiB/s) with 97 file(s) remaining\\rupload: test/motorcycle_s_000141.png to s3://sagemaker-studio-gertjzq23es/test/motorcycle_s_000141.png\\nCompleted 278.9 KiB/533.6 KiB (341.8 KiB/s) with 96 file(s) remaining\\rCompleted 280.9 KiB/533.6 KiB (343.3 KiB/s) with 96 file(s) remaining\\rCompleted 283.6 KiB/533.6 KiB (346.2 KiB/s) with 96 file(s) remaining\\rupload: test/motorcycle_s_000049.png to s3://sagemaker-studio-gertjzq23es/test/motorcycle_s_000049.png\\nCompleted 283.6 KiB/533.6 KiB (346.2 KiB/s) with 95 file(s) remaining\\rCompleted 286.3 KiB/533.6 KiB (348.8 KiB/s) with 95 file(s) remaining\\rupload: test/motorcycle_s_000060.png to s3://sagemaker-studio-gertjzq23es/test/motorcycle_s_000060.png\\nCompleted 286.3 KiB/533.6 KiB (348.8 KiB/s) with 94 file(s) remaining\\rupload: test/motorcycle_s_000007.png to s3://sagemaker-studio-gertjzq23es/test/motorcycle_s_000007.png\\nCompleted 286.3 KiB/533.6 KiB (348.8 KiB/s) with 93 file(s) remaining\\rCompleted 289.4 KiB/533.6 KiB (350.4 KiB/s) with 93 file(s) remaining\\rupload: test/motorcycle_s_000323.png to s3://sagemaker-studio-gertjzq23es/test/motorcycle_s_000323.png\\nCompleted 289.4 KiB/533.6 KiB (350.4 KiB/s) with 92 file(s) remaining\\rCompleted 292.3 KiB/533.6 KiB (350.2 KiB/s) with 92 file(s) remaining\\rCompleted 295.3 KiB/533.6 KiB (353.3 KiB/s) with 92 file(s) remaining\\rCompleted 297.9 KiB/533.6 KiB (355.7 KiB/s) with 92 file(s) remaining\\rupload: test/motorcycle_s_000222.png to s3://sagemaker-studio-gertjzq23es/test/motorcycle_s_000222.png\\nCompleted 297.9 KiB/533.6 KiB (355.7 KiB/s) with 91 file(s) remaining\\rupload: test/motorcycle_s_000139.png to s3://sagemaker-studio-gertjzq23es/test/motorcycle_s_000139.png\\nCompleted 297.9 KiB/533.6 KiB (355.7 KiB/s) with 90 file(s) remaining\\rupload: test/motorcycle_s_000352.png to s3://sagemaker-studio-gertjzq23es/test/motorcycle_s_000352.png\\nCompleted 297.9 KiB/533.6 KiB (355.7 KiB/s) with 89 file(s) remaining\\rCompleted 300.8 KiB/533.6 KiB (357.0 KiB/s) with 89 file(s) remaining\\rupload: test/motorcycle_s_000211.png to s3://sagemaker-studio-gertjzq23es/test/motorcycle_s_000211.png\\nCompleted 300.8 KiB/533.6 KiB (357.0 KiB/s) with 88 file(s) remaining\\rCompleted 303.6 KiB/533.6 KiB (352.0 KiB/s) with 88 file(s) remaining\\rupload: test/motorcycle_s_000427.png to s3://sagemaker-studio-gertjzq23es/test/motorcycle_s_000427.png\\nCompleted 303.6 KiB/533.6 KiB (352.0 KiB/s) with 87 file(s) remaining\\rCompleted 306.5 KiB/533.6 KiB (353.6 KiB/s) with 87 file(s) remaining\\rCompleted 309.6 KiB/533.6 KiB (356.7 KiB/s) with 87 file(s) remaining\\rupload: test/motorcycle_s_000485.png to s3://sagemaker-studio-gertjzq23es/test/motorcycle_s_000485.png\\nCompleted 309.6 KiB/533.6 KiB (356.7 KiB/s) with 86 file(s) remaining\\rCompleted 312.4 KiB/533.6 KiB (359.3 KiB/s) with 86 file(s) remaining\\rupload: test/motorcycle_s_000446.png to s3://sagemaker-studio-gertjzq23es/test/motorcycle_s_000446.png\\nCompleted 312.4 KiB/533.6 KiB (359.3 KiB/s) with 85 file(s) remaining\\rupload: test/motorcycle_s_000450.png to s3://sagemaker-studio-gertjzq23es/test/motorcycle_s_000450.png\\nCompleted 312.4 KiB/533.6 KiB (359.3 KiB/s) with 84 file(s) remaining\\rCompleted 315.5 KiB/533.6 KiB (361.4 KiB/s) with 84 file(s) remaining\\rupload: test/motorcycle_s_000606.png to s3://sagemaker-studio-gertjzq23es/test/motorcycle_s_000606.png\\nCompleted 315.5 KiB/533.6 KiB (361.4 KiB/s) with 83 file(s) remaining\\rCompleted 317.8 KiB/533.6 KiB (358.1 KiB/s) with 83 file(s) remaining\\rupload: test/motorcycle_s_000512.png to s3://sagemaker-studio-gertjzq23es/test/motorcycle_s_000512.png\\nCompleted 317.8 KiB/533.6 KiB (358.1 KiB/s) with 82 file(s) remaining\\rCompleted 320.8 KiB/533.6 KiB (357.1 KiB/s) with 82 file(s) remaining\\rCompleted 323.3 KiB/533.6 KiB (359.6 KiB/s) with 82 file(s) remaining\\rupload: test/motorcycle_s_000530.png to s3://sagemaker-studio-gertjzq23es/test/motorcycle_s_000530.png\\nCompleted 323.3 KiB/533.6 KiB (359.6 KiB/s) with 81 file(s) remaining\\rupload: test/motorcycle_s_000615.png to s3://sagemaker-studio-gertjzq23es/test/motorcycle_s_000615.png\\nCompleted 323.3 KiB/533.6 KiB (359.6 KiB/s) with 80 file(s) remaining\\rCompleted 325.9 KiB/533.6 KiB (361.0 KiB/s) with 80 file(s) remaining\\rupload: test/motorcycle_s_000602.png to s3://sagemaker-studio-gertjzq23es/test/motorcycle_s_000602.png\\nCompleted 325.9 KiB/533.6 KiB (361.0 KiB/s) with 79 file(s) remaining\\rCompleted 328.4 KiB/533.6 KiB (362.4 KiB/s) with 79 file(s) remaining\\rupload: test/motorcycle_s_000797.png to s3://sagemaker-studio-gertjzq23es/test/motorcycle_s_000797.png\\nCompleted 328.4 KiB/533.6 KiB (362.4 KiB/s) with 78 file(s) remaining\\rCompleted 331.2 KiB/533.6 KiB (364.8 KiB/s) with 78 file(s) remaining\\rCompleted 334.1 KiB/533.6 KiB (367.0 KiB/s) with 78 file(s) remaining\\rupload: test/motorcycle_s_000739.png to s3://sagemaker-studio-gertjzq23es/test/motorcycle_s_000739.png\\nCompleted 334.1 KiB/533.6 KiB (367.0 KiB/s) with 77 file(s) remaining\\rupload: test/motorcycle_s_000825.png to s3://sagemaker-studio-gertjzq23es/test/motorcycle_s_000825.png\\nCompleted 334.1 KiB/533.6 KiB (367.0 KiB/s) with 76 file(s) remaining\\rCompleted 336.9 KiB/533.6 KiB (367.2 KiB/s) with 76 file(s) remaining\\rupload: test/motorcycle_s_000679.png to s3://sagemaker-studio-gertjzq23es/test/motorcycle_s_000679.png\\nCompleted 336.9 KiB/533.6 KiB (367.2 KiB/s) with 75 file(s) remaining\\rCompleted 339.4 KiB/533.6 KiB (368.8 KiB/s) with 75 file(s) remaining\\rupload: test/motorcycle_s_000685.png to s3://sagemaker-studio-gertjzq23es/test/motorcycle_s_000685.png\\nCompleted 339.4 KiB/533.6 KiB (368.8 KiB/s) with 74 file(s) remaining\\rCompleted 342.2 KiB/533.6 KiB (368.2 KiB/s) with 74 file(s) remaining\\rupload: test/motorcycle_s_000494.png to s3://sagemaker-studio-gertjzq23es/test/motorcycle_s_000494.png\\nCompleted 342.2 KiB/533.6 KiB (368.2 KiB/s) with 73 file(s) remaining\\rCompleted 345.0 KiB/533.6 KiB (367.4 KiB/s) with 73 file(s) remaining\\rupload: test/motorcycle_s_000878.png to s3://sagemaker-studio-gertjzq23es/test/motorcycle_s_000878.png\\nCompleted 345.0 KiB/533.6 KiB (367.4 KiB/s) with 72 file(s) remaining\\rCompleted 347.9 KiB/533.6 KiB (369.0 KiB/s) with 72 file(s) remaining\\rupload: test/motorcycle_s_000876.png to s3://sagemaker-studio-gertjzq23es/test/motorcycle_s_000876.png\\nCompleted 347.9 KiB/533.6 KiB (369.0 KiB/s) with 71 file(s) remaining\\rCompleted 350.7 KiB/533.6 KiB (370.4 KiB/s) with 71 file(s) remaining\\rupload: test/motorcycle_s_001261.png to s3://sagemaker-studio-gertjzq23es/test/motorcycle_s_001261.png\\nCompleted 350.7 KiB/533.6 KiB (370.4 KiB/s) with 70 file(s) remaining\\rCompleted 353.6 KiB/533.6 KiB (372.2 KiB/s) with 70 file(s) remaining\\rupload: test/motorcycle_s_000963.png to s3://sagemaker-studio-gertjzq23es/test/motorcycle_s_000963.png\\nCompleted 353.6 KiB/533.6 KiB (372.2 KiB/s) with 69 file(s) remaining\\rCompleted 356.4 KiB/533.6 KiB (373.8 KiB/s) with 69 file(s) remaining\\rCompleted 358.4 KiB/533.6 KiB (375.7 KiB/s) with 69 file(s) remaining\\rupload: test/motorcycle_s_001269.png to s3://sagemaker-studio-gertjzq23es/test/motorcycle_s_001269.png\\nCompleted 358.4 KiB/533.6 KiB (375.7 KiB/s) with 68 file(s) remaining\\rupload: test/motorcycle_s_000866.png to s3://sagemaker-studio-gertjzq23es/test/motorcycle_s_000866.png\\nCompleted 358.4 KiB/533.6 KiB (375.7 KiB/s) with 67 file(s) remaining\\rCompleted 360.7 KiB/533.6 KiB (374.5 KiB/s) with 67 file(s) remaining\\rupload: test/motorcycle_s_001164.png to s3://sagemaker-studio-gertjzq23es/test/motorcycle_s_001164.png\\nCompleted 360.7 KiB/533.6 KiB (374.5 KiB/s) with 66 file(s) remaining\\rCompleted 363.7 KiB/533.6 KiB (372.1 KiB/s) with 66 file(s) remaining\\rCompleted 366.3 KiB/533.6 KiB (374.1 KiB/s) with 66 file(s) remaining\\rCompleted 368.8 KiB/533.6 KiB (374.7 KiB/s) with 66 file(s) remaining\\rupload: test/motorcycle_s_001249.png to s3://sagemaker-studio-gertjzq23es/test/motorcycle_s_001249.png\\nCompleted 368.8 KiB/533.6 KiB (374.7 KiB/s) with 65 file(s) remaining\\rupload: test/motorcycle_s_001348.png to s3://sagemaker-studio-gertjzq23es/test/motorcycle_s_001348.png\\nCompleted 368.8 KiB/533.6 KiB (374.7 KiB/s) with 64 file(s) remaining\\rupload: test/motorcycle_s_001508.png to s3://sagemaker-studio-gertjzq23es/test/motorcycle_s_001508.png\\nCompleted 368.8 KiB/533.6 KiB (374.7 KiB/s) with 63 file(s) remaining\\rCompleted 371.8 KiB/533.6 KiB (375.9 KiB/s) with 63 file(s) remaining\\rupload: test/motorcycle_s_001679.png to s3://sagemaker-studio-gertjzq23es/test/motorcycle_s_001679.png\\nCompleted 371.8 KiB/533.6 KiB (375.9 KiB/s) with 62 file(s) remaining\\rCompleted 374.6 KiB/533.6 KiB (375.5 KiB/s) with 62 file(s) remaining\\rupload: test/motorcycle_s_001906.png to s3://sagemaker-studio-gertjzq23es/test/motorcycle_s_001906.png\\nCompleted 374.6 KiB/533.6 KiB (375.5 KiB/s) with 61 file(s) remaining\\rCompleted 377.1 KiB/533.6 KiB (374.5 KiB/s) with 61 file(s) remaining\\rupload: test/motorcycle_s_001385.png to s3://sagemaker-studio-gertjzq23es/test/motorcycle_s_001385.png\\nCompleted 377.1 KiB/533.6 KiB (374.5 KiB/s) with 60 file(s) remaining\\rCompleted 380.0 KiB/533.6 KiB (375.8 KiB/s) with 60 file(s) remaining\\rupload: test/motorcycle_s_001892.png to s3://sagemaker-studio-gertjzq23es/test/motorcycle_s_001892.png\\nCompleted 380.0 KiB/533.6 KiB (375.8 KiB/s) with 59 file(s) remaining\\rCompleted 383.1 KiB/533.6 KiB (377.4 KiB/s) with 59 file(s) remaining\\rupload: test/motorcycle_s_001782.png to s3://sagemaker-studio-gertjzq23es/test/motorcycle_s_001782.png\\nCompleted 383.1 KiB/533.6 KiB (377.4 KiB/s) with 58 file(s) remaining\\rCompleted 386.1 KiB/533.6 KiB (375.7 KiB/s) with 58 file(s) remaining\\rupload: test/motorcycle_s_001519.png to s3://sagemaker-studio-gertjzq23es/test/motorcycle_s_001519.png\\nCompleted 386.1 KiB/533.6 KiB (375.7 KiB/s) with 57 file(s) remaining\\rCompleted 388.5 KiB/533.6 KiB (376.7 KiB/s) with 57 file(s) remaining\\rCompleted 391.4 KiB/533.6 KiB (379.1 KiB/s) with 57 file(s) remaining\\rCompleted 393.2 KiB/533.6 KiB (380.6 KiB/s) with 57 file(s) remaining\\rupload: test/motorcycle_s_001960.png to s3://sagemaker-studio-gertjzq23es/test/motorcycle_s_001960.png\\nCompleted 393.2 KiB/533.6 KiB (380.6 KiB/s) with 56 file(s) remaining\\rupload: test/motorcycle_s_001955.png to s3://sagemaker-studio-gertjzq23es/test/motorcycle_s_001955.png\\nCompleted 393.2 KiB/533.6 KiB (380.6 KiB/s) with 55 file(s) remaining\\rupload: test/motorcycle_s_002026.png to s3://sagemaker-studio-gertjzq23es/test/motorcycle_s_002026.png\\nCompleted 393.2 KiB/533.6 KiB (380.6 KiB/s) with 54 file(s) remaining\\rCompleted 396.1 KiB/533.6 KiB (379.9 KiB/s) with 54 file(s) remaining\\rupload: test/motorcycle_s_001936.png to s3://sagemaker-studio-gertjzq23es/test/motorcycle_s_001936.png\\nCompleted 396.1 KiB/533.6 KiB (379.9 KiB/s) with 53 file(s) remaining\\rCompleted 398.1 KiB/533.6 KiB (376.5 KiB/s) with 53 file(s) remaining\\rupload: test/motorcycle_s_001687.png to s3://sagemaker-studio-gertjzq23es/test/motorcycle_s_001687.png\\nCompleted 398.1 KiB/533.6 KiB (376.5 KiB/s) with 52 file(s) remaining\\rCompleted 400.2 KiB/533.6 KiB (376.1 KiB/s) with 52 file(s) remaining\\rupload: test/motorcycle_s_002112.png to s3://sagemaker-studio-gertjzq23es/test/motorcycle_s_002112.png\\nCompleted 400.2 KiB/533.6 KiB (376.1 KiB/s) with 51 file(s) remaining\\rCompleted 402.3 KiB/533.6 KiB (374.6 KiB/s) with 51 file(s) remaining\\rupload: test/motorcycle_s_002126.png to s3://sagemaker-studio-gertjzq23es/test/motorcycle_s_002126.png\\nCompleted 402.3 KiB/533.6 KiB (374.6 KiB/s) with 50 file(s) remaining\\rCompleted 404.6 KiB/533.6 KiB (372.9 KiB/s) with 50 file(s) remaining\\rupload: test/motorcycle_s_001971.png to s3://sagemaker-studio-gertjzq23es/test/motorcycle_s_001971.png\\nCompleted 404.6 KiB/533.6 KiB (372.9 KiB/s) with 49 file(s) remaining\\rCompleted 406.9 KiB/533.6 KiB (373.5 KiB/s) with 49 file(s) remaining\\rupload: test/ordinary_bicycle_s_000113.png to s3://sagemaker-studio-gertjzq23es/test/ordinary_bicycle_s_000113.png\\nCompleted 406.9 KiB/533.6 KiB (373.5 KiB/s) with 48 file(s) remaining\\rCompleted 409.4 KiB/533.6 KiB (373.3 KiB/s) with 48 file(s) remaining\\rupload: test/ordinary_bicycle_s_000105.png to s3://sagemaker-studio-gertjzq23es/test/ordinary_bicycle_s_000105.png\\nCompleted 409.4 KiB/533.6 KiB (373.3 KiB/s) with 47 file(s) remaining\\rCompleted 412.3 KiB/533.6 KiB (375.2 KiB/s) with 47 file(s) remaining\\rupload: test/motorcycle_s_002177.png to s3://sagemaker-studio-gertjzq23es/test/motorcycle_s_002177.png\\nCompleted 412.3 KiB/533.6 KiB (375.2 KiB/s) with 46 file(s) remaining\\rCompleted 414.8 KiB/533.6 KiB (376.2 KiB/s) with 46 file(s) remaining\\rCompleted 417.4 KiB/533.6 KiB (378.1 KiB/s) with 46 file(s) remaining\\rupload: test/ordinary_bicycle_s_000158.png to s3://sagemaker-studio-gertjzq23es/test/ordinary_bicycle_s_000158.png\\nCompleted 417.4 KiB/533.6 KiB (378.1 KiB/s) with 45 file(s) remaining\\rupload: test/ordinary_bicycle_s_000284.png to s3://sagemaker-studio-gertjzq23es/test/ordinary_bicycle_s_000284.png\\nCompleted 417.4 KiB/533.6 KiB (378.1 KiB/s) with 44 file(s) remaining\\rCompleted 419.6 KiB/533.6 KiB (373.9 KiB/s) with 44 file(s) remaining\\rCompleted 422.1 KiB/533.6 KiB (375.8 KiB/s) with 44 file(s) remaining\\rupload: test/safety_bicycle_s_000280.png to s3://sagemaker-studio-gertjzq23es/test/safety_bicycle_s_000280.png\\nCompleted 422.1 KiB/533.6 KiB (375.8 KiB/s) with 43 file(s) remaining\\rupload: test/safety_bicycle_s_000235.png to s3://sagemaker-studio-gertjzq23es/test/safety_bicycle_s_000235.png\\nCompleted 422.1 KiB/533.6 KiB (375.8 KiB/s) with 42 file(s) remaining\\rCompleted 424.5 KiB/533.6 KiB (376.5 KiB/s) with 42 file(s) remaining\\rCompleted 427.2 KiB/533.6 KiB (378.1 KiB/s) with 42 file(s) remaining\\rupload: test/ordinary_bicycle_s_000437.png to s3://sagemaker-studio-gertjzq23es/test/ordinary_bicycle_s_000437.png\\nCompleted 427.2 KiB/533.6 KiB (378.1 KiB/s) with 41 file(s) remaining\\rCompleted 429.6 KiB/533.6 KiB (379.8 KiB/s) with 41 file(s) remaining\\rupload: test/ordinary_bicycle_s_000350.png to s3://sagemaker-studio-gertjzq23es/test/ordinary_bicycle_s_000350.png\\nCompleted 429.6 KiB/533.6 KiB (379.8 KiB/s) with 40 file(s) remaining\\rupload: test/ordinary_bicycle_s_000169.png to s3://sagemaker-studio-gertjzq23es/test/ordinary_bicycle_s_000169.png\\nCompleted 429.6 KiB/533.6 KiB (379.8 KiB/s) with 39 file(s) remaining\\rCompleted 431.9 KiB/533.6 KiB (379.4 KiB/s) with 39 file(s) remaining\\rCompleted 434.3 KiB/533.6 KiB (381.2 KiB/s) with 39 file(s) remaining\\rupload: test/ordinary_bicycle_s_000431.png to s3://sagemaker-studio-gertjzq23es/test/ordinary_bicycle_s_000431.png\\nCompleted 434.3 KiB/533.6 KiB (381.2 KiB/s) with 38 file(s) remaining\\rupload: test/safety_bicycle_s_000315.png to s3://sagemaker-studio-gertjzq23es/test/safety_bicycle_s_000315.png\\nCompleted 434.3 KiB/533.6 KiB (381.2 KiB/s) with 37 file(s) remaining\\rCompleted 436.7 KiB/533.6 KiB (381.2 KiB/s) with 37 file(s) remaining\\rupload: test/safety_bicycle_s_001153.png to s3://sagemaker-studio-gertjzq23es/test/safety_bicycle_s_001153.png\\nCompleted 436.7 KiB/533.6 KiB (381.2 KiB/s) with 36 file(s) remaining\\rCompleted 439.1 KiB/533.6 KiB (380.7 KiB/s) with 36 file(s) remaining\\rupload: test/safety_bicycle_s_001286.png to s3://sagemaker-studio-gertjzq23es/test/safety_bicycle_s_001286.png\\nCompleted 439.1 KiB/533.6 KiB (380.7 KiB/s) with 35 file(s) remaining\\rCompleted 441.9 KiB/533.6 KiB (380.7 KiB/s) with 35 file(s) remaining\\rupload: test/safety_bike_s_000488.png to s3://sagemaker-studio-gertjzq23es/test/safety_bike_s_000488.png\\nCompleted 441.9 KiB/533.6 KiB (380.7 KiB/s) with 34 file(s) remaining\\rCompleted 444.7 KiB/533.6 KiB (381.9 KiB/s) with 34 file(s) remaining\\rupload: test/safety_bike_s_000438.png to s3://sagemaker-studio-gertjzq23es/test/safety_bike_s_000438.png\\nCompleted 444.7 KiB/533.6 KiB (381.9 KiB/s) with 33 file(s) remaining\\rCompleted 447.5 KiB/533.6 KiB (382.1 KiB/s) with 33 file(s) remaining\\rupload: test/safety_bike_s_000541.png to s3://sagemaker-studio-gertjzq23es/test/safety_bike_s_000541.png\\nCompleted 447.5 KiB/533.6 KiB (382.1 KiB/s) with 32 file(s) remaining\\rCompleted 450.1 KiB/533.6 KiB (383.0 KiB/s) with 32 file(s) remaining\\rupload: test/safety_bike_s_000192.png to s3://sagemaker-studio-gertjzq23es/test/safety_bike_s_000192.png\\nCompleted 450.1 KiB/533.6 KiB (383.0 KiB/s) with 31 file(s) remaining\\rCompleted 453.1 KiB/533.6 KiB (384.1 KiB/s) with 31 file(s) remaining\\rCompleted 455.7 KiB/533.6 KiB (386.1 KiB/s) with 31 file(s) remaining\\rupload: test/safety_bicycle_s_001575.png to s3://sagemaker-studio-gertjzq23es/test/safety_bicycle_s_001575.png\\nCompleted 455.7 KiB/533.6 KiB (386.1 KiB/s) with 30 file(s) remaining\\rupload: test/safety_bike_s_000699.png to s3://sagemaker-studio-gertjzq23es/test/safety_bike_s_000699.png\\nCompleted 455.7 KiB/533.6 KiB (386.1 KiB/s) with 29 file(s) remaining\\rCompleted 458.4 KiB/533.6 KiB (386.9 KiB/s) with 29 file(s) remaining\\rupload: test/safety_bike_s_000540.png to s3://sagemaker-studio-gertjzq23es/test/safety_bike_s_000540.png\\nCompleted 458.4 KiB/533.6 KiB (386.9 KiB/s) with 28 file(s) remaining\\rCompleted 461.2 KiB/533.6 KiB (387.8 KiB/s) with 28 file(s) remaining\\rupload: test/safety_bike_s_001065.png to s3://sagemaker-studio-gertjzq23es/test/safety_bike_s_001065.png\\nCompleted 461.2 KiB/533.6 KiB (387.8 KiB/s) with 27 file(s) remaining\\rCompleted 464.2 KiB/533.6 KiB (389.7 KiB/s) with 27 file(s) remaining\\rupload: test/safety_bike_s_000791.png to s3://sagemaker-studio-gertjzq23es/test/safety_bike_s_000791.png\\nCompleted 464.2 KiB/533.6 KiB (389.7 KiB/s) with 26 file(s) remaining\\rCompleted 467.1 KiB/533.6 KiB (390.6 KiB/s) with 26 file(s) remaining\\rupload: test/safety_bicycle_s_001322.png to s3://sagemaker-studio-gertjzq23es/test/safety_bicycle_s_001322.png\\nCompleted 467.1 KiB/533.6 KiB (390.6 KiB/s) with 25 file(s) remaining\\rCompleted 470.1 KiB/533.6 KiB (391.8 KiB/s) with 25 file(s) remaining\\rupload: test/safety_bike_s_000390.png to s3://sagemaker-studio-gertjzq23es/test/safety_bike_s_000390.png\\nCompleted 470.1 KiB/533.6 KiB (391.8 KiB/s) with 24 file(s) remaining\\rCompleted 472.8 KiB/533.6 KiB (392.2 KiB/s) with 24 file(s) remaining\\rupload: test/safety_bike_s_001087.png to s3://sagemaker-studio-gertjzq23es/test/safety_bike_s_001087.png\\nCompleted 472.8 KiB/533.6 KiB (392.2 KiB/s) with 23 file(s) remaining\\rCompleted 475.5 KiB/533.6 KiB (391.6 KiB/s) with 23 file(s) remaining\\rupload: test/safety_bike_s_001132.png to s3://sagemaker-studio-gertjzq23es/test/safety_bike_s_001132.png\\nCompleted 475.5 KiB/533.6 KiB (391.6 KiB/s) with 22 file(s) remaining\\rCompleted 478.2 KiB/533.6 KiB (391.4 KiB/s) with 22 file(s) remaining\\rupload: test/safety_bike_s_001481.png to s3://sagemaker-studio-gertjzq23es/test/safety_bike_s_001481.png\\nCompleted 478.2 KiB/533.6 KiB (391.4 KiB/s) with 21 file(s) remaining\\rCompleted 480.8 KiB/533.6 KiB (392.3 KiB/s) with 21 file(s) remaining\\rupload: test/trail_bike_s_000073.png to s3://sagemaker-studio-gertjzq23es/test/trail_bike_s_000073.png\\nCompleted 480.8 KiB/533.6 KiB (392.3 KiB/s) with 20 file(s) remaining\\rCompleted 483.3 KiB/533.6 KiB (392.6 KiB/s) with 20 file(s) remaining\\rCompleted 486.1 KiB/533.6 KiB (394.5 KiB/s) with 20 file(s) remaining\\rupload: test/safety_bike_s_001088.png to s3://sagemaker-studio-gertjzq23es/test/safety_bike_s_001088.png\\nCompleted 486.1 KiB/533.6 KiB (394.5 KiB/s) with 19 file(s) remaining\\rupload: test/velocipede_s_000292.png to s3://sagemaker-studio-gertjzq23es/test/velocipede_s_000292.png\\nCompleted 486.1 KiB/533.6 KiB (394.5 KiB/s) with 18 file(s) remaining\\rCompleted 488.8 KiB/533.6 KiB (393.8 KiB/s) with 18 file(s) remaining\\rupload: test/safety_bike_s_001690.png to s3://sagemaker-studio-gertjzq23es/test/safety_bike_s_001690.png\\nCompleted 488.8 KiB/533.6 KiB (393.8 KiB/s) with 17 file(s) remaining\\rCompleted 491.6 KiB/533.6 KiB (395.4 KiB/s) with 17 file(s) remaining\\rupload: test/velocipede_s_000001.png to s3://sagemaker-studio-gertjzq23es/test/velocipede_s_000001.png\\nCompleted 491.6 KiB/533.6 KiB (395.4 KiB/s) with 16 file(s) remaining\\rCompleted 494.5 KiB/533.6 KiB (394.7 KiB/s) with 16 file(s) remaining\\rupload: test/velocipede_s_000863.png to s3://sagemaker-studio-gertjzq23es/test/velocipede_s_000863.png\\nCompleted 494.5 KiB/533.6 KiB (394.7 KiB/s) with 15 file(s) remaining\\rCompleted 496.8 KiB/533.6 KiB (395.1 KiB/s) with 15 file(s) remaining\\rupload: test/velocipede_s_001201.png to s3://sagemaker-studio-gertjzq23es/test/velocipede_s_001201.png\\nCompleted 496.8 KiB/533.6 KiB (395.1 KiB/s) with 14 file(s) remaining\\rCompleted 498.9 KiB/533.6 KiB (394.0 KiB/s) with 14 file(s) remaining\\rupload: test/velocipede_s_000369.png to s3://sagemaker-studio-gertjzq23es/test/velocipede_s_000369.png\\nCompleted 498.9 KiB/533.6 KiB (394.0 KiB/s) with 13 file(s) remaining\\rCompleted 501.7 KiB/533.6 KiB (394.6 KiB/s) with 13 file(s) remaining\\rupload: test/safety_bike_s_001253.png to s3://sagemaker-studio-gertjzq23es/test/safety_bike_s_001253.png\\nCompleted 501.7 KiB/533.6 KiB (394.6 KiB/s) with 12 file(s) remaining\\rCompleted 503.8 KiB/533.6 KiB (394.9 KiB/s) with 12 file(s) remaining\\rCompleted 506.4 KiB/533.6 KiB (396.6 KiB/s) with 12 file(s) remaining\\rupload: test/velocipede_s_000041.png to s3://sagemaker-studio-gertjzq23es/test/velocipede_s_000041.png\\nCompleted 506.4 KiB/533.6 KiB (396.6 KiB/s) with 11 file(s) remaining\\rCompleted 509.3 KiB/533.6 KiB (398.4 KiB/s) with 11 file(s) remaining\\rupload: test/velocipede_s_001335.png to s3://sagemaker-studio-gertjzq23es/test/velocipede_s_001335.png\\nCompleted 509.3 KiB/533.6 KiB (398.4 KiB/s) with 10 file(s) remaining\\rupload: test/velocipede_s_001355.png to s3://sagemaker-studio-gertjzq23es/test/velocipede_s_001355.png\\nCompleted 509.3 KiB/533.6 KiB (398.4 KiB/s) with 9 file(s) remaining\\rCompleted 512.0 KiB/533.6 KiB (399.5 KiB/s) with 9 file(s) remaining\\rCompleted 514.8 KiB/533.6 KiB (400.8 KiB/s) with 9 file(s) remaining\\rupload: test/velocipede_s_001232.png to s3://sagemaker-studio-gertjzq23es/test/velocipede_s_001232.png\\nCompleted 514.8 KiB/533.6 KiB (400.8 KiB/s) with 8 file(s) remaining\\rupload: test/velocipede_s_000106.png to s3://sagemaker-studio-gertjzq23es/test/velocipede_s_000106.png\\nCompleted 514.8 KiB/533.6 KiB (400.8 KiB/s) with 7 file(s) remaining\\rCompleted 517.3 KiB/533.6 KiB (399.2 KiB/s) with 7 file(s) remaining\\rupload: test/velocipede_s_001466.png to s3://sagemaker-studio-gertjzq23es/test/velocipede_s_001466.png\\nCompleted 517.3 KiB/533.6 KiB (399.2 KiB/s) with 6 file(s) remaining\\rCompleted 520.2 KiB/533.6 KiB (400.8 KiB/s) with 6 file(s) remaining\\rupload: test/velocipede_s_001379.png to s3://sagemaker-studio-gertjzq23es/test/velocipede_s_001379.png\\nCompleted 520.2 KiB/533.6 KiB (400.8 KiB/s) with 5 file(s) remaining\\rCompleted 522.9 KiB/533.6 KiB (399.8 KiB/s) with 5 file(s) remaining\\rCompleted 525.7 KiB/533.6 KiB (401.7 KiB/s) with 5 file(s) remaining\\rupload: test/velocipede_s_001744.png to s3://sagemaker-studio-gertjzq23es/test/velocipede_s_001744.png\\nCompleted 525.7 KiB/533.6 KiB (401.7 KiB/s) with 4 file(s) remaining\\rupload: test/velocipede_s_001633.png to s3://sagemaker-studio-gertjzq23es/test/velocipede_s_001633.png\\nCompleted 525.7 KiB/533.6 KiB (401.7 KiB/s) with 3 file(s) remaining\\rCompleted 528.5 KiB/533.6 KiB (403.4 KiB/s) with 3 file(s) remaining\\rupload: test/velocipede_s_001790.png to s3://sagemaker-studio-gertjzq23es/test/velocipede_s_001790.png\\nCompleted 528.5 KiB/533.6 KiB (403.4 KiB/s) with 2 file(s) remaining\\rCompleted 531.2 KiB/533.6 KiB (402.9 KiB/s) with 2 file(s) remaining\\rupload: test/velocipede_s_001277.png to s3://sagemaker-studio-gertjzq23es/test/velocipede_s_001277.png\\nCompleted 531.2 KiB/533.6 KiB (402.9 KiB/s) with 1 file(s) remaining\\rCompleted 533.6 KiB/533.6 KiB (402.6 KiB/s) with 1 file(s) remaining\\rupload: test/velocipede_s_001699.png to s3://sagemaker-studio-gertjzq23es/test/velocipede_s_001699.png\\n', stderr=b'')"
      ]
     },
     "execution_count": 30,
     "metadata": {},
     "output_type": "execute_result"
    }
   ],
   "source": [
    "# import os\n",
    "\n",
    "# os.environ[\"DEFAULT_S3_BUCKET\"] = bucket\n",
    "# !aws s3 sync ./train s3://${DEFAULT_S3_BUCKET}/train/\n",
    "# !aws s3 sync ./test s3://${DEFAULT_S3_BUCKET}/test/\n",
    "\n",
    "import os\n",
    "import subprocess\n",
    "\n",
    "# Set the environment variable\n",
    "os.environ[\"DEFAULT_S3_BUCKET\"] = bucket\n",
    "\n",
    "# Define the sync commands\n",
    "sync_train_command = f\"aws s3 sync ./train s3://${{DEFAULT_S3_BUCKET}}/train/\"\n",
    "sync_test_command = f\"aws s3 sync ./test s3://${{DEFAULT_S3_BUCKET}}/test/\"\n",
    "\n",
    "# Run the commands and suppress the output\n",
    "subprocess.run(sync_train_command, shell=True, stdout=subprocess.PIPE, stderr=subprocess.PIPE)\n",
    "subprocess.run(sync_test_command, shell=True, stdout=subprocess.PIPE, stderr=subprocess.PIPE)"
   ]
  },
  {
   "cell_type": "markdown",
   "metadata": {},
   "source": [
    "And that's it! You can check the bucket and verify that the items were uploaded.\n",
    "\n",
    "## Model Training\n",
    "\n",
    "For Image Classification, Sagemaker [also expects metadata](https://docs.aws.amazon.com/sagemaker/latest/dg/image-classification.html) e.g. in the form of TSV files with labels and filepaths. We can generate these using our Pandas DataFrames from earlier:"
   ]
  },
  {
   "cell_type": "code",
   "execution_count": 31,
   "metadata": {},
   "outputs": [],
   "source": [
    "def to_metadata_file(df, prefix):\n",
    "    df[\"s3_path\"] = df[\"filenames\"]\n",
    "    df[\"labels\"] = df[\"labels\"].apply(lambda x: 0 if x==8 else 1)\n",
    "    return df[[\"row\", \"labels\", \"s3_path\"]].to_csv(\n",
    "        f\"{prefix}.lst\", sep=\"\\t\", index=False, header=False\n",
    "    )\n",
    "    \n",
    "to_metadata_file(df_train.copy(), \"train\")\n",
    "to_metadata_file(df_test.copy(), \"test\")"
   ]
  },
  {
   "cell_type": "markdown",
   "metadata": {},
   "source": [
    "We can also upload our manifest files:"
   ]
  },
  {
   "cell_type": "code",
   "execution_count": 32,
   "metadata": {},
   "outputs": [],
   "source": [
    "import boto3\n",
    "\n",
    "# Upload files\n",
    "boto3.Session().resource('s3').Bucket(\n",
    "    bucket).Object('train.lst').upload_file('./train.lst')\n",
    "boto3.Session().resource('s3').Bucket(\n",
    "    bucket).Object('test.lst').upload_file('./test.lst')"
   ]
  },
  {
   "cell_type": "markdown",
   "metadata": {},
   "source": [
    "Using the `bucket` and `region` info we can get the latest prebuilt container to run our training job, and define an output location on our s3 bucket for the model. Use the `image_uris` function from the SageMaker SDK to retrieve the latest `image-classification` image below:"
   ]
  },
  {
   "cell_type": "code",
   "execution_count": 33,
   "metadata": {},
   "outputs": [],
   "source": [
    "# Use the image_uris function to retrieve the latest 'image-classification' image \n",
    "\n",
    "algo_image = image_uris.retrieve(framework = \"image-classification\", region = region)\n",
    "s3_output_location = f\"s3://{bucket}/models/image_model\""
   ]
  },
  {
   "cell_type": "markdown",
   "metadata": {},
   "source": [
    "We're ready to create an estimator! Create an estimator `img_classifier_model` that uses one instance of `ml.p3.2xlarge`. Ensure that y ou use the output location we defined above - we'll be referring to that later!"
   ]
  },
  {
   "cell_type": "code",
   "execution_count": 34,
   "metadata": {},
   "outputs": [],
   "source": [
    "img_classifier_model=sagemaker.estimator.Estimator(image_uri = algo_image,\n",
    "                                                   role = role,\n",
    "                                                   instance_count = 1,\n",
    "                                                   instance_type = \"ml.p3.2xlarge\",\n",
    "                                                   output_path = s3_output_location,\n",
    "                                                   sagemaker_session = session\n",
    "                                                  )"
   ]
  },
  {
   "cell_type": "markdown",
   "metadata": {},
   "source": [
    "We can also set a few key hyperparameters and define the inputs for our model:"
   ]
  },
  {
   "cell_type": "markdown",
   "metadata": {},
   "source": [
    "# Non-Pretrained or Model From Scratch"
   ]
  },
  {
   "cell_type": "code",
   "execution_count": 35,
   "metadata": {},
   "outputs": [],
   "source": [
    "img_classifier_model.set_hyperparameters(\n",
    "    image_shape= \"3,32,32\",\n",
    "    num_classes = 2,\n",
    "    num_training_samples = df_train.shape[0],\n",
    "    epochs = 20,\n",
    "    augmentation_type = \"crop_color_transform\",\n",
    "    learning_rate = 0.01,\n",
    "    kv_store = 'dist_sync',\n",
    "    early_stopping=True,                      # Provide early stopping criteria to avoid overfitting\n",
    "    early_stopping_min_epochs=20,   \n",
    "    mini_batch_size = 32,  #64\n",
    "    num_layers = 152, #110\n",
    "    optimizer = 'adam',\n",
    "    eps = 1e-08,\n",
    "    beta_1 = 0.99,\n",
    "    beta_2 = 0.999,\n",
    "    use_pretrained_model = 0\n",
    ")"
   ]
  },
  {
   "cell_type": "markdown",
   "metadata": {},
   "source": [
    "## Pretrained Model"
   ]
  },
  {
   "cell_type": "code",
   "execution_count": 58,
   "metadata": {
    "tags": []
   },
   "outputs": [],
   "source": [
    "img_classifier_model.set_hyperparameters(\n",
    "    image_shape= \"3,32,32\",\n",
    "    num_classes = 2,\n",
    "    num_training_samples = df_train.shape[0],\n",
    "    epochs = 30,\n",
    "    augmentation_type = \"crop_color_transform\",\n",
    "    learning_rate = 0.0002,\n",
    "    kv_store = 'dist_sync',\n",
    "    early_stopping=True,                      # Provide early stopping criteria to avoid overfitting\n",
    "    early_stopping_min_epochs=15,   \n",
    "    mini_batch_size = 32,  #64\n",
    "    num_layers = 152, #110\n",
    "    optimizer = 'adam',\n",
    "    eps = 1e-08,\n",
    "    beta_1 = 0.9,\n",
    "    beta_2 = 0.999,\n",
    "    use_pretrained_model = 1)  "
   ]
  },
  {
   "cell_type": "markdown",
   "metadata": {},
   "source": [
    "The `image-classification` image uses four input channels with very specific input parameters. For convenience, we've provided them below:"
   ]
  },
  {
   "cell_type": "code",
   "execution_count": 59,
   "metadata": {},
   "outputs": [],
   "source": [
    "from sagemaker.debugger import Rule, rule_configs\n",
    "from sagemaker.session import TrainingInput\n",
    "model_inputs = {\n",
    "        \"train\": sagemaker.inputs.TrainingInput(\n",
    "            s3_data=f\"s3://{bucket}/train/\",\n",
    "            content_type=\"application/x-image\"\n",
    "        ),\n",
    "        \"validation\": sagemaker.inputs.TrainingInput(\n",
    "            s3_data=f\"s3://{bucket}/test/\",\n",
    "            content_type=\"application/x-image\"\n",
    "        ),\n",
    "        \"train_lst\": sagemaker.inputs.TrainingInput(\n",
    "            s3_data=f\"s3://{bucket}/train.lst\",\n",
    "            content_type=\"application/x-image\"\n",
    "        ),\n",
    "        \"validation_lst\": sagemaker.inputs.TrainingInput(\n",
    "            s3_data=f\"s3://{bucket}/test.lst\",\n",
    "            content_type=\"application/x-image\"\n",
    "        )\n",
    "}"
   ]
  },
  {
   "cell_type": "markdown",
   "metadata": {},
   "source": [
    "Great, now we can train the model using the model_inputs. In the cell below, call the `fit` method on our model,:"
   ]
  },
  {
   "cell_type": "markdown",
   "metadata": {},
   "source": [
    "# Model from Scratch (Non-Pretrained)"
   ]
  },
  {
   "cell_type": "code",
   "execution_count": 71,
   "metadata": {
    "tags": []
   },
   "outputs": [
    {
     "name": "stderr",
     "output_type": "stream",
     "text": [
      "INFO:sagemaker:Creating training-job with name: image-classification-2023-09-17-03-50-05-694\n"
     ]
    },
    {
     "name": "stdout",
     "output_type": "stream",
     "text": [
      "2023-09-17 03:50:05 Starting - Starting the training job...\n",
      "2023-09-17 03:50:31 Starting - Preparing the instances for training.........\n",
      "2023-09-17 03:52:04 Downloading - Downloading input data\n",
      "2023-09-17 03:52:04 Training - Downloading the training image..................\n",
      "2023-09-17 03:54:55 Training - Training image download completed. Training in progress....\u001b[34mDocker entrypoint called with argument(s): train\u001b[0m\n",
      "\u001b[34mRunning default environment configuration script\u001b[0m\n",
      "\u001b[34mNvidia gpu devices, drivers and cuda toolkit versions (only available on hosts with GPU):\u001b[0m\n",
      "\u001b[34mSun Sep 17 03:55:20 2023       \u001b[0m\n",
      "\u001b[34m+---------------------------------------------------------------------------------------+\u001b[0m\n",
      "\u001b[34m| NVIDIA-SMI 535.54.03              Driver Version: 535.54.03    CUDA Version: 12.2     |\u001b[0m\n",
      "\u001b[34m|-----------------------------------------+----------------------+----------------------+\u001b[0m\n",
      "\u001b[34m| GPU  Name                 Persistence-M | Bus-Id        Disp.A | Volatile Uncorr. ECC |\u001b[0m\n",
      "\u001b[34m| Fan  Temp   Perf          Pwr:Usage/Cap |         Memory-Usage | GPU-Util  Compute M. |\u001b[0m\n",
      "\u001b[34m|                                         |                      |               MIG M. |\u001b[0m\n",
      "\u001b[34m|=========================================+======================+======================|\u001b[0m\n",
      "\u001b[34m|   0  Tesla V100-SXM2-16GB           On  | 00000000:00:1E.0 Off |                    0 |\u001b[0m\n",
      "\u001b[34m| N/A   31C    P0              22W / 300W |      0MiB / 16384MiB |      0%      Default |\u001b[0m\n",
      "\u001b[34m|                                         |                      |                  N/A |\u001b[0m\n",
      "\u001b[34m+-----------------------------------------+----------------------+----------------------+\n",
      "                                                                                         \u001b[0m\n",
      "\u001b[34m+---------------------------------------------------------------------------------------+\u001b[0m\n",
      "\u001b[34m| Processes:                                                                            |\u001b[0m\n",
      "\u001b[34m|  GPU   GI   CI        PID   Type   Process name                            GPU Memory |\u001b[0m\n",
      "\u001b[34m|        ID   ID                                                             Usage      |\u001b[0m\n",
      "\u001b[34m|=======================================================================================|\u001b[0m\n",
      "\u001b[34m|  No running processes found                                                           |\u001b[0m\n",
      "\u001b[34m+---------------------------------------------------------------------------------------+\u001b[0m\n",
      "\u001b[34mChecking for nvidia driver and cuda compatibility.\u001b[0m\n",
      "\u001b[34mCUDA Compatibility driver provided.\u001b[0m\n",
      "\u001b[34mProceeding with compatibility check between driver, cuda-toolkit and cuda-compat.\u001b[0m\n",
      "\u001b[34mDetected cuda-toolkit version: 11.1.\u001b[0m\n",
      "\u001b[34mDetected cuda-compat version: 455.32.00.\u001b[0m\n",
      "\u001b[34mDetected Nvidia driver version: 535.54.03.\u001b[0m\n",
      "\u001b[34mNvidia driver compatible with cuda-toolkit. Disabling cuda-compat.\u001b[0m\n",
      "\u001b[34m[09/17/2023 03:55:24 INFO 139948517025600] Reading default configuration from /opt/amazon/lib/python3.7/site-packages/image_classification/default-input.json: {'use_pretrained_model': 0, 'num_layers': 152, 'epochs': 30, 'learning_rate': 0.1, 'lr_scheduler_factor': 0.1, 'optimizer': 'sgd', 'momentum': 0, 'weight_decay': 0.0001, 'beta_1': 0.9, 'beta_2': 0.999, 'eps': 1e-08, 'gamma': 0.9, 'mini_batch_size': 32, 'image_shape': '3,224,224', 'precision_dtype': 'float32'}\u001b[0m\n",
      "\u001b[34m[09/17/2023 03:55:24 INFO 139948517025600] Merging with provided configuration from /opt/ml/input/config/hyperparameters.json: {'augmentation_type': 'crop_color_transform', 'beta_1': '0.99', 'beta_2': '0.999', 'early_stopping': 'True', 'early_stopping_min_epochs': '20', 'epochs': '20', 'eps': '1e-08', 'image_shape': '3,32,32', 'kv_store': 'dist_sync', 'learning_rate': '0.01', 'mini_batch_size': '32', 'num_classes': '2', 'num_layers': '152', 'num_training_samples': '1000', 'optimizer': 'adam', 'use_pretrained_model': '0'}\u001b[0m\n",
      "\u001b[34m[09/17/2023 03:55:24 INFO 139948517025600] Final configuration: {'use_pretrained_model': '0', 'num_layers': '152', 'epochs': '20', 'learning_rate': '0.01', 'lr_scheduler_factor': 0.1, 'optimizer': 'adam', 'momentum': 0, 'weight_decay': 0.0001, 'beta_1': '0.99', 'beta_2': '0.999', 'eps': '1e-08', 'gamma': 0.9, 'mini_batch_size': '32', 'image_shape': '3,32,32', 'precision_dtype': 'float32', 'augmentation_type': 'crop_color_transform', 'early_stopping': 'True', 'early_stopping_min_epochs': '20', 'kv_store': 'dist_sync', 'num_classes': '2', 'num_training_samples': '1000'}\u001b[0m\n",
      "\u001b[34m[09/17/2023 03:55:24 INFO 139948517025600] Searching for .lst files in /opt/ml/input/data/train_lst.\u001b[0m\n",
      "\u001b[34m[09/17/2023 03:55:24 INFO 139948517025600] Creating record files for train.lst\u001b[0m\n",
      "\u001b[34m[09/17/2023 03:55:24 INFO 139948517025600] Done creating record files...\u001b[0m\n",
      "\u001b[34m[09/17/2023 03:55:24 INFO 139948517025600] Searching for .lst files in /opt/ml/input/data/validation_lst.\u001b[0m\n",
      "\u001b[34m[09/17/2023 03:55:24 INFO 139948517025600] Creating record files for test.lst\u001b[0m\n",
      "\u001b[34m[09/17/2023 03:55:24 INFO 139948517025600] Done creating record files...\u001b[0m\n",
      "\u001b[34m[09/17/2023 03:55:24 INFO 139948517025600] use_pretrained_model: 0\u001b[0m\n",
      "\u001b[34m[09/17/2023 03:55:24 INFO 139948517025600] multi_label: 0\u001b[0m\n",
      "\u001b[34m[09/17/2023 03:55:24 INFO 139948517025600] Performing random weight initialization\u001b[0m\n",
      "\u001b[34m[09/17/2023 03:55:24 INFO 139948517025600] ---- Parameters ----\u001b[0m\n",
      "\u001b[34m[09/17/2023 03:55:24 INFO 139948517025600] num_layers: 152\u001b[0m\n",
      "\u001b[34m[09/17/2023 03:55:24 INFO 139948517025600] data type: <class 'numpy.float32'>\u001b[0m\n",
      "\u001b[34m[09/17/2023 03:55:24 INFO 139948517025600] epochs: 20\u001b[0m\n",
      "\u001b[34m[09/17/2023 03:55:24 INFO 139948517025600] optimizer: adam\u001b[0m\n",
      "\u001b[34m[09/17/2023 03:55:24 INFO 139948517025600] beta_1: 0.99\u001b[0m\n",
      "\u001b[34m[09/17/2023 03:55:24 INFO 139948517025600] beta_2: 0.999\u001b[0m\n",
      "\u001b[34m[09/17/2023 03:55:24 INFO 139948517025600] eps: 1e-08\u001b[0m\n",
      "\u001b[34m[09/17/2023 03:55:24 INFO 139948517025600] learning_rate: 0.01\u001b[0m\n",
      "\u001b[34m[09/17/2023 03:55:24 INFO 139948517025600] num_training_samples: 1000\u001b[0m\n",
      "\u001b[34m[09/17/2023 03:55:24 INFO 139948517025600] mini_batch_size: 32\u001b[0m\n",
      "\u001b[34m[09/17/2023 03:55:24 INFO 139948517025600] image_shape: 3,32,32\u001b[0m\n",
      "\u001b[34m[09/17/2023 03:55:24 INFO 139948517025600] num_classes: 2\u001b[0m\n",
      "\u001b[34m[09/17/2023 03:55:24 INFO 139948517025600] augmentation_type: crop_color_transform\u001b[0m\n",
      "\u001b[34m[09/17/2023 03:55:24 INFO 139948517025600] kv_store: device\u001b[0m\n",
      "\u001b[34m[09/17/2023 03:55:24 INFO 139948517025600] checkpoint_frequency not set, will store the best model\u001b[0m\n",
      "\u001b[34m[09/17/2023 03:55:24 INFO 139948517025600] Using early stopping for training\u001b[0m\n",
      "\u001b[34m[09/17/2023 03:55:24 INFO 139948517025600] Early stopping minimum epochs: 20\u001b[0m\n",
      "\u001b[34m[09/17/2023 03:55:24 INFO 139948517025600] Early stopping patience: 10\u001b[0m\n",
      "\u001b[34m[09/17/2023 03:55:24 INFO 139948517025600] Early stopping tolerance: 0.01\u001b[0m\n",
      "\u001b[34m[09/17/2023 03:55:24 INFO 139948517025600] --------------------\u001b[0m\n",
      "\u001b[34m[09/17/2023 03:55:24 INFO 139948517025600] Setting number of threads: 7\u001b[0m\n",
      "\u001b[34m[03:55:28] /opt/brazil-pkg-cache/packages/AIAlgorithmsMXNet/AIAlgorithmsMXNet-1.4.x_ecl_Cuda_11.1.x.230.0/AL2_x86_64/generic-flavor/src/src/operator/nn/./cudnn/./cudnn_algoreg-inl.h:97: Running performance tests to find the best convolution algorithm, this can take a while... (setting env variable MXNET_CUDNN_AUTOTUNE_DEFAULT to 0 to disable)\u001b[0m\n",
      "\u001b[34m[09/17/2023 03:55:34 INFO 139948517025600] Epoch[0] Batch [20]#011Speed: 113.511 samples/sec#011accuracy=0.601190\u001b[0m\n",
      "\u001b[34m[09/17/2023 03:55:36 INFO 139948517025600] Epoch[0] Train-accuracy=0.604839\u001b[0m\n",
      "\u001b[34m[09/17/2023 03:55:36 INFO 139948517025600] Epoch[0] Time cost=7.475\u001b[0m\n",
      "\u001b[34m[09/17/2023 03:55:36 INFO 139948517025600] Epoch[0] Validation-accuracy=0.500000\u001b[0m\n",
      "\u001b[34m[09/17/2023 03:55:36 INFO 139948517025600] Storing the best model with validation accuracy: 0.500000\u001b[0m\n",
      "\u001b[34m[09/17/2023 03:55:37 INFO 139948517025600] Saved checkpoint to \"/opt/ml/model/image-classification-0001.params\"\u001b[0m\n",
      "\u001b[34m[09/17/2023 03:55:41 INFO 139948517025600] Epoch[1] Batch [20]#011Speed: 165.717 samples/sec#011accuracy=0.641369\u001b[0m\n",
      "\u001b[34m[09/17/2023 03:55:43 INFO 139948517025600] Epoch[1] Train-accuracy=0.625000\u001b[0m\n",
      "\u001b[34m[09/17/2023 03:55:43 INFO 139948517025600] Epoch[1] Time cost=5.710\u001b[0m\n",
      "\u001b[34m[09/17/2023 03:55:43 INFO 139948517025600] Epoch[1] Validation-accuracy=0.619792\u001b[0m\n",
      "\u001b[34m[09/17/2023 03:55:43 INFO 139948517025600] Storing the best model with validation accuracy: 0.619792\u001b[0m\n",
      "\u001b[34m[09/17/2023 03:55:44 INFO 139948517025600] Saved checkpoint to \"/opt/ml/model/image-classification-0002.params\"\u001b[0m\n",
      "\u001b[34m[09/17/2023 03:55:48 INFO 139948517025600] Epoch[2] Batch [20]#011Speed: 169.688 samples/sec#011accuracy=0.690476\u001b[0m\n",
      "\u001b[34m[09/17/2023 03:55:49 INFO 139948517025600] Epoch[2] Train-accuracy=0.695565\u001b[0m\n",
      "\u001b[34m[09/17/2023 03:55:49 INFO 139948517025600] Epoch[2] Time cost=5.607\u001b[0m\n",
      "\u001b[34m[09/17/2023 03:55:50 INFO 139948517025600] Epoch[2] Validation-accuracy=0.635417\u001b[0m\n",
      "\u001b[34m[09/17/2023 03:55:50 INFO 139948517025600] Storing the best model with validation accuracy: 0.635417\u001b[0m\n",
      "\u001b[34m[09/17/2023 03:55:51 INFO 139948517025600] Saved checkpoint to \"/opt/ml/model/image-classification-0003.params\"\u001b[0m\n",
      "\u001b[34m[09/17/2023 03:55:54 INFO 139948517025600] Epoch[3] Batch [20]#011Speed: 169.848 samples/sec#011accuracy=0.680060\u001b[0m\n",
      "\u001b[34m[09/17/2023 03:55:56 INFO 139948517025600] Epoch[3] Train-accuracy=0.694556\u001b[0m\n",
      "\u001b[34m[09/17/2023 03:55:56 INFO 139948517025600] Epoch[3] Time cost=5.606\u001b[0m\n",
      "\u001b[34m[09/17/2023 03:55:57 INFO 139948517025600] Epoch[3] Validation-accuracy=0.736607\u001b[0m\n",
      "\u001b[34m[09/17/2023 03:55:57 INFO 139948517025600] Storing the best model with validation accuracy: 0.736607\u001b[0m\n",
      "\u001b[34m[09/17/2023 03:55:57 INFO 139948517025600] Saved checkpoint to \"/opt/ml/model/image-classification-0004.params\"\u001b[0m\n",
      "\u001b[34m[09/17/2023 03:56:01 INFO 139948517025600] Epoch[4] Batch [20]#011Speed: 167.537 samples/sec#011accuracy=0.718750\u001b[0m\n",
      "\u001b[34m[09/17/2023 03:56:03 INFO 139948517025600] Epoch[4] Train-accuracy=0.711694\u001b[0m\n",
      "\u001b[34m[09/17/2023 03:56:03 INFO 139948517025600] Epoch[4] Time cost=5.723\u001b[0m\n",
      "\u001b[34m[09/17/2023 03:56:04 INFO 139948517025600] Epoch[4] Validation-accuracy=0.734375\u001b[0m\n",
      "\u001b[34m[09/17/2023 03:56:08 INFO 139948517025600] Epoch[5] Batch [20]#011Speed: 171.034 samples/sec#011accuracy=0.739583\u001b[0m\n",
      "\u001b[34m[09/17/2023 03:56:10 INFO 139948517025600] Epoch[5] Train-accuracy=0.729839\u001b[0m\n",
      "\u001b[34m[09/17/2023 03:56:10 INFO 139948517025600] Epoch[5] Time cost=5.562\u001b[0m\n",
      "\u001b[34m[09/17/2023 03:56:10 INFO 139948517025600] Epoch[5] Validation-accuracy=0.677083\u001b[0m\n",
      "\u001b[34m[09/17/2023 03:56:15 INFO 139948517025600] Epoch[6] Batch [20]#011Speed: 169.219 samples/sec#011accuracy=0.703869\u001b[0m\n",
      "\u001b[34m[09/17/2023 03:56:16 INFO 139948517025600] Epoch[6] Train-accuracy=0.720766\u001b[0m\n",
      "\u001b[34m[09/17/2023 03:56:16 INFO 139948517025600] Epoch[6] Time cost=5.623\u001b[0m\n",
      "\u001b[34m[09/17/2023 03:56:17 INFO 139948517025600] Epoch[6] Validation-accuracy=0.765625\u001b[0m\n",
      "\u001b[34m[09/17/2023 03:56:17 INFO 139948517025600] Storing the best model with validation accuracy: 0.765625\u001b[0m\n",
      "\u001b[34m[09/17/2023 03:56:18 INFO 139948517025600] Saved checkpoint to \"/opt/ml/model/image-classification-0007.params\"\u001b[0m\n",
      "\u001b[34m[09/17/2023 03:56:21 INFO 139948517025600] Epoch[7] Batch [20]#011Speed: 169.236 samples/sec#011accuracy=0.720238\u001b[0m\n",
      "\u001b[34m[09/17/2023 03:56:23 INFO 139948517025600] Epoch[7] Train-accuracy=0.730847\u001b[0m\n",
      "\u001b[34m[09/17/2023 03:56:23 INFO 139948517025600] Epoch[7] Time cost=5.630\u001b[0m\n",
      "\u001b[34m[09/17/2023 03:56:24 INFO 139948517025600] Epoch[7] Validation-accuracy=0.794643\u001b[0m\n",
      "\u001b[34m[09/17/2023 03:56:24 INFO 139948517025600] Storing the best model with validation accuracy: 0.794643\u001b[0m\n",
      "\u001b[34m[09/17/2023 03:56:24 INFO 139948517025600] Saved checkpoint to \"/opt/ml/model/image-classification-0008.params\"\u001b[0m\n",
      "\u001b[34m[09/17/2023 03:56:28 INFO 139948517025600] Epoch[8] Batch [20]#011Speed: 168.857 samples/sec#011accuracy=0.767857\u001b[0m\n",
      "\u001b[34m[09/17/2023 03:56:30 INFO 139948517025600] Epoch[8] Train-accuracy=0.758065\u001b[0m\n",
      "\u001b[34m[09/17/2023 03:56:30 INFO 139948517025600] Epoch[8] Time cost=5.632\u001b[0m\n",
      "\u001b[34m[09/17/2023 03:56:31 INFO 139948517025600] Epoch[8] Validation-accuracy=0.625000\u001b[0m\n",
      "\u001b[34m[09/17/2023 03:56:35 INFO 139948517025600] Epoch[9] Batch [20]#011Speed: 169.802 samples/sec#011accuracy=0.770833\u001b[0m\n",
      "\u001b[34m[09/17/2023 03:56:37 INFO 139948517025600] Epoch[9] Train-accuracy=0.755040\u001b[0m\n",
      "\u001b[34m[09/17/2023 03:56:37 INFO 139948517025600] Epoch[9] Time cost=5.616\u001b[0m\n",
      "\u001b[34m[09/17/2023 03:56:37 INFO 139948517025600] Epoch[9] Validation-accuracy=0.750000\u001b[0m\n",
      "\u001b[34m[09/17/2023 03:56:42 INFO 139948517025600] Epoch[10] Batch [20]#011Speed: 169.433 samples/sec#011accuracy=0.741071\u001b[0m\n",
      "\u001b[34m[09/17/2023 03:56:43 INFO 139948517025600] Epoch[10] Train-accuracy=0.751008\u001b[0m\n",
      "\u001b[34m[09/17/2023 03:56:43 INFO 139948517025600] Epoch[10] Time cost=5.602\u001b[0m\n",
      "\u001b[34m[09/17/2023 03:56:44 INFO 139948517025600] Epoch[10] Validation-accuracy=0.781250\u001b[0m\n",
      "\u001b[34m[09/17/2023 03:56:48 INFO 139948517025600] Epoch[11] Batch [20]#011Speed: 172.835 samples/sec#011accuracy=0.758929\u001b[0m\n",
      "\u001b[34m[09/17/2023 03:56:50 INFO 139948517025600] Epoch[11] Train-accuracy=0.756048\u001b[0m\n",
      "\u001b[34m[09/17/2023 03:56:50 INFO 139948517025600] Epoch[11] Time cost=5.543\u001b[0m\n",
      "\u001b[34m[09/17/2023 03:56:50 INFO 139948517025600] Epoch[11] Validation-accuracy=0.705357\u001b[0m\n",
      "\u001b[34m[09/17/2023 03:56:55 INFO 139948517025600] Epoch[12] Batch [20]#011Speed: 170.399 samples/sec#011accuracy=0.773810\u001b[0m\n",
      "\u001b[34m[09/17/2023 03:56:57 INFO 139948517025600] Epoch[12] Train-accuracy=0.781250\u001b[0m\n",
      "\u001b[34m[09/17/2023 03:56:57 INFO 139948517025600] Epoch[12] Time cost=5.594\u001b[0m\n",
      "\u001b[34m[09/17/2023 03:56:57 INFO 139948517025600] Epoch[12] Validation-accuracy=0.864583\u001b[0m\n",
      "\u001b[34m[09/17/2023 03:56:57 INFO 139948517025600] Storing the best model with validation accuracy: 0.864583\u001b[0m\n",
      "\u001b[34m[09/17/2023 03:56:58 INFO 139948517025600] Saved checkpoint to \"/opt/ml/model/image-classification-0013.params\"\u001b[0m\n",
      "\u001b[34m[09/17/2023 03:57:02 INFO 139948517025600] Epoch[13] Batch [20]#011Speed: 168.866 samples/sec#011accuracy=0.741071\u001b[0m\n",
      "\u001b[34m[09/17/2023 03:57:03 INFO 139948517025600] Epoch[13] Train-accuracy=0.754032\u001b[0m\n",
      "\u001b[34m[09/17/2023 03:57:03 INFO 139948517025600] Epoch[13] Time cost=5.684\u001b[0m\n",
      "\u001b[34m[09/17/2023 03:57:04 INFO 139948517025600] Epoch[13] Validation-accuracy=0.822917\u001b[0m\n",
      "\u001b[34m[09/17/2023 03:57:08 INFO 139948517025600] Epoch[14] Batch [20]#011Speed: 170.463 samples/sec#011accuracy=0.754464\u001b[0m\n",
      "\u001b[34m[09/17/2023 03:57:10 INFO 139948517025600] Epoch[14] Train-accuracy=0.757056\u001b[0m\n",
      "\u001b[34m[09/17/2023 03:57:10 INFO 139948517025600] Epoch[14] Time cost=5.598\u001b[0m\n",
      "\u001b[34m[09/17/2023 03:57:11 INFO 139948517025600] Epoch[14] Validation-accuracy=0.807292\u001b[0m\n",
      "\u001b[34m[09/17/2023 03:57:15 INFO 139948517025600] Epoch[15] Batch [20]#011Speed: 170.853 samples/sec#011accuracy=0.773810\u001b[0m\n",
      "\u001b[34m[09/17/2023 03:57:17 INFO 139948517025600] Epoch[15] Train-accuracy=0.765121\u001b[0m\n",
      "\u001b[34m[09/17/2023 03:57:17 INFO 139948517025600] Epoch[15] Time cost=5.588\u001b[0m\n",
      "\u001b[34m[09/17/2023 03:57:17 INFO 139948517025600] Epoch[15] Validation-accuracy=0.718750\u001b[0m\n",
      "\u001b[34m[09/17/2023 03:57:22 INFO 139948517025600] Epoch[16] Batch [20]#011Speed: 168.394 samples/sec#011accuracy=0.782738\u001b[0m\n",
      "\u001b[34m[09/17/2023 03:57:23 INFO 139948517025600] Epoch[16] Train-accuracy=0.765121\u001b[0m\n",
      "\u001b[34m[09/17/2023 03:57:23 INFO 139948517025600] Epoch[16] Time cost=5.628\u001b[0m\n",
      "\u001b[34m[09/17/2023 03:57:24 INFO 139948517025600] Epoch[16] Validation-accuracy=0.744792\u001b[0m\n",
      "\u001b[34m[09/17/2023 03:57:28 INFO 139948517025600] Epoch[17] Batch [20]#011Speed: 171.789 samples/sec#011accuracy=0.782738\u001b[0m\n",
      "\u001b[34m[09/17/2023 03:57:30 INFO 139948517025600] Epoch[17] Train-accuracy=0.782258\u001b[0m\n",
      "\u001b[34m[09/17/2023 03:57:30 INFO 139948517025600] Epoch[17] Time cost=5.576\u001b[0m\n",
      "\u001b[34m[09/17/2023 03:57:30 INFO 139948517025600] Epoch[17] Validation-accuracy=0.776042\u001b[0m\n",
      "\u001b[34m[09/17/2023 03:57:35 INFO 139948517025600] Epoch[18] Batch [20]#011Speed: 171.686 samples/sec#011accuracy=0.796131\u001b[0m\n",
      "\u001b[34m[09/17/2023 03:57:37 INFO 139948517025600] Epoch[18] Train-accuracy=0.795363\u001b[0m\n",
      "\u001b[34m[09/17/2023 03:57:37 INFO 139948517025600] Epoch[18] Time cost=5.570\u001b[0m\n",
      "\u001b[34m[09/17/2023 03:57:37 INFO 139948517025600] Epoch[18] Validation-accuracy=0.822917\u001b[0m\n",
      "\u001b[34m[09/17/2023 03:57:41 INFO 139948517025600] Epoch[19] Batch [20]#011Speed: 171.271 samples/sec#011accuracy=0.800595\u001b[0m\n",
      "\u001b[34m[09/17/2023 03:57:43 INFO 139948517025600] Epoch[19] Train-accuracy=0.793347\u001b[0m\n",
      "\u001b[34m[09/17/2023 03:57:43 INFO 139948517025600] Epoch[19] Time cost=5.566\u001b[0m\n",
      "\u001b[34m[09/17/2023 03:57:44 INFO 139948517025600] Epoch[19] Validation-accuracy=0.821429\u001b[0m\n",
      "\n",
      "2023-09-17 03:57:51 Uploading - Uploading generated training model\n",
      "2023-09-17 03:58:17 Completed - Training job completed\n",
      "Training seconds: 398\n",
      "Billable seconds: 398\n"
     ]
    }
   ],
   "source": [
    "img_classifier_model.fit(inputs = model_inputs)"
   ]
  },
  {
   "cell_type": "markdown",
   "metadata": {},
   "source": [
    "## Using Pretrained Model"
   ]
  },
  {
   "cell_type": "code",
   "execution_count": 60,
   "metadata": {},
   "outputs": [
    {
     "name": "stderr",
     "output_type": "stream",
     "text": [
      "INFO:sagemaker:Creating training-job with name: image-classification-2023-09-17-20-25-05-388\n"
     ]
    },
    {
     "name": "stdout",
     "output_type": "stream",
     "text": [
      "2023-09-17 20:25:05 Starting - Starting the training job...\n",
      "2023-09-17 20:25:31 Starting - Preparing the instances for training.........\n",
      "2023-09-17 20:26:42 Downloading - Downloading input data...\n",
      "2023-09-17 20:27:07 Training - Downloading the training image............\n",
      "2023-09-17 20:29:19 Training - Training image download completed. Training in progress...\u001b[34mDocker entrypoint called with argument(s): train\u001b[0m\n",
      "\u001b[34mRunning default environment configuration script\u001b[0m\n",
      "\u001b[34mNvidia gpu devices, drivers and cuda toolkit versions (only available on hosts with GPU):\u001b[0m\n",
      "\u001b[34mSun Sep 17 20:29:47 2023       \u001b[0m\n",
      "\u001b[34m+---------------------------------------------------------------------------------------+\u001b[0m\n",
      "\u001b[34m| NVIDIA-SMI 535.54.03              Driver Version: 535.54.03    CUDA Version: 12.2     |\u001b[0m\n",
      "\u001b[34m|-----------------------------------------+----------------------+----------------------+\u001b[0m\n",
      "\u001b[34m| GPU  Name                 Persistence-M | Bus-Id        Disp.A | Volatile Uncorr. ECC |\u001b[0m\n",
      "\u001b[34m| Fan  Temp   Perf          Pwr:Usage/Cap |         Memory-Usage | GPU-Util  Compute M. |\u001b[0m\n",
      "\u001b[34m|                                         |                      |               MIG M. |\u001b[0m\n",
      "\u001b[34m|=========================================+======================+======================|\u001b[0m\n",
      "\u001b[34m|   0  Tesla V100-SXM2-16GB           On  | 00000000:00:1E.0 Off |                    0 |\u001b[0m\n",
      "\u001b[34m| N/A   31C    P0              22W / 300W |      0MiB / 16384MiB |      0%      Default |\u001b[0m\n",
      "\u001b[34m|                                         |                      |                  N/A |\u001b[0m\n",
      "\u001b[34m+-----------------------------------------+----------------------+----------------------+\n",
      "                                                                                         \u001b[0m\n",
      "\u001b[34m+---------------------------------------------------------------------------------------+\u001b[0m\n",
      "\u001b[34m| Processes:                                                                            |\u001b[0m\n",
      "\u001b[34m|  GPU   GI   CI        PID   Type   Process name                            GPU Memory |\u001b[0m\n",
      "\u001b[34m|        ID   ID                                                             Usage      |\u001b[0m\n",
      "\u001b[34m|=======================================================================================|\u001b[0m\n",
      "\u001b[34m|  No running processes found                                                           |\u001b[0m\n",
      "\u001b[34m+---------------------------------------------------------------------------------------+\u001b[0m\n",
      "\u001b[34mChecking for nvidia driver and cuda compatibility.\u001b[0m\n",
      "\u001b[34mCUDA Compatibility driver provided.\u001b[0m\n",
      "\u001b[34mProceeding with compatibility check between driver, cuda-toolkit and cuda-compat.\u001b[0m\n",
      "\u001b[34mDetected cuda-toolkit version: 11.1.\u001b[0m\n",
      "\u001b[34mDetected cuda-compat version: 455.32.00.\u001b[0m\n",
      "\u001b[34mDetected Nvidia driver version: 535.54.03.\u001b[0m\n",
      "\u001b[34mNvidia driver compatible with cuda-toolkit. Disabling cuda-compat.\u001b[0m\n",
      "\u001b[34m[09/17/2023 20:29:50 INFO 140185695803200] Reading default configuration from /opt/amazon/lib/python3.7/site-packages/image_classification/default-input.json: {'use_pretrained_model': 0, 'num_layers': 152, 'epochs': 30, 'learning_rate': 0.1, 'lr_scheduler_factor': 0.1, 'optimizer': 'sgd', 'momentum': 0, 'weight_decay': 0.0001, 'beta_1': 0.9, 'beta_2': 0.999, 'eps': 1e-08, 'gamma': 0.9, 'mini_batch_size': 32, 'image_shape': '3,224,224', 'precision_dtype': 'float32'}\u001b[0m\n",
      "\u001b[34m[09/17/2023 20:29:50 INFO 140185695803200] Merging with provided configuration from /opt/ml/input/config/hyperparameters.json: {'augmentation_type': 'crop_color_transform', 'beta_1': '0.9', 'beta_2': '0.999', 'early_stopping': 'True', 'early_stopping_min_epochs': '15', 'epochs': '30', 'eps': '1e-08', 'image_shape': '3,32,32', 'kv_store': 'dist_sync', 'learning_rate': '0.0002', 'mini_batch_size': '32', 'num_classes': '2', 'num_layers': '152', 'num_training_samples': '1000', 'optimizer': 'adam', 'use_pretrained_model': '1'}\u001b[0m\n",
      "\u001b[34m[09/17/2023 20:29:50 INFO 140185695803200] Final configuration: {'use_pretrained_model': '1', 'num_layers': '152', 'epochs': '30', 'learning_rate': '0.0002', 'lr_scheduler_factor': 0.1, 'optimizer': 'adam', 'momentum': 0, 'weight_decay': 0.0001, 'beta_1': '0.9', 'beta_2': '0.999', 'eps': '1e-08', 'gamma': 0.9, 'mini_batch_size': '32', 'image_shape': '3,32,32', 'precision_dtype': 'float32', 'augmentation_type': 'crop_color_transform', 'early_stopping': 'True', 'early_stopping_min_epochs': '15', 'kv_store': 'dist_sync', 'num_classes': '2', 'num_training_samples': '1000'}\u001b[0m\n",
      "\u001b[34m[09/17/2023 20:29:50 INFO 140185695803200] Searching for .lst files in /opt/ml/input/data/train_lst.\u001b[0m\n",
      "\u001b[34m[09/17/2023 20:29:51 INFO 140185695803200] Creating record files for train.lst\u001b[0m\n",
      "\u001b[34m[09/17/2023 20:29:51 INFO 140185695803200] Done creating record files...\u001b[0m\n",
      "\u001b[34m[09/17/2023 20:29:51 INFO 140185695803200] Searching for .lst files in /opt/ml/input/data/validation_lst.\u001b[0m\n",
      "\u001b[34m[09/17/2023 20:29:51 INFO 140185695803200] Creating record files for test.lst\u001b[0m\n",
      "\u001b[34m[09/17/2023 20:29:51 INFO 140185695803200] Done creating record files...\u001b[0m\n",
      "\u001b[34m[09/17/2023 20:29:51 INFO 140185695803200] use_pretrained_model: 1\u001b[0m\n",
      "\u001b[34m[09/17/2023 20:29:51 INFO 140185695803200] multi_label: 0\u001b[0m\n",
      "\u001b[34m[09/17/2023 20:29:51 INFO 140185695803200] Using pretrained model for initializing weights and transfer learning.\u001b[0m\n",
      "\u001b[34m[09/17/2023 20:29:51 INFO 140185695803200] ---- Parameters ----\u001b[0m\n",
      "\u001b[34m[09/17/2023 20:29:51 INFO 140185695803200] num_layers: 152\u001b[0m\n",
      "\u001b[34m[09/17/2023 20:29:51 INFO 140185695803200] data type: <class 'numpy.float32'>\u001b[0m\n",
      "\u001b[34m[09/17/2023 20:29:51 INFO 140185695803200] epochs: 30\u001b[0m\n",
      "\u001b[34m[09/17/2023 20:29:51 INFO 140185695803200] optimizer: adam\u001b[0m\n",
      "\u001b[34m[09/17/2023 20:29:51 INFO 140185695803200] beta_1: 0.9\u001b[0m\n",
      "\u001b[34m[09/17/2023 20:29:51 INFO 140185695803200] beta_2: 0.999\u001b[0m\n",
      "\u001b[34m[09/17/2023 20:29:51 INFO 140185695803200] eps: 1e-08\u001b[0m\n",
      "\u001b[34m[09/17/2023 20:29:51 INFO 140185695803200] learning_rate: 0.0002\u001b[0m\n",
      "\u001b[34m[09/17/2023 20:29:51 INFO 140185695803200] num_training_samples: 1000\u001b[0m\n",
      "\u001b[34m[09/17/2023 20:29:51 INFO 140185695803200] mini_batch_size: 32\u001b[0m\n",
      "\u001b[34m[09/17/2023 20:29:51 INFO 140185695803200] image_shape: 3,32,32\u001b[0m\n",
      "\u001b[34m[09/17/2023 20:29:51 INFO 140185695803200] num_classes: 2\u001b[0m\n",
      "\u001b[34m[09/17/2023 20:29:51 INFO 140185695803200] augmentation_type: crop_color_transform\u001b[0m\n",
      "\u001b[34m[09/17/2023 20:29:51 INFO 140185695803200] kv_store: device\u001b[0m\n",
      "\u001b[34m[09/17/2023 20:29:51 INFO 140185695803200] checkpoint_frequency not set, will store the best model\u001b[0m\n",
      "\u001b[34m[09/17/2023 20:29:51 INFO 140185695803200] Using early stopping for training\u001b[0m\n",
      "\u001b[34m[09/17/2023 20:29:51 INFO 140185695803200] Early stopping minimum epochs: 15\u001b[0m\n",
      "\u001b[34m[09/17/2023 20:29:51 INFO 140185695803200] Early stopping patience: 10\u001b[0m\n",
      "\u001b[34m[09/17/2023 20:29:51 INFO 140185695803200] Early stopping tolerance: 0.01\u001b[0m\n",
      "\u001b[34m[09/17/2023 20:29:51 INFO 140185695803200] --------------------\u001b[0m\n",
      "\u001b[34m[20:29:51] /opt/brazil-pkg-cache/packages/AIAlgorithmsMXNet/AIAlgorithmsMXNet-1.4.x_ecl_Cuda_11.1.x.230.0/AL2_x86_64/generic-flavor/src/src/nnvm/legacy_json_util.cc:209: Loading symbol saved by previous version v0.8.0. Attempting to upgrade...\u001b[0m\n",
      "\u001b[34m[20:29:51] /opt/brazil-pkg-cache/packages/AIAlgorithmsMXNet/AIAlgorithmsMXNet-1.4.x_ecl_Cuda_11.1.x.230.0/AL2_x86_64/generic-flavor/src/src/nnvm/legacy_json_util.cc:217: Symbol successfully upgraded!\u001b[0m\n",
      "\u001b[34m[09/17/2023 20:29:51 INFO 140185695803200] Setting number of threads: 7\u001b[0m\n",
      "\u001b[34m[20:29:55] /opt/brazil-pkg-cache/packages/AIAlgorithmsMXNet/AIAlgorithmsMXNet-1.4.x_ecl_Cuda_11.1.x.230.0/AL2_x86_64/generic-flavor/src/src/operator/nn/./cudnn/./cudnn_algoreg-inl.h:97: Running performance tests to find the best convolution algorithm, this can take a while... (setting env variable MXNET_CUDNN_AUTOTUNE_DEFAULT to 0 to disable)\u001b[0m\n",
      "\u001b[34m[09/17/2023 20:29:58 INFO 140185695803200] Epoch[0] Batch [20]#011Speed: 177.366 samples/sec#011accuracy=0.614583\u001b[0m\n",
      "\u001b[34m[09/17/2023 20:30:00 INFO 140185695803200] Epoch[0] Train-accuracy=0.662298\u001b[0m\n",
      "\u001b[34m[09/17/2023 20:30:00 INFO 140185695803200] Epoch[0] Time cost=4.874\u001b[0m\n",
      "\u001b[34m[09/17/2023 20:30:00 INFO 140185695803200] Epoch[0] Validation-accuracy=0.770833\u001b[0m\n",
      "\u001b[34m[09/17/2023 20:30:00 INFO 140185695803200] Storing the best model with validation accuracy: 0.770833\u001b[0m\n",
      "\u001b[34m[09/17/2023 20:30:01 INFO 140185695803200] Saved checkpoint to \"/opt/ml/model/image-classification-0001.params\"\u001b[0m\n",
      "\u001b[34m[09/17/2023 20:30:03 INFO 140185695803200] Epoch[1] Batch [20]#011Speed: 243.420 samples/sec#011accuracy=0.796131\u001b[0m\n",
      "\u001b[34m[09/17/2023 20:30:05 INFO 140185695803200] Epoch[1] Train-accuracy=0.791331\u001b[0m\n",
      "\u001b[34m[09/17/2023 20:30:05 INFO 140185695803200] Epoch[1] Time cost=3.911\u001b[0m\n",
      "\u001b[34m[09/17/2023 20:30:05 INFO 140185695803200] Epoch[1] Validation-accuracy=0.802083\u001b[0m\n",
      "\u001b[34m[09/17/2023 20:30:05 INFO 140185695803200] Storing the best model with validation accuracy: 0.802083\u001b[0m\n",
      "\u001b[34m[09/17/2023 20:30:06 INFO 140185695803200] Saved checkpoint to \"/opt/ml/model/image-classification-0002.params\"\u001b[0m\n",
      "\u001b[34m[09/17/2023 20:30:08 INFO 140185695803200] Epoch[2] Batch [20]#011Speed: 250.778 samples/sec#011accuracy=0.822917\u001b[0m\n",
      "\u001b[34m[09/17/2023 20:30:09 INFO 140185695803200] Epoch[2] Train-accuracy=0.817540\u001b[0m\n",
      "\u001b[34m[09/17/2023 20:30:09 INFO 140185695803200] Epoch[2] Time cost=3.775\u001b[0m\n",
      "\u001b[34m[09/17/2023 20:30:10 INFO 140185695803200] Epoch[2] Validation-accuracy=0.864583\u001b[0m\n",
      "\u001b[34m[09/17/2023 20:30:10 INFO 140185695803200] Storing the best model with validation accuracy: 0.864583\u001b[0m\n",
      "\u001b[34m[09/17/2023 20:30:11 INFO 140185695803200] Saved checkpoint to \"/opt/ml/model/image-classification-0003.params\"\u001b[0m\n",
      "\u001b[34m[09/17/2023 20:30:13 INFO 140185695803200] Epoch[3] Batch [20]#011Speed: 255.496 samples/sec#011accuracy=0.818452\u001b[0m\n",
      "\u001b[34m[09/17/2023 20:30:14 INFO 140185695803200] Epoch[3] Train-accuracy=0.822581\u001b[0m\n",
      "\u001b[34m[09/17/2023 20:30:14 INFO 140185695803200] Epoch[3] Time cost=3.681\u001b[0m\n",
      "\u001b[34m[09/17/2023 20:30:15 INFO 140185695803200] Epoch[3] Validation-accuracy=0.857143\u001b[0m\n",
      "\u001b[34m[09/17/2023 20:30:18 INFO 140185695803200] Epoch[4] Batch [20]#011Speed: 256.755 samples/sec#011accuracy=0.866071\u001b[0m\n",
      "\u001b[34m[09/17/2023 20:30:19 INFO 140185695803200] Epoch[4] Train-accuracy=0.866935\u001b[0m\n",
      "\u001b[34m[09/17/2023 20:30:19 INFO 140185695803200] Epoch[4] Time cost=3.675\u001b[0m\n",
      "\u001b[34m[09/17/2023 20:30:19 INFO 140185695803200] Epoch[4] Validation-accuracy=0.880208\u001b[0m\n",
      "\u001b[34m[09/17/2023 20:30:19 INFO 140185695803200] Storing the best model with validation accuracy: 0.880208\u001b[0m\n",
      "\u001b[34m[09/17/2023 20:30:20 INFO 140185695803200] Saved checkpoint to \"/opt/ml/model/image-classification-0005.params\"\u001b[0m\n",
      "\u001b[34m[09/17/2023 20:30:22 INFO 140185695803200] Epoch[5] Batch [20]#011Speed: 261.332 samples/sec#011accuracy=0.885417\u001b[0m\n",
      "\u001b[34m[09/17/2023 20:30:23 INFO 140185695803200] Epoch[5] Train-accuracy=0.880040\u001b[0m\n",
      "\u001b[34m[09/17/2023 20:30:23 INFO 140185695803200] Epoch[5] Time cost=3.661\u001b[0m\n",
      "\u001b[34m[09/17/2023 20:30:24 INFO 140185695803200] Epoch[5] Validation-accuracy=0.906250\u001b[0m\n",
      "\u001b[34m[09/17/2023 20:30:24 INFO 140185695803200] Storing the best model with validation accuracy: 0.906250\u001b[0m\n",
      "\u001b[34m[09/17/2023 20:30:25 INFO 140185695803200] Saved checkpoint to \"/opt/ml/model/image-classification-0006.params\"\u001b[0m\n",
      "\u001b[34m[09/17/2023 20:30:27 INFO 140185695803200] Epoch[6] Batch [20]#011Speed: 262.124 samples/sec#011accuracy=0.867560\u001b[0m\n",
      "\u001b[34m[09/17/2023 20:30:28 INFO 140185695803200] Epoch[6] Train-accuracy=0.868952\u001b[0m\n",
      "\u001b[34m[09/17/2023 20:30:28 INFO 140185695803200] Epoch[6] Time cost=3.669\u001b[0m\n",
      "\u001b[34m[09/17/2023 20:30:29 INFO 140185695803200] Epoch[6] Validation-accuracy=0.937500\u001b[0m\n",
      "\u001b[34m[09/17/2023 20:30:29 INFO 140185695803200] Storing the best model with validation accuracy: 0.937500\u001b[0m\n",
      "\u001b[34m[09/17/2023 20:30:29 INFO 140185695803200] Saved checkpoint to \"/opt/ml/model/image-classification-0007.params\"\u001b[0m\n",
      "\u001b[34m[09/17/2023 20:30:32 INFO 140185695803200] Epoch[7] Batch [20]#011Speed: 261.253 samples/sec#011accuracy=0.916667\u001b[0m\n",
      "\u001b[34m[09/17/2023 20:30:33 INFO 140185695803200] Epoch[7] Train-accuracy=0.908266\u001b[0m\n",
      "\u001b[34m[09/17/2023 20:30:33 INFO 140185695803200] Epoch[7] Time cost=3.688\u001b[0m\n",
      "\u001b[34m[09/17/2023 20:30:33 INFO 140185695803200] Epoch[7] Validation-accuracy=0.906250\u001b[0m\n",
      "\u001b[34m[09/17/2023 20:30:36 INFO 140185695803200] Epoch[8] Batch [20]#011Speed: 260.981 samples/sec#011accuracy=0.916667\u001b[0m\n",
      "\u001b[34m[09/17/2023 20:30:37 INFO 140185695803200] Epoch[8] Train-accuracy=0.912298\u001b[0m\n",
      "\u001b[34m[09/17/2023 20:30:38 INFO 140185695803200] Epoch[8] Time cost=3.655\u001b[0m\n",
      "\u001b[34m[09/17/2023 20:30:38 INFO 140185695803200] Epoch[8] Validation-accuracy=0.932292\u001b[0m\n",
      "\u001b[34m[09/17/2023 20:30:41 INFO 140185695803200] Epoch[9] Batch [20]#011Speed: 266.037 samples/sec#011accuracy=0.915179\u001b[0m\n",
      "\u001b[34m[09/17/2023 20:30:42 INFO 140185695803200] Epoch[9] Train-accuracy=0.923387\u001b[0m\n",
      "\u001b[34m[09/17/2023 20:30:42 INFO 140185695803200] Epoch[9] Time cost=3.592\u001b[0m\n",
      "\u001b[34m[09/17/2023 20:30:42 INFO 140185695803200] Epoch[9] Validation-accuracy=0.921875\u001b[0m\n",
      "\u001b[34m[09/17/2023 20:30:45 INFO 140185695803200] Epoch[10] Batch [20]#011Speed: 258.964 samples/sec#011accuracy=0.937500\u001b[0m\n",
      "\u001b[34m[09/17/2023 20:30:46 INFO 140185695803200] Epoch[10] Train-accuracy=0.937500\u001b[0m\n",
      "\u001b[34m[09/17/2023 20:30:46 INFO 140185695803200] Epoch[10] Time cost=3.689\u001b[0m\n",
      "\u001b[34m[09/17/2023 20:30:47 INFO 140185695803200] Epoch[10] Validation-accuracy=0.932292\u001b[0m\n",
      "\u001b[34m[09/17/2023 20:30:50 INFO 140185695803200] Epoch[11] Batch [20]#011Speed: 257.267 samples/sec#011accuracy=0.950893\u001b[0m\n",
      "\u001b[34m[09/17/2023 20:30:51 INFO 140185695803200] Epoch[11] Train-accuracy=0.951613\u001b[0m\n",
      "\u001b[34m[09/17/2023 20:30:51 INFO 140185695803200] Epoch[11] Time cost=3.726\u001b[0m\n",
      "\u001b[34m[09/17/2023 20:30:51 INFO 140185695803200] Epoch[11] Validation-accuracy=0.915179\u001b[0m\n",
      "\u001b[34m[09/17/2023 20:30:54 INFO 140185695803200] Epoch[12] Batch [20]#011Speed: 253.957 samples/sec#011accuracy=0.944940\u001b[0m\n",
      "\u001b[34m[09/17/2023 20:30:56 INFO 140185695803200] Epoch[12] Train-accuracy=0.940524\u001b[0m\n",
      "\u001b[34m[09/17/2023 20:30:56 INFO 140185695803200] Epoch[12] Time cost=3.723\u001b[0m\n",
      "\u001b[34m[09/17/2023 20:30:56 INFO 140185695803200] Epoch[12] Validation-accuracy=0.942708\u001b[0m\n",
      "\u001b[34m[09/17/2023 20:30:56 INFO 140185695803200] Storing the best model with validation accuracy: 0.942708\u001b[0m\n",
      "\u001b[34m[09/17/2023 20:30:57 INFO 140185695803200] Saved checkpoint to \"/opt/ml/model/image-classification-0013.params\"\u001b[0m\n",
      "\u001b[34m[09/17/2023 20:30:59 INFO 140185695803200] Epoch[13] Batch [20]#011Speed: 259.724 samples/sec#011accuracy=0.941964\u001b[0m\n",
      "\u001b[34m[09/17/2023 20:31:00 INFO 140185695803200] Epoch[13] Train-accuracy=0.944556\u001b[0m\n",
      "\u001b[34m[09/17/2023 20:31:00 INFO 140185695803200] Epoch[13] Time cost=3.707\u001b[0m\n",
      "\u001b[34m[09/17/2023 20:31:01 INFO 140185695803200] Epoch[13] Validation-accuracy=0.953125\u001b[0m\n",
      "\u001b[34m[09/17/2023 20:31:01 INFO 140185695803200] Storing the best model with validation accuracy: 0.953125\u001b[0m\n",
      "\u001b[34m[09/17/2023 20:31:02 INFO 140185695803200] Saved checkpoint to \"/opt/ml/model/image-classification-0014.params\"\u001b[0m\n",
      "\u001b[34m[09/17/2023 20:31:04 INFO 140185695803200] Epoch[14] Batch [20]#011Speed: 242.833 samples/sec#011accuracy=0.961310\u001b[0m\n",
      "\u001b[34m[09/17/2023 20:31:05 INFO 140185695803200] Epoch[14] Train-accuracy=0.964718\u001b[0m\n",
      "\u001b[34m[09/17/2023 20:31:05 INFO 140185695803200] Epoch[14] Time cost=3.809\u001b[0m\n",
      "\u001b[34m[09/17/2023 20:31:06 INFO 140185695803200] Epoch[14] Validation-accuracy=0.921875\u001b[0m\n",
      "\u001b[34m[09/17/2023 20:31:09 INFO 140185695803200] Epoch[15] Batch [20]#011Speed: 260.846 samples/sec#011accuracy=0.965774\u001b[0m\n",
      "\u001b[34m[09/17/2023 20:31:10 INFO 140185695803200] Epoch[15] Train-accuracy=0.958669\u001b[0m\n",
      "\u001b[34m[09/17/2023 20:31:10 INFO 140185695803200] Epoch[15] Time cost=3.673\u001b[0m\n",
      "\u001b[34m[09/17/2023 20:31:10 INFO 140185695803200] Epoch[15] Validation-accuracy=0.937500\u001b[0m\n",
      "\u001b[34m[09/17/2023 20:31:13 INFO 140185695803200] Epoch[16] Batch [20]#011Speed: 252.761 samples/sec#011accuracy=0.974702\u001b[0m\n",
      "\u001b[34m[09/17/2023 20:31:15 INFO 140185695803200] Epoch[16] Train-accuracy=0.969758\u001b[0m\n",
      "\u001b[34m[09/17/2023 20:31:15 INFO 140185695803200] Epoch[16] Time cost=3.761\u001b[0m\n",
      "\u001b[34m[09/17/2023 20:31:15 INFO 140185695803200] Epoch[16] Validation-accuracy=0.937500\u001b[0m\n",
      "\u001b[34m[09/17/2023 20:31:18 INFO 140185695803200] Epoch[17] Batch [20]#011Speed: 256.061 samples/sec#011accuracy=0.971726\u001b[0m\n",
      "\u001b[34m[09/17/2023 20:31:19 INFO 140185695803200] Epoch[17] Train-accuracy=0.974798\u001b[0m\n",
      "\u001b[34m[09/17/2023 20:31:19 INFO 140185695803200] Epoch[17] Time cost=3.697\u001b[0m\n",
      "\u001b[34m[09/17/2023 20:31:19 INFO 140185695803200] Epoch[17] Validation-accuracy=0.906250\u001b[0m\n",
      "\u001b[34m[09/17/2023 20:31:22 INFO 140185695803200] Epoch[18] Batch [20]#011Speed: 259.123 samples/sec#011accuracy=0.964286\u001b[0m\n",
      "\u001b[34m[09/17/2023 20:31:24 INFO 140185695803200] Epoch[18] Train-accuracy=0.958669\u001b[0m\n",
      "\u001b[34m[09/17/2023 20:31:24 INFO 140185695803200] Epoch[18] Time cost=3.683\u001b[0m\n",
      "\u001b[34m[09/17/2023 20:31:24 INFO 140185695803200] Epoch[18] Validation-accuracy=0.937500\u001b[0m\n",
      "\u001b[34m[09/17/2023 20:31:27 INFO 140185695803200] Epoch[19] Batch [20]#011Speed: 258.256 samples/sec#011accuracy=0.962798\u001b[0m\n",
      "\u001b[34m[09/17/2023 20:31:28 INFO 140185695803200] Epoch[19] Train-accuracy=0.958669\u001b[0m\n",
      "\u001b[34m[09/17/2023 20:31:28 INFO 140185695803200] Epoch[19] Time cost=3.662\u001b[0m\n",
      "\u001b[34m[09/17/2023 20:31:28 INFO 140185695803200] Epoch[19] Validation-accuracy=0.906250\u001b[0m\n",
      "\u001b[34m[09/17/2023 20:31:31 INFO 140185695803200] Epoch[20] Batch [20]#011Speed: 259.169 samples/sec#011accuracy=0.964286\u001b[0m\n",
      "\u001b[34m[09/17/2023 20:31:33 INFO 140185695803200] Epoch[20] Train-accuracy=0.969758\u001b[0m\n",
      "\u001b[34m[09/17/2023 20:31:33 INFO 140185695803200] Epoch[20] Time cost=3.650\u001b[0m\n",
      "\u001b[34m[09/17/2023 20:31:33 INFO 140185695803200] Epoch[20] Validation-accuracy=0.942708\u001b[0m\n",
      "\u001b[34m[09/17/2023 20:31:36 INFO 140185695803200] Epoch[21] Batch [20]#011Speed: 259.747 samples/sec#011accuracy=0.968750\u001b[0m\n",
      "\u001b[34m[09/17/2023 20:31:37 INFO 140185695803200] Epoch[21] Train-accuracy=0.969758\u001b[0m\n",
      "\u001b[34m[09/17/2023 20:31:37 INFO 140185695803200] Epoch[21] Time cost=3.686\u001b[0m\n",
      "\u001b[34m[09/17/2023 20:31:37 INFO 140185695803200] Epoch[21] Validation-accuracy=0.916667\u001b[0m\n",
      "\u001b[34m[09/17/2023 20:31:40 INFO 140185695803200] Epoch[22] Batch [20]#011Speed: 261.400 samples/sec#011accuracy=0.979167\u001b[0m\n",
      "\u001b[34m[09/17/2023 20:31:42 INFO 140185695803200] Epoch[22] Train-accuracy=0.975806\u001b[0m\n",
      "\u001b[34m[09/17/2023 20:31:42 INFO 140185695803200] Epoch[22] Time cost=3.654\u001b[0m\n",
      "\u001b[34m[09/17/2023 20:31:42 INFO 140185695803200] Epoch[22] Validation-accuracy=0.932292\u001b[0m\n",
      "\u001b[34m[09/17/2023 20:31:45 INFO 140185695803200] Epoch[23] Batch [20]#011Speed: 263.012 samples/sec#011accuracy=0.959821\u001b[0m\n",
      "\u001b[34m[09/17/2023 20:31:46 INFO 140185695803200] Epoch[23] Train-accuracy=0.959677\u001b[0m\n",
      "\u001b[34m[09/17/2023 20:31:46 INFO 140185695803200] Epoch[23] Time cost=3.623\u001b[0m\n",
      "\u001b[34m[09/17/2023 20:31:46 INFO 140185695803200] Epoch[23] Validation-accuracy=0.901786\u001b[0m\n",
      "\u001b[34m[09/17/2023 20:31:50 INFO 140185695803200] Epoch[24] Batch [20]#011Speed: 253.133 samples/sec#011accuracy=0.974702\u001b[0m\n",
      "\u001b[34m[09/17/2023 20:31:51 INFO 140185695803200] Epoch[24] Train-accuracy=0.977823\u001b[0m\n",
      "\u001b[34m[09/17/2023 20:31:51 INFO 140185695803200] Epoch[24] Time cost=3.745\u001b[0m\n",
      "\u001b[34m[09/17/2023 20:31:51 INFO 140185695803200] Epoch[24] Validation-accuracy=0.953125\u001b[0m\n",
      "\u001b[34m[09/17/2023 20:31:54 INFO 140185695803200] Epoch[25] Batch [20]#011Speed: 258.496 samples/sec#011accuracy=0.983631\u001b[0m\n",
      "\u001b[34m[09/17/2023 20:31:55 INFO 140185695803200] Epoch[25] Train-accuracy=0.982863\u001b[0m\n",
      "\u001b[34m[09/17/2023 20:31:55 INFO 140185695803200] Epoch[25] Time cost=3.687\u001b[0m\n",
      "\u001b[34m[09/17/2023 20:31:56 INFO 140185695803200] Epoch[25] Validation-accuracy=0.947917\u001b[0m\n",
      "\u001b[34m[09/17/2023 20:31:56 INFO 140185695803200] Early stopping criteria met.\u001b[0m\n",
      "\n",
      "2023-09-17 20:32:00 Uploading - Uploading generated training model\n",
      "2023-09-17 20:32:26 Completed - Training job completed\n",
      "Training seconds: 343\n",
      "Billable seconds: 343\n"
     ]
    }
   ],
   "source": [
    "##\n",
    "img_classifier_model.fit(inputs = model_inputs)"
   ]
  },
  {
   "cell_type": "markdown",
   "metadata": {},
   "source": [
    "If all goes well, you'll end up with a model topping out above `.8` validation accuracy. With only 1000 training samples in the CIFAR dataset, that's pretty good. We could definitely pursue data augmentation & gathering more samples to help us improve further, but for now let's proceed to deploy our model.\n",
    "\n",
    "## Getting ready to deploy\n",
    "\n",
    "To begin with, let's configure Model Monitor to track our deployment. We'll define a `DataCaptureConfig` below:"
   ]
  },
  {
   "cell_type": "markdown",
   "metadata": {},
   "source": [
    "## Deploying the non-pretrained (Model from scratch)"
   ]
  },
  {
   "cell_type": "code",
   "execution_count": 46,
   "metadata": {},
   "outputs": [],
   "source": [
    "from sagemaker.model_monitor import DataCaptureConfig\n",
    "\n",
    "data_capture_config = DataCaptureConfig(\n",
    "    enable_capture=True,              # Enable Data Capture\n",
    "    sampling_percentage=100,  \n",
    "    destination_s3_uri=f\"s3://{bucket}/data_capture\"\n",
    ")"
   ]
  },
  {
   "cell_type": "markdown",
   "metadata": {},
   "source": [
    "Note the `destination_s3_uri` parameter: At the end of the project, we can explore the `data_capture` directory in S3 to find crucial data about the inputs and outputs Model Monitor has observed on our model endpoint over time.\n",
    "\n",
    "With that done, deploy your model on a single `ml.m5.xlarge` instance with the data capture config attached:"
   ]
  },
  {
   "cell_type": "markdown",
   "metadata": {},
   "source": [
    "## Model from Scratch"
   ]
  },
  {
   "cell_type": "code",
   "execution_count": 39,
   "metadata": {
    "tags": []
   },
   "outputs": [
    {
     "name": "stderr",
     "output_type": "stream",
     "text": [
      "INFO:sagemaker:Creating model with name: image-classification-2023-09-17-19-54-33-592\n",
      "INFO:sagemaker:Creating endpoint-config with name image-classification-2023-09-17-19-54-33-592\n",
      "INFO:sagemaker:Creating endpoint with name image-classification-2023-09-17-19-54-33-592\n"
     ]
    },
    {
     "name": "stdout",
     "output_type": "stream",
     "text": [
      "--------!image-classification-2023-09-17-19-54-33-592\n"
     ]
    }
   ],
   "source": [
    "deployment = img_classifier_model.deploy(\n",
    "    data_capture_config=data_capture_config,\n",
    "    initial_instance_count=1, \n",
    "    instance_type='ml.m5.xlarge'\n",
    "    )\n",
    "\n",
    "endpoint = deployment.endpoint_name\n",
    "print(endpoint)"
   ]
  },
  {
   "cell_type": "markdown",
   "metadata": {},
   "source": [
    "Note the endpoint name for later as well.\n",
    "\n",
    "Next, instantiate a Predictor:"
   ]
  },
  {
   "cell_type": "code",
   "execution_count": 48,
   "metadata": {},
   "outputs": [],
   "source": [
    "from sagemaker.predictor import Predictor\n",
    "\n",
    "predictor = Predictor(endpoint_name = endpoint)"
   ]
  },
  {
   "cell_type": "markdown",
   "metadata": {},
   "source": [
    "In the code snippet below we are going to prepare one of your saved images for prediction. Use the predictor to process the `payload`."
   ]
  },
  {
   "cell_type": "code",
   "execution_count": 49,
   "metadata": {},
   "outputs": [],
   "source": [
    "from sagemaker.serializers import IdentitySerializer\n",
    "import base64\n",
    "\n",
    "predictor.serializer = IdentitySerializer(\"image/png\")\n",
    "with open(\"./test/bicycle_s_001789.png\", \"rb\") as f:\n",
    "    payload = f.read()\n",
    "\n",
    "    \n",
    "inference = predictor.predict(payload)"
   ]
  },
  {
   "cell_type": "markdown",
   "metadata": {
    "tags": []
   },
   "source": [
    "### Inference from Non-Pretrained Model\n",
    "\n",
    "The model from scratch correctly classified the image as a bicycle with an accuracy of $97.1\\%$ "
   ]
  },
  {
   "cell_type": "code",
   "execution_count": 77,
   "metadata": {},
   "outputs": [
    {
     "name": "stdout",
     "output_type": "stream",
     "text": [
      "b'[0.9711561799049377, 0.028843818232417107]'\n"
     ]
    }
   ],
   "source": [
    "print(inference)"
   ]
  },
  {
   "cell_type": "code",
   "execution_count": 42,
   "metadata": {
    "tags": []
   },
   "outputs": [
    {
     "name": "stdout",
     "output_type": "stream",
     "text": [
      "b'[0.805099368095398, 0.19490060210227966]'\n"
     ]
    }
   ],
   "source": [
    "print(inference)"
   ]
  },
  {
   "cell_type": "markdown",
   "metadata": {},
   "source": [
    "## Deploying Pretrained Model\n",
    "\n",
    "The pretrained model correctly classified the image as a bicycle with an accuracy of $98.6\\%$ "
   ]
  },
  {
   "cell_type": "code",
   "execution_count": 109,
   "metadata": {
    "tags": []
   },
   "outputs": [],
   "source": [
    "from sagemaker.model_monitor import DataCaptureConfig\n",
    "\n",
    "data_capture_config = DataCaptureConfig(\n",
    "    enable_capture=True,              # Enable Data Capture\n",
    "    sampling_percentage=100,  \n",
    "    destination_s3_uri=f\"s3://{bucket}/data_capture\"\n",
    ")"
   ]
  },
  {
   "cell_type": "code",
   "execution_count": 110,
   "metadata": {},
   "outputs": [
    {
     "name": "stderr",
     "output_type": "stream",
     "text": [
      "INFO:sagemaker:Creating model with name: image-classification-2023-09-18-01-09-53-400\n",
      "INFO:sagemaker:Creating endpoint-config with name image-classification-2023-09-18-01-09-53-400\n",
      "INFO:sagemaker:Creating endpoint with name image-classification-2023-09-18-01-09-53-400\n"
     ]
    },
    {
     "name": "stdout",
     "output_type": "stream",
     "text": [
      "----------!image-classification-2023-09-18-01-09-53-400\n"
     ]
    }
   ],
   "source": [
    "deployment = img_classifier_model.deploy(\n",
    "    data_capture_config=data_capture_config,\n",
    "    initial_instance_count=1, \n",
    "    instance_type='ml.m5.xlarge'\n",
    "    )\n",
    "\n",
    "endpoint = deployment.endpoint_name\n",
    "print(endpoint)"
   ]
  },
  {
   "cell_type": "code",
   "execution_count": 112,
   "metadata": {},
   "outputs": [],
   "source": [
    "from sagemaker.predictor import Predictor\n",
    "\n",
    "predictor = Predictor(endpoint_name = endpoint)"
   ]
  },
  {
   "cell_type": "code",
   "execution_count": 113,
   "metadata": {},
   "outputs": [],
   "source": [
    "from sagemaker.serializers import IdentitySerializer\n",
    "import base64\n",
    "\n",
    "predictor.serializer = IdentitySerializer(\"image/png\")\n",
    "with open(\"./test/bicycle_s_001789.png\", \"rb\") as f:\n",
    "    payload = f.read()\n",
    "\n",
    "    \n",
    "inference = predictor.predict(payload)"
   ]
  },
  {
   "cell_type": "code",
   "execution_count": 114,
   "metadata": {
    "tags": []
   },
   "outputs": [
    {
     "name": "stdout",
     "output_type": "stream",
     "text": [
      "b'[0.9857717156410217, 0.014228256419301033]'\n"
     ]
    }
   ],
   "source": [
    "print(inference)"
   ]
  },
  {
   "cell_type": "markdown",
   "metadata": {},
   "source": [
    "## Observations\n",
    "\n",
    "- Using a pretrained model increased the prediction power of the model and the accuracy to $98.6\\%$"
   ]
  },
  {
   "cell_type": "markdown",
   "metadata": {},
   "source": [
    "### Draft Lambdas and Step Function Workflow\n",
    "\n",
    "Your operations team uses Step Functions to orchestrate serverless workflows. One of the nice things about Step Functions is that [workflows can call other workflows](https://docs.aws.amazon.com/step-functions/latest/dg/connect-stepfunctions.html), so the team can easily plug your workflow into the broader production architecture for Scones Unlimited.\n",
    "\n",
    "In this next stage you're going to write and deploy three Lambda functions, and then use the Step Functions visual editor to chain them together! Our functions are going to work with a simple data object:\n",
    "\n",
    "```python\n",
    "{\n",
    "    \"s3_bucket\": \"\", \"sagemaker-studio-gertjzq23es\"\n",
    "    \"s3_key\": \"\", # Source data S3 key\n",
    "    \"image_data\": \"\",  # base64 encoded string containing the image data\n",
    "    \"inferences\": [] # Output of predictor.predict\n",
    "}\n",
    "```\n",
    "\n",
    "A good test object that you can use for Lambda tests and Step Function executions, throughout the next section, might look like this:\n",
    "\n",
    "```python\n",
    "{\n",
    "  \"s3_bucket\": MY_BUCKET_NAME, # Fill in with your bucket\n",
    "  \"s3_key\": \"test/bicycle_s_000513.png\",\n",
    "  \"image_data\": \"\"\n",
    "}\n",
    "```\n",
    "\n",
    "Using these fields, your functions can read and write the necessary data to execute your workflow. Let's start with the first function. Your first Lambda function will copy an object from S3, base64 encode it, and then return it to the step function as `image_data` in an event.\n",
    "\n",
    "Go to the Lambda dashboard and create a new Lambda function with a descriptive name like \"serializeImageData\" and select thr 'Python 3.8' runtime. Add the same permissions as the SageMaker role you created earlier. (Reminder: you do this in the Configuration tab under \"Permissions\"). Once you're ready, use the starter code below to craft your Lambda handler:\n",
    "\n",
    "```python\n",
    "import json\n",
    "import boto3\n",
    "import base64\n",
    "\n",
    "s3 = boto3.client('s3')\n",
    "\n",
    "def lambda_handler(event, context):\n",
    "    \"\"\"A function to serialize target data from S3\"\"\"\n",
    "    #Get the s3 address from the Step Function event input (You may also check lambda test)\n",
    "    key = event['s3_key']                               ## TODO: fill in\n",
    "    bucket = event['s3_bucket']                         ## TODO: fill in\n",
    "    \n",
    "    # Download the data from s3 to /tmp/image.png\n",
    "    ## TODO: fill in\n",
    "    s3.download_file(bucket, key, \"/tmp/image.png\")\n",
    "    \n",
    "    # We read the data from a file\n",
    "    with open(\"/tmp/image.png\", \"rb\") as f:\n",
    "        image_data = base64.b64encode(f.read())\n",
    "\n",
    "    # Pass the data back to the Step Function\n",
    "    print(\"Event:\", event.keys())\n",
    "    return {\n",
    "        'statusCode': 200,\n",
    "        'body': {\n",
    "            \"s3_bucket\": bucket,\n",
    "            \"s3_key\": key,\n",
    "            \"image_data\": image_data,\n",
    "            \"inferences\": []\n",
    "        }\n",
    "    }\n",
    "```\n",
    "\n",
    "The next function is responsible for the classification part - we're going to take the image output from the previous function, decode it, and then pass inferences back to the the Step Function.\n",
    "\n",
    "Because this Lambda will have runtime dependencies (i.e. the SageMaker SDK) you'll need to package them in your function. *Key reading:* https://docs.aws.amazon.com/lambda/latest/dg/python-package-create.html#python-package-create-with-dependency\n",
    "\n",
    "Create a new Lambda function with the same rights and a descriptive name, then fill in the starter code below for your classifier Lambda.\n",
    "\n",
    "```python\n",
    "import json\n",
    "import sagemaker\n",
    "import base64\n",
    "from sagemaker.serializers import IdentitySerializer\n",
    "\n",
    "# Fill this in with the name of your deployed model\n",
    "ENDPOINT = ## TODO: fill in\n",
    "\n",
    "def lambda_handler(event, context):\n",
    "\n",
    "    # Decode the image data\n",
    "    image = base64.b64decode(## TODO: fill in)\n",
    "\n",
    "    # Instantiate a Predictor\n",
    "    predictor = ## TODO: fill in\n",
    "\n",
    "    # For this model the IdentitySerializer needs to be \"image/png\"\n",
    "    predictor.serializer = IdentitySerializer(\"image/png\")\n",
    "    \n",
    "    # Make a prediction:\n",
    "    inferences = ## TODO: fill in\n",
    "    \n",
    "    # We return the data back to the Step Function    \n",
    "    event[\"body\"][\"inferences\"] = inferences.decode('utf-8')\n",
    "    return {\n",
    "        'statusCode': 200,\n",
    "        'body': json.dumps(event[\"body\"])\n",
    "    }\n",
    "```\n",
    "\n",
    "Finally, we need to filter low-confidence inferences. Define a threshold between 1.00 and 0.000 for your model: what is reasonble for you? If the model predicts at `.70` for it's highest confidence label, do we want to pass that inference along to downstream systems? Make one last Lambda function and tee up the same permissions:\n",
    "\n",
    "```python\n",
    "import json\n",
    "\n",
    "\n",
    "THRESHOLD = .93\n",
    "\n",
    "\n",
    "def lambda_handler(event, context):\n",
    "    \n",
    "    # Grab the inferences from the event\n",
    "    inferences = ## TODO: fill in\n",
    "    \n",
    "    # Check if any values in our inferences are above THRESHOLD\n",
    "    meets_threshold = ## TODO: fill in\n",
    "    \n",
    "    # If our threshold is met, pass our data back out of the\n",
    "    # Step Function, else, end the Step Function with an error\n",
    "    if meets_threshold:\n",
    "        pass\n",
    "    else:\n",
    "        raise(\"THRESHOLD_CONFIDENCE_NOT_MET\")\n",
    "\n",
    "    return {\n",
    "        'statusCode': 200,\n",
    "        'body': json.dumps(event[\"body\"])\n",
    "    }\n",
    "```\n",
    "Once you have tested the lambda functions, save the code for each lambda function in a python script called 'lambda.py'.\n",
    "\n",
    "With your lambdas in place, you can use the Step Functions visual editor to construct a workflow that chains them together. In the Step Functions console you'll have the option to author a Standard step function *Visually*.\n",
    "\n",
    "When the visual editor opens, you'll have many options to add transitions in your workflow. We're going to keep it simple and have just one: to invoke Lambda functions. Add three of them chained together. For each one, you'll be able to select the Lambda functions you just created in the proper order, filter inputs and outputs, and give them descriptive names.\n",
    "\n",
    "Make sure that you:\n",
    "\n",
    "1. Are properly filtering the inputs and outputs of your invokations (e.g. `$.body`)\n",
    "2. Take care to remove the error handling from the last function - it's supposed to \"fail loudly\" for your operations colleagues!\n",
    "\n",
    "Take a screenshot of your working step function in action and export the step function as JSON for your submission package."
   ]
  },
  {
   "cell_type": "markdown",
   "metadata": {},
   "source": [
    "\n",
    "Great! Now you can use the files in `./test` as test files for our workflow. Depending on our threshold, our workflow should reliably pass predictions about images from `./test` on to downstream systems, while erroring out for inferences below our confidence threshold!\n",
    "\n",
    "### Testing and Evaluation\n",
    "\n",
    "Do several step function invokations using data from the `./test` folder. This process should give you confidence that the workflow both *succeeds* AND *fails* as expected. In addition, SageMaker Model Monitor will generate recordings of your data and inferences which we can visualize.\n",
    "\n",
    "Here's a function that can help you generate test inputs for your invokations:"
   ]
  },
  {
   "cell_type": "code",
   "execution_count": 142,
   "metadata": {},
   "outputs": [
    {
     "data": {
      "text/plain": [
       "'{\"image_data\": \"\", \"s3_bucket\": \"sagemaker-studio-gertjzq23es\", \"s3_key\": \"test/motorcycle_s_000876.png\"}'"
      ]
     },
     "execution_count": 142,
     "metadata": {},
     "output_type": "execute_result"
    }
   ],
   "source": [
    "import random\n",
    "import boto3\n",
    "import json\n",
    "\n",
    "\n",
    "def generate_test_case():\n",
    "    # Setup s3 in boto3\n",
    "    s3 = boto3.resource('s3')\n",
    "\n",
    "    \n",
    "    # Randomly pick from sfn or test folders in our bucket\n",
    "    objects = s3.Bucket(bucket).objects.filter(Prefix = \"test/\")\n",
    "    \n",
    "    # Grab any random object key from that folder!\n",
    "    obj = random.choice([x.key for x in objects])\n",
    "    \n",
    "    return json.dumps({\n",
    "        \"image_data\": \"\",\n",
    "        \"s3_bucket\": bucket,\n",
    "        \"s3_key\": obj\n",
    "    })\n",
    "generate_test_case()"
   ]
  },
  {
   "cell_type": "markdown",
   "metadata": {},
   "source": [
    "In the Step Function dashboard for your new function, you can create new executions and copy in the generated test cases. Do several executions so that you can generate data you can evaluate and visualize.\n",
    "\n",
    "Once you've done several executions, let's visualize the record of our inferences. Pull in the JSONLines data from your inferences like so:"
   ]
  },
  {
   "cell_type": "code",
   "execution_count": 143,
   "metadata": {},
   "outputs": [
    {
     "data": {
      "text/plain": [
       "['captured_data/09/17/20/55-49-673-be26e93c-c8d1-4111-9fc7-63b175b2714d.jsonl',\n",
       " 'captured_data/09/17/21/08-33-977-2cc1e145-2ad1-48a7-8804-f458847c121a.jsonl',\n",
       " 'captured_data/09/17/23/50-07-176-9d370057-06cd-4294-90eb-0aa27618c72d.jsonl',\n",
       " 'captured_data/09/17/23/52-33-486-5a879d60-61a5-478a-a187-9b818e1bbf50.jsonl',\n",
       " 'captured_data/09/18/01/08-06-948-c01b5325-4ceb-4c14-ba03-c77e620ad086.jsonl',\n",
       " 'captured_data/09/18/01/19-16-167-d2ae569b-8006-42f8-96a5-67aab8348526.jsonl',\n",
       " 'captured_data/09/18/01/24-54-828-8c8841d7-f22e-4a3e-9315-31976fc49035.jsonl',\n",
       " 'captured_data/09/18/01/26-04-283-b4f847cf-0cad-436b-89b8-5490ce568a05.jsonl',\n",
       " 'captured_data/09/18/01/29-56-986-1c8b6039-1622-4cf1-a018-65ff531bab98.jsonl',\n",
       " 'captured_data/09/18/01/31-11-754-2ca0cd05-3791-42f4-81ab-330899d53d19.jsonl',\n",
       " 'captured_data/09/18/01/32-13-136-f6b4b8d4-02f6-429f-8e83-ddcc28fe5079.jsonl',\n",
       " 'captured_data/09/18/02/01-23-024-fcd2fc89-d2c4-415c-a465-c8f1facfb97f.jsonl',\n",
       " 'captured_data/09/18/02/08-47-148-fcec1124-db16-4619-a41c-17eca5b3529c.jsonl']"
      ]
     },
     "execution_count": 143,
     "metadata": {},
     "output_type": "execute_result"
    }
   ],
   "source": [
    "from sagemaker.s3 import S3Downloader\n",
    "\n",
    "s3 = boto3.resource('s3')\n",
    "# In S3 your data will be saved to a datetime-aware path\n",
    "# Find a path related to a datetime you're interested in\n",
    "s3_bucket = bucket\n",
    "data_path = f\"s3://{s3_bucket}/data_capture/image-classification-2023-09-17-20-47-50-590/AllTraffic/2023/\"\n",
    "\n",
    "S3Downloader.download(data_path, \"captured_data\")\n",
    "\n",
    "# Feel free to repeat this multiple times and pull in more data"
   ]
  },
  {
   "cell_type": "markdown",
   "metadata": {},
   "source": [
    "The data are in JSONLines format, where multiple valid JSON objects are stacked on top of eachother in a single `jsonl` file. We'll import an open-source library, `jsonlines` that was purpose built for parsing this format."
   ]
  },
  {
   "cell_type": "code",
   "execution_count": 144,
   "metadata": {},
   "outputs": [
    {
     "name": "stdout",
     "output_type": "stream",
     "text": [
      "Requirement already satisfied: jsonlines in /opt/conda/lib/python3.7/site-packages (3.1.0)\n",
      "Requirement already satisfied: attrs>=19.2.0 in /opt/conda/lib/python3.7/site-packages (from jsonlines) (23.1.0)\n",
      "Requirement already satisfied: typing-extensions in /opt/conda/lib/python3.7/site-packages (from jsonlines) (4.7.1)\n",
      "Requirement already satisfied: importlib-metadata in /opt/conda/lib/python3.7/site-packages (from attrs>=19.2.0->jsonlines) (6.7.0)\n",
      "Requirement already satisfied: zipp>=0.5 in /opt/conda/lib/python3.7/site-packages (from importlib-metadata->attrs>=19.2.0->jsonlines) (2.2.0)\n",
      "\u001b[33mDEPRECATION: pyodbc 4.0.0-unsupported has a non-standard version number. pip 23.3 will enforce this behaviour change. A possible replacement is to upgrade to a newer version of pyodbc or contact the author to suggest that they release a version with a conforming version number. Discussion can be found at https://github.com/pypa/pip/issues/12063\u001b[0m\u001b[33m\n",
      "\u001b[0m\u001b[33mWARNING: Running pip as the 'root' user can result in broken permissions and conflicting behaviour with the system package manager. It is recommended to use a virtual environment instead: https://pip.pypa.io/warnings/venv\u001b[0m\u001b[33m\n",
      "\u001b[0m"
     ]
    }
   ],
   "source": [
    "!pip install jsonlines\n",
    "import jsonlines"
   ]
  },
  {
   "cell_type": "markdown",
   "metadata": {},
   "source": [
    "Now we can extract the data from each of the source files:"
   ]
  },
  {
   "cell_type": "code",
   "execution_count": 145,
   "metadata": {},
   "outputs": [],
   "source": [
    "import os\n",
    "\n",
    "# List the file names we downloaded\n",
    "file_handles = []\n",
    "for root, subFolders, files in os.walk(\"./captured_data\"):\n",
    "    if files:\n",
    "        file_handles += [root + '/' + file for file in files]\n",
    "\n",
    "# Dump all the data into an array\n",
    "json_data = []\n",
    "for jsonl in file_handles:\n",
    "    with jsonlines.open(jsonl) as f:\n",
    "        json_data.append(f.read())"
   ]
  },
  {
   "cell_type": "markdown",
   "metadata": {},
   "source": [
    "The data should now be a list of dictionaries, with significant nesting. We'll give you an example of some code that grabs data out of the objects and visualizes it:"
   ]
  },
  {
   "cell_type": "code",
   "execution_count": 146,
   "metadata": {},
   "outputs": [
    {
     "data": {
      "text/plain": [
       "([0.9857717156410217, 0.014228256419301033], '2023-09-17T20:55:49Z')"
      ]
     },
     "execution_count": 146,
     "metadata": {},
     "output_type": "execute_result"
    }
   ],
   "source": [
    "# Define how we'll get our data\n",
    "def simple_getter(obj):\n",
    "    inferences = obj[\"captureData\"][\"endpointOutput\"][\"data\"]\n",
    "    timestamp = obj[\"eventMetadata\"][\"inferenceTime\"]\n",
    "    return json.loads(inferences), timestamp\n",
    "\n",
    "simple_getter(json_data[0])"
   ]
  },
  {
   "cell_type": "markdown",
   "metadata": {},
   "source": [
    "Finally, here's an example of a visualization you can build with this data. In this last part, you will take some time and build your own - the captured data has the input images, the resulting inferences, and the timestamps."
   ]
  },
  {
   "cell_type": "code",
   "execution_count": 147,
   "metadata": {},
   "outputs": [
    {
     "name": "stderr",
     "output_type": "stream",
     "text": [
      "INFO:matplotlib.category:Using categorical units to plot a list of strings that are all parsable as floats or dates. If these strings should be plotted as numbers, cast to the appropriate data type before plotting.\n",
      "INFO:matplotlib.category:Using categorical units to plot a list of strings that are all parsable as floats or dates. If these strings should be plotted as numbers, cast to the appropriate data type before plotting.\n"
     ]
    },
    {
     "data": {
      "image/png": "[encoded data removed]",
      "text/plain": [
       "<Figure size 640x480 with 1 Axes>"
      ]
     },
     "metadata": {},
     "output_type": "display_data"
    }
   ],
   "source": [
    "# Populate the data for the x and y axis\n",
    "x = []\n",
    "y = []\n",
    "for obj in json_data:\n",
    "    inference, timestamp = simple_getter(obj)\n",
    "    \n",
    "    y.append(max(inference))\n",
    "    x.append(timestamp)\n",
    "\n",
    "# Todo: here is an visualization example, take some time to build another visual that helps monitor the result\n",
    "# Plot the data\n",
    "plt.scatter(x, y, c=['r' if k<.94 else 'b' for k in y ])\n",
    "plt.axhline(y=0.94, color='g', linestyle='--')\n",
    "plt.ylim(bottom=.88)\n",
    "\n",
    "# Add labels\n",
    "plt.ylabel(\"Confidence\")\n",
    "plt.suptitle(\"Observed Recent Inferences\", size=14)\n",
    "plt.title(\"Pictured with confidence threshold for production use\", size=10)\n",
    "\n",
    "# Give it some pizzaz!\n",
    "plt.style.use(\"Solarize_Light2\")\n",
    "plt.gcf().autofmt_xdate()"
   ]
  },
  {
   "cell_type": "markdown",
   "metadata": {},
   "source": [
    "### Visualization\n",
    "\n",
    "In the visualisation below, date is sorted in increasing order\n"
   ]
  },
  {
   "cell_type": "code",
   "execution_count": 173,
   "metadata": {
    "tags": []
   },
   "outputs": [
    {
     "name": "stderr",
     "output_type": "stream",
     "text": [
      "INFO:matplotlib.category:Using categorical units to plot a list of strings that are all parsable as floats or dates. If these strings should be plotted as numbers, cast to the appropriate data type before plotting.\n",
      "INFO:matplotlib.category:Using categorical units to plot a list of strings that are all parsable as floats or dates. If these strings should be plotted as numbers, cast to the appropriate data type before plotting.\n"
     ]
    },
    {
     "data": {
      "image/png": "[encoded data removed]",
      "text/plain": [
       "<Figure size 640x480 with 1 Axes>"
      ]
     },
     "metadata": {},
     "output_type": "display_data"
    }
   ],
   "source": [
    "# Populate the data for the x and y axis\n",
    "x = []\n",
    "y = []\n",
    "for obj in json_data:\n",
    "    inference, timestamp = simple_getter(obj)\n",
    "    \n",
    "    y.append(max(inference))\n",
    "    x.append(timestamp)\n",
    "\n",
    "# Sort the data by timestamp\n",
    "sorted_indices = sorted(range(len(x)), key=lambda k: x[k])\n",
    "x = [x[i] for i in sorted_indices]\n",
    "y = [y[i] for i in sorted_indices]\n",
    "\n",
    "# Plot the data with lines connecting points based on increasing dates\n",
    "plt.plot(x, y, marker='o', color='b', linestyle='--', )\n",
    "\n",
    "# Add a horizontal line for the threshold\n",
    "plt.axhline(y=0.94, color='r', linestyle='--')\n",
    "\n",
    "# Set the y-axis limit and add labels\n",
    "plt.ylim(bottom=0.88)\n",
    "plt.ylabel(\"Confidence\")\n",
    "plt.xlabel(\"Timestamp\")\n",
    "plt.xticks(rotation = 90)\n",
    "\n",
    "# Set the title\n",
    "plt.suptitle(\"Observed Recent Inferences\", size=14)\n",
    "plt.title(\"Pictured with confidence threshold for production use\", size=10)\n",
    "\n",
    "# Show the plot\n",
    "plt.show()\n"
   ]
  },
  {
   "cell_type": "markdown",
   "metadata": {},
   "source": [
    "### Congratulations!\n",
    "\n",
    "You've reached the end of the project. In this project you created an event-drivent ML workflow that can be incorporated into the Scones Unlimited production architecture. You used the SageMaker Estimator API to deploy your SageMaker Model and Endpoint, and you used AWS Lambda and Step Functions to orchestrate your ML workflow. Using SageMaker Model Monitor, you instrumented and observed your Endpoint, and at the end of the project you built a visualization to help stakeholders understand the performance of the Endpoint over time. If you're up for it, you can even go further with these stretch goals:\n",
    "\n",
    "* Extend your workflow to incorporate more classes: the CIFAR dataset includes other vehicles that Scones Unlimited can identify with this model.\n",
    "* Modify your event driven workflow: can you rewrite your Lambda functions so that the workflow can process multiple image inputs in parallel? Can the Step Function \"fan out\" to accomodate this new workflow?\n",
    "* Consider the test data generator we provided for you. Can we use it to create a \"dummy data\" generator, to simulate a continuous stream of input data? Or a big paralell load of data?\n",
    "* What if we want to get notified every time our step function errors out? Can we use the Step Functions visual editor in conjunction with a service like SNS to accomplish this? Try it out!\n",
    "\n",
    "\n"
   ]
  }
 ],
 "metadata": {
  "availableInstances": [
   {
    "_defaultOrder": 0,
    "_isFastLaunch": true,
    "category": "General purpose",
    "gpuNum": 0,
    "hideHardwareSpecs": false,
    "memoryGiB": 4,
    "name": "ml.t3.medium",
    "vcpuNum": 2
   },
   {
    "_defaultOrder": 1,
    "_isFastLaunch": false,
    "category": "General purpose",
    "gpuNum": 0,
    "hideHardwareSpecs": false,
    "memoryGiB": 8,
    "name": "ml.t3.large",
    "vcpuNum": 2
   },
   {
    "_defaultOrder": 2,
    "_isFastLaunch": false,
    "category": "General purpose",
    "gpuNum": 0,
    "hideHardwareSpecs": false,
    "memoryGiB": 16,
    "name": "ml.t3.xlarge",
    "vcpuNum": 4
   },
   {
    "_defaultOrder": 3,
    "_isFastLaunch": false,
    "category": "General purpose",
    "gpuNum": 0,
    "hideHardwareSpecs": false,
    "memoryGiB": 32,
    "name": "ml.t3.2xlarge",
    "vcpuNum": 8
   },
   {
    "_defaultOrder": 4,
    "_isFastLaunch": true,
    "category": "General purpose",
    "gpuNum": 0,
    "hideHardwareSpecs": false,
    "memoryGiB": 8,
    "name": "ml.m5.large",
    "vcpuNum": 2
   },
   {
    "_defaultOrder": 5,
    "_isFastLaunch": false,
    "category": "General purpose",
    "gpuNum": 0,
    "hideHardwareSpecs": false,
    "memoryGiB": 16,
    "name": "ml.m5.xlarge",
    "vcpuNum": 4
   },
   {
    "_defaultOrder": 6,
    "_isFastLaunch": false,
    "category": "General purpose",
    "gpuNum": 0,
    "hideHardwareSpecs": false,
    "memoryGiB": 32,
    "name": "ml.m5.2xlarge",
    "vcpuNum": 8
   },
   {
    "_defaultOrder": 7,
    "_isFastLaunch": false,
    "category": "General purpose",
    "gpuNum": 0,
    "hideHardwareSpecs": false,
    "memoryGiB": 64,
    "name": "ml.m5.4xlarge",
    "vcpuNum": 16
   },
   {
    "_defaultOrder": 8,
    "_isFastLaunch": false,
    "category": "General purpose",
    "gpuNum": 0,
    "hideHardwareSpecs": false,
    "memoryGiB": 128,
    "name": "ml.m5.8xlarge",
    "vcpuNum": 32
   },
   {
    "_defaultOrder": 9,
    "_isFastLaunch": false,
    "category": "General purpose",
    "gpuNum": 0,
    "hideHardwareSpecs": false,
    "memoryGiB": 192,
    "name": "ml.m5.12xlarge",
    "vcpuNum": 48
   },
   {
    "_defaultOrder": 10,
    "_isFastLaunch": false,
    "category": "General purpose",
    "gpuNum": 0,
    "hideHardwareSpecs": false,
    "memoryGiB": 256,
    "name": "ml.m5.16xlarge",
    "vcpuNum": 64
   },
   {
    "_defaultOrder": 11,
    "_isFastLaunch": false,
    "category": "General purpose",
    "gpuNum": 0,
    "hideHardwareSpecs": false,
    "memoryGiB": 384,
    "name": "ml.m5.24xlarge",
    "vcpuNum": 96
   },
   {
    "_defaultOrder": 12,
    "_isFastLaunch": false,
    "category": "General purpose",
    "gpuNum": 0,
    "hideHardwareSpecs": false,
    "memoryGiB": 8,
    "name": "ml.m5d.large",
    "vcpuNum": 2
   },
   {
    "_defaultOrder": 13,
    "_isFastLaunch": false,
    "category": "General purpose",
    "gpuNum": 0,
    "hideHardwareSpecs": false,
    "memoryGiB": 16,
    "name": "ml.m5d.xlarge",
    "vcpuNum": 4
   },
   {
    "_defaultOrder": 14,
    "_isFastLaunch": false,
    "category": "General purpose",
    "gpuNum": 0,
    "hideHardwareSpecs": false,
    "memoryGiB": 32,
    "name": "ml.m5d.2xlarge",
    "vcpuNum": 8
   },
   {
    "_defaultOrder": 15,
    "_isFastLaunch": false,
    "category": "General purpose",
    "gpuNum": 0,
    "hideHardwareSpecs": false,
    "memoryGiB": 64,
    "name": "ml.m5d.4xlarge",
    "vcpuNum": 16
   },
   {
    "_defaultOrder": 16,
    "_isFastLaunch": false,
    "category": "General purpose",
    "gpuNum": 0,
    "hideHardwareSpecs": false,
    "memoryGiB": 128,
    "name": "ml.m5d.8xlarge",
    "vcpuNum": 32
   },
   {
    "_defaultOrder": 17,
    "_isFastLaunch": false,
    "category": "General purpose",
    "gpuNum": 0,
    "hideHardwareSpecs": false,
    "memoryGiB": 192,
    "name": "ml.m5d.12xlarge",
    "vcpuNum": 48
   },
   {
    "_defaultOrder": 18,
    "_isFastLaunch": false,
    "category": "General purpose",
    "gpuNum": 0,
    "hideHardwareSpecs": false,
    "memoryGiB": 256,
    "name": "ml.m5d.16xlarge",
    "vcpuNum": 64
   },
   {
    "_defaultOrder": 19,
    "_isFastLaunch": false,
    "category": "General purpose",
    "gpuNum": 0,
    "hideHardwareSpecs": false,
    "memoryGiB": 384,
    "name": "ml.m5d.24xlarge",
    "vcpuNum": 96
   },
   {
    "_defaultOrder": 20,
    "_isFastLaunch": false,
    "category": "General purpose",
    "gpuNum": 0,
    "hideHardwareSpecs": true,
    "memoryGiB": 0,
    "name": "ml.geospatial.interactive",
    "supportedImageNames": [
     "sagemaker-geospatial-v1-0"
    ],
    "vcpuNum": 0
   },
   {
    "_defaultOrder": 21,
    "_isFastLaunch": true,
    "category": "Compute optimized",
    "gpuNum": 0,
    "hideHardwareSpecs": false,
    "memoryGiB": 4,
    "name": "ml.c5.large",
    "vcpuNum": 2
   },
   {
    "_defaultOrder": 22,
    "_isFastLaunch": false,
    "category": "Compute optimized",
    "gpuNum": 0,
    "hideHardwareSpecs": false,
    "memoryGiB": 8,
    "name": "ml.c5.xlarge",
    "vcpuNum": 4
   },
   {
    "_defaultOrder": 23,
    "_isFastLaunch": false,
    "category": "Compute optimized",
    "gpuNum": 0,
    "hideHardwareSpecs": false,
    "memoryGiB": 16,
    "name": "ml.c5.2xlarge",
    "vcpuNum": 8
   },
   {
    "_defaultOrder": 24,
    "_isFastLaunch": false,
    "category": "Compute optimized",
    "gpuNum": 0,
    "hideHardwareSpecs": false,
    "memoryGiB": 32,
    "name": "ml.c5.4xlarge",
    "vcpuNum": 16
   },
   {
    "_defaultOrder": 25,
    "_isFastLaunch": false,
    "category": "Compute optimized",
    "gpuNum": 0,
    "hideHardwareSpecs": false,
    "memoryGiB": 72,
    "name": "ml.c5.9xlarge",
    "vcpuNum": 36
   },
   {
    "_defaultOrder": 26,
    "_isFastLaunch": false,
    "category": "Compute optimized",
    "gpuNum": 0,
    "hideHardwareSpecs": false,
    "memoryGiB": 96,
    "name": "ml.c5.12xlarge",
    "vcpuNum": 48
   },
   {
    "_defaultOrder": 27,
    "_isFastLaunch": false,
    "category": "Compute optimized",
    "gpuNum": 0,
    "hideHardwareSpecs": false,
    "memoryGiB": 144,
    "name": "ml.c5.18xlarge",
    "vcpuNum": 72
   },
   {
    "_defaultOrder": 28,
    "_isFastLaunch": false,
    "category": "Compute optimized",
    "gpuNum": 0,
    "hideHardwareSpecs": false,
    "memoryGiB": 192,
    "name": "ml.c5.24xlarge",
    "vcpuNum": 96
   },
   {
    "_defaultOrder": 29,
    "_isFastLaunch": true,
    "category": "Accelerated computing",
    "gpuNum": 1,
    "hideHardwareSpecs": false,
    "memoryGiB": 16,
    "name": "ml.g4dn.xlarge",
    "vcpuNum": 4
   },
   {
    "_defaultOrder": 30,
    "_isFastLaunch": false,
    "category": "Accelerated computing",
    "gpuNum": 1,
    "hideHardwareSpecs": false,
    "memoryGiB": 32,
    "name": "ml.g4dn.2xlarge",
    "vcpuNum": 8
   },
   {
    "_defaultOrder": 31,
    "_isFastLaunch": false,
    "category": "Accelerated computing",
    "gpuNum": 1,
    "hideHardwareSpecs": false,
    "memoryGiB": 64,
    "name": "ml.g4dn.4xlarge",
    "vcpuNum": 16
   },
   {
    "_defaultOrder": 32,
    "_isFastLaunch": false,
    "category": "Accelerated computing",
    "gpuNum": 1,
    "hideHardwareSpecs": false,
    "memoryGiB": 128,
    "name": "ml.g4dn.8xlarge",
    "vcpuNum": 32
   },
   {
    "_defaultOrder": 33,
    "_isFastLaunch": false,
    "category": "Accelerated computing",
    "gpuNum": 4,
    "hideHardwareSpecs": false,
    "memoryGiB": 192,
    "name": "ml.g4dn.12xlarge",
    "vcpuNum": 48
   },
   {
    "_defaultOrder": 34,
    "_isFastLaunch": false,
    "category": "Accelerated computing",
    "gpuNum": 1,
    "hideHardwareSpecs": false,
    "memoryGiB": 256,
    "name": "ml.g4dn.16xlarge",
    "vcpuNum": 64
   },
   {
    "_defaultOrder": 35,
    "_isFastLaunch": false,
    "category": "Accelerated computing",
    "gpuNum": 1,
    "hideHardwareSpecs": false,
    "memoryGiB": 61,
    "name": "ml.p3.2xlarge",
    "vcpuNum": 8
   },
   {
    "_defaultOrder": 36,
    "_isFastLaunch": false,
    "category": "Accelerated computing",
    "gpuNum": 4,
    "hideHardwareSpecs": false,
    "memoryGiB": 244,
    "name": "ml.p3.8xlarge",
    "vcpuNum": 32
   },
   {
    "_defaultOrder": 37,
    "_isFastLaunch": false,
    "category": "Accelerated computing",
    "gpuNum": 8,
    "hideHardwareSpecs": false,
    "memoryGiB": 488,
    "name": "ml.p3.16xlarge",
    "vcpuNum": 64
   },
   {
    "_defaultOrder": 38,
    "_isFastLaunch": false,
    "category": "Accelerated computing",
    "gpuNum": 8,
    "hideHardwareSpecs": false,
    "memoryGiB": 768,
    "name": "ml.p3dn.24xlarge",
    "vcpuNum": 96
   },
   {
    "_defaultOrder": 39,
    "_isFastLaunch": false,
    "category": "Memory Optimized",
    "gpuNum": 0,
    "hideHardwareSpecs": false,
    "memoryGiB": 16,
    "name": "ml.r5.large",
    "vcpuNum": 2
   },
   {
    "_defaultOrder": 40,
    "_isFastLaunch": false,
    "category": "Memory Optimized",
    "gpuNum": 0,
    "hideHardwareSpecs": false,
    "memoryGiB": 32,
    "name": "ml.r5.xlarge",
    "vcpuNum": 4
   },
   {
    "_defaultOrder": 41,
    "_isFastLaunch": false,
    "category": "Memory Optimized",
    "gpuNum": 0,
    "hideHardwareSpecs": false,
    "memoryGiB": 64,
    "name": "ml.r5.2xlarge",
    "vcpuNum": 8
   },
   {
    "_defaultOrder": 42,
    "_isFastLaunch": false,
    "category": "Memory Optimized",
    "gpuNum": 0,
    "hideHardwareSpecs": false,
    "memoryGiB": 128,
    "name": "ml.r5.4xlarge",
    "vcpuNum": 16
   },
   {
    "_defaultOrder": 43,
    "_isFastLaunch": false,
    "category": "Memory Optimized",
    "gpuNum": 0,
    "hideHardwareSpecs": false,
    "memoryGiB": 256,
    "name": "ml.r5.8xlarge",
    "vcpuNum": 32
   },
   {
    "_defaultOrder": 44,
    "_isFastLaunch": false,
    "category": "Memory Optimized",
    "gpuNum": 0,
    "hideHardwareSpecs": false,
    "memoryGiB": 384,
    "name": "ml.r5.12xlarge",
    "vcpuNum": 48
   },
   {
    "_defaultOrder": 45,
    "_isFastLaunch": false,
    "category": "Memory Optimized",
    "gpuNum": 0,
    "hideHardwareSpecs": false,
    "memoryGiB": 512,
    "name": "ml.r5.16xlarge",
    "vcpuNum": 64
   },
   {
    "_defaultOrder": 46,
    "_isFastLaunch": false,
    "category": "Memory Optimized",
    "gpuNum": 0,
    "hideHardwareSpecs": false,
    "memoryGiB": 768,
    "name": "ml.r5.24xlarge",
    "vcpuNum": 96
   },
   {
    "_defaultOrder": 47,
    "_isFastLaunch": false,
    "category": "Accelerated computing",
    "gpuNum": 1,
    "hideHardwareSpecs": false,
    "memoryGiB": 16,
    "name": "ml.g5.xlarge",
    "vcpuNum": 4
   },
   {
    "_defaultOrder": 48,
    "_isFastLaunch": false,
    "category": "Accelerated computing",
    "gpuNum": 1,
    "hideHardwareSpecs": false,
    "memoryGiB": 32,
    "name": "ml.g5.2xlarge",
    "vcpuNum": 8
   },
   {
    "_defaultOrder": 49,
    "_isFastLaunch": false,
    "category": "Accelerated computing",
    "gpuNum": 1,
    "hideHardwareSpecs": false,
    "memoryGiB": 64,
    "name": "ml.g5.4xlarge",
    "vcpuNum": 16
   },
   {
    "_defaultOrder": 50,
    "_isFastLaunch": false,
    "category": "Accelerated computing",
    "gpuNum": 1,
    "hideHardwareSpecs": false,
    "memoryGiB": 128,
    "name": "ml.g5.8xlarge",
    "vcpuNum": 32
   },
   {
    "_defaultOrder": 51,
    "_isFastLaunch": false,
    "category": "Accelerated computing",
    "gpuNum": 1,
    "hideHardwareSpecs": false,
    "memoryGiB": 256,
    "name": "ml.g5.16xlarge",
    "vcpuNum": 64
   },
   {
    "_defaultOrder": 52,
    "_isFastLaunch": false,
    "category": "Accelerated computing",
    "gpuNum": 4,
    "hideHardwareSpecs": false,
    "memoryGiB": 192,
    "name": "ml.g5.12xlarge",
    "vcpuNum": 48
   },
   {
    "_defaultOrder": 53,
    "_isFastLaunch": false,
    "category": "Accelerated computing",
    "gpuNum": 4,
    "hideHardwareSpecs": false,
    "memoryGiB": 384,
    "name": "ml.g5.24xlarge",
    "vcpuNum": 96
   },
   {
    "_defaultOrder": 54,
    "_isFastLaunch": false,
    "category": "Accelerated computing",
    "gpuNum": 8,
    "hideHardwareSpecs": false,
    "memoryGiB": 768,
    "name": "ml.g5.48xlarge",
    "vcpuNum": 192
   },
   {
    "_defaultOrder": 55,
    "_isFastLaunch": false,
    "category": "Accelerated computing",
    "gpuNum": 8,
    "hideHardwareSpecs": false,
    "memoryGiB": 1152,
    "name": "ml.p4d.24xlarge",
    "vcpuNum": 96
   },
   {
    "_defaultOrder": 56,
    "_isFastLaunch": false,
    "category": "Accelerated computing",
    "gpuNum": 8,
    "hideHardwareSpecs": false,
    "memoryGiB": 1152,
    "name": "ml.p4de.24xlarge",
    "vcpuNum": 96
   }
  ],
  "instance_type": "ml.t3.medium",
  "kernelspec": {
   "display_name": "Python 3 (Data Science)",
   "language": "python",
   "name": "python3__SAGEMAKER_INTERNAL__arn:aws:sagemaker:us-east-1:081325390199:image/datascience-1.0"
  },
  "language_info": {
   "codemirror_mode": {
    "name": "ipython",
    "version": 3
   },
   "file_extension": ".py",
   "mimetype": "text/x-python",
   "name": "python",
   "nbconvert_exporter": "python",
   "pygments_lexer": "ipython3",
   "version": "3.7.10"
  }
 },
 "nbformat": 4,
 "nbformat_minor": 4
}
